{
  "cells": [
    {
      "cell_type": "markdown",
      "id": "8db775ef",
      "metadata": {
        "id": "8db775ef"
      },
      "source": [
        "# Phase 1- Summarizing Terms and Conditions\n",
        "### Group No.: 23"
      ]
    },
    {
      "cell_type": "markdown",
      "id": "07d68ba6",
      "metadata": {
        "id": "07d68ba6"
      },
      "source": [
        "## Importing Libraries and Loading Dataset"
      ]
    },
    {
      "cell_type": "code",
      "execution_count": 24,
      "id": "2d7a7236",
      "metadata": {
        "colab": {
          "base_uri": "https://localhost:8080/"
        },
        "id": "2d7a7236",
        "outputId": "23861374-369e-4794-ee41-0e0fc889c3c3"
      },
      "outputs": [
        {
          "name": "stderr",
          "output_type": "stream",
          "text": [
            "[nltk_data] Downloading package stopwords to\n",
            "[nltk_data]     /Users/siddhantsukhatankar/nltk_data...\n",
            "[nltk_data]   Package stopwords is already up-to-date!\n"
          ]
        }
      ],
      "source": [
        "# Importing libraries\n",
        "import pandas as pd\n",
        "import numpy as np\n",
        "import matplotlib.pyplot as plt\n",
        "import json\n",
        "import re\n",
        "from nltk.corpus import stopwords\n",
        "import nltk\n",
        "nltk.download('stopwords')\n",
        "from nltk.corpus import stopwords\n",
        "from sumy.parsers.plaintext import PlaintextParser\n",
        "from sumy.nlp.tokenizers import Tokenizer\n",
        "from sumy.summarizers.lsa import LsaSummarizer as Summarizer\n",
        "from sumy.nlp.stemmers import Stemmer\n",
        "nltk.download('punkt')"
      ]
    },
    {
      "cell_type": "code",
      "execution_count": 25,
      "id": "26a106c9",
      "metadata": {
        "id": "26a106c9"
      },
      "outputs": [],
      "source": [
        "# Declaring constants\n",
        "DATA_DIR = '/Users/siddhantsukhatankar/Desktop/Sid/NEU/ADS_DS5500/contract-nli'\n",
        "# DATA_DIR = '/content'"
      ]
    },
    {
      "cell_type": "code",
      "execution_count": 26,
      "id": "748e1942",
      "metadata": {
        "id": "748e1942"
      },
      "outputs": [],
      "source": [
        "# Opening JSON file\n",
        "file_data = open(DATA_DIR + '/train.json')\n",
        "data = json.load(file_data)"
      ]
    },
    {
      "cell_type": "markdown",
      "id": "5890dfc1",
      "metadata": {
        "id": "5890dfc1"
      },
      "source": [
        "## Exploring the data"
      ]
    },
    {
      "cell_type": "code",
      "execution_count": 27,
      "id": "93490161",
      "metadata": {
        "id": "93490161"
      },
      "outputs": [
        {
          "name": "stdout",
          "output_type": "stream",
          "text": [
            "Types of document:  documents , Number of documents:  423\n",
            "Types of document:  labels , Number of documents:  17\n"
          ]
        }
      ],
      "source": [
        "# Data consists of documents and labels\n",
        "for key, value in data.items():\n",
        "    print('Types of document: ', key,', Number of documents: ', len(value))"
      ]
    },
    {
      "cell_type": "code",
      "execution_count": 28,
      "id": "maftunJLOSH2",
      "metadata": {
        "colab": {
          "base_uri": "https://localhost:8080/",
          "height": 965
        },
        "id": "maftunJLOSH2",
        "outputId": "9f6bbfed-0a74-43f7-b11e-f9d9116acfcd"
      },
      "outputs": [
        {
          "data": {
            "text/html": [
              "<div>\n",
              "<style scoped>\n",
              "    .dataframe tbody tr th:only-of-type {\n",
              "        vertical-align: middle;\n",
              "    }\n",
              "\n",
              "    .dataframe tbody tr th {\n",
              "        vertical-align: top;\n",
              "    }\n",
              "\n",
              "    .dataframe thead th {\n",
              "        text-align: right;\n",
              "    }\n",
              "</style>\n",
              "<table border=\"1\" class=\"dataframe\">\n",
              "  <thead>\n",
              "    <tr style=\"text-align: right;\">\n",
              "      <th></th>\n",
              "      <th>id</th>\n",
              "      <th>file_name</th>\n",
              "      <th>text</th>\n",
              "      <th>spans</th>\n",
              "      <th>annotation_sets</th>\n",
              "      <th>document_type</th>\n",
              "      <th>url</th>\n",
              "    </tr>\n",
              "  </thead>\n",
              "  <tbody>\n",
              "    <tr>\n",
              "      <th>0</th>\n",
              "      <td>34</td>\n",
              "      <td>Annex E_Non-Disclosure and Confidentiality Agr...</td>\n",
              "      <td>NON-DISCLOSURE AND CONFIDENTIALITY AGREEMENT\\n...</td>\n",
              "      <td>[[0, 44], [45, 132], [133, 331], [332, 417], [...</td>\n",
              "      <td>[{'annotations': {'nda-11': {'choice': 'NotMen...</td>\n",
              "      <td>search-pdf</td>\n",
              "      <td>https://www.ungm.org/UNUser/Documents/Download...</td>\n",
              "    </tr>\n",
              "    <tr>\n",
              "      <th>1</th>\n",
              "      <td>86</td>\n",
              "      <td>CopAcc_NDA-and-ToP-Mentors_2.0_2017.pdf</td>\n",
              "      <td>NON-DISCLOSURE AGREEMENT AND TERMS OF PARTICIP...</td>\n",
              "      <td>[[0, 51], [52, 68], [69, 222], [223, 358], [35...</td>\n",
              "      <td>[{'annotations': {'nda-11': {'choice': 'NotMen...</td>\n",
              "      <td>search-pdf</td>\n",
              "      <td>http://www.copernicus-masters.com/wp-content/u...</td>\n",
              "    </tr>\n",
              "    <tr>\n",
              "      <th>2</th>\n",
              "      <td>87</td>\n",
              "      <td>Cyber Mutual Assistance NDA.pdf</td>\n",
              "      <td>Mutual Non-Disclosure and Use of Information A...</td>\n",
              "      <td>[[0, 54], [55, 99], [100, 400], [401, 423], [4...</td>\n",
              "      <td>[{'annotations': {'nda-11': {'choice': 'NotMen...</td>\n",
              "      <td>search-pdf</td>\n",
              "      <td>https://www.electricitysubsector.org/-/media/F...</td>\n",
              "    </tr>\n",
              "    <tr>\n",
              "      <th>3</th>\n",
              "      <td>88</td>\n",
              "      <td>DBT%20Mutual%20NDA.pdf</td>\n",
              "      <td>MUTUAL NON-DISCLOSURE AGREEMENT\\nThis Non-Disc...</td>\n",
              "      <td>[[0, 31], [32, 142], [142, 276], [277, 440], [...</td>\n",
              "      <td>[{'annotations': {'nda-11': {'choice': 'NotMen...</td>\n",
              "      <td>search-pdf</td>\n",
              "      <td>http://www.databoiler.com/index_htm_files/DBT%...</td>\n",
              "    </tr>\n",
              "    <tr>\n",
              "      <th>4</th>\n",
              "      <td>89</td>\n",
              "      <td>Data Use Agreement New York City.pdf</td>\n",
              "      <td>Data Use And Non-Disclosure Agreement\\nBetween...</td>\n",
              "      <td>[[0, 28], [28, 37], [38, 45], [46, 103], [104,...</td>\n",
              "      <td>[{'annotations': {'nda-11': {'choice': 'NotMen...</td>\n",
              "      <td>search-pdf</td>\n",
              "      <td>http://www.astho.org/Programs/Infectious-Disea...</td>\n",
              "    </tr>\n",
              "  </tbody>\n",
              "</table>\n",
              "</div>"
            ],
            "text/plain": [
              "   id                                          file_name  \\\n",
              "0  34  Annex E_Non-Disclosure and Confidentiality Agr...   \n",
              "1  86            CopAcc_NDA-and-ToP-Mentors_2.0_2017.pdf   \n",
              "2  87                    Cyber Mutual Assistance NDA.pdf   \n",
              "3  88                             DBT%20Mutual%20NDA.pdf   \n",
              "4  89               Data Use Agreement New York City.pdf   \n",
              "\n",
              "                                                text  \\\n",
              "0  NON-DISCLOSURE AND CONFIDENTIALITY AGREEMENT\\n...   \n",
              "1  NON-DISCLOSURE AGREEMENT AND TERMS OF PARTICIP...   \n",
              "2  Mutual Non-Disclosure and Use of Information A...   \n",
              "3  MUTUAL NON-DISCLOSURE AGREEMENT\\nThis Non-Disc...   \n",
              "4  Data Use And Non-Disclosure Agreement\\nBetween...   \n",
              "\n",
              "                                               spans  \\\n",
              "0  [[0, 44], [45, 132], [133, 331], [332, 417], [...   \n",
              "1  [[0, 51], [52, 68], [69, 222], [223, 358], [35...   \n",
              "2  [[0, 54], [55, 99], [100, 400], [401, 423], [4...   \n",
              "3  [[0, 31], [32, 142], [142, 276], [277, 440], [...   \n",
              "4  [[0, 28], [28, 37], [38, 45], [46, 103], [104,...   \n",
              "\n",
              "                                     annotation_sets document_type  \\\n",
              "0  [{'annotations': {'nda-11': {'choice': 'NotMen...    search-pdf   \n",
              "1  [{'annotations': {'nda-11': {'choice': 'NotMen...    search-pdf   \n",
              "2  [{'annotations': {'nda-11': {'choice': 'NotMen...    search-pdf   \n",
              "3  [{'annotations': {'nda-11': {'choice': 'NotMen...    search-pdf   \n",
              "4  [{'annotations': {'nda-11': {'choice': 'NotMen...    search-pdf   \n",
              "\n",
              "                                                 url  \n",
              "0  https://www.ungm.org/UNUser/Documents/Download...  \n",
              "1  http://www.copernicus-masters.com/wp-content/u...  \n",
              "2  https://www.electricitysubsector.org/-/media/F...  \n",
              "3  http://www.databoiler.com/index_htm_files/DBT%...  \n",
              "4  http://www.astho.org/Programs/Infectious-Disea...  "
            ]
          },
          "execution_count": 28,
          "metadata": {},
          "output_type": "execute_result"
        }
      ],
      "source": [
        "# Dataset main\n",
        "main_df = pd.DataFrame(data['documents'])\n",
        "main_df.head()"
      ]
    },
    {
      "cell_type": "code",
      "execution_count": 29,
      "id": "0b6a20b8",
      "metadata": {
        "colab": {
          "base_uri": "https://localhost:8080/",
          "height": 350
        },
        "id": "0b6a20b8",
        "outputId": "ad17adaa-69a3-4840-f117-54ee667ff259"
      },
      "outputs": [
        {
          "data": {
            "text/html": [
              "<div>\n",
              "<style scoped>\n",
              "    .dataframe tbody tr th:only-of-type {\n",
              "        vertical-align: middle;\n",
              "    }\n",
              "\n",
              "    .dataframe tbody tr th {\n",
              "        vertical-align: top;\n",
              "    }\n",
              "\n",
              "    .dataframe thead th {\n",
              "        text-align: right;\n",
              "    }\n",
              "</style>\n",
              "<table border=\"1\" class=\"dataframe\">\n",
              "  <thead>\n",
              "    <tr style=\"text-align: right;\">\n",
              "      <th></th>\n",
              "      <th>nda-11</th>\n",
              "      <th>nda-16</th>\n",
              "      <th>nda-15</th>\n",
              "      <th>nda-10</th>\n",
              "      <th>nda-2</th>\n",
              "      <th>nda-1</th>\n",
              "      <th>nda-19</th>\n",
              "      <th>nda-12</th>\n",
              "      <th>nda-20</th>\n",
              "      <th>nda-3</th>\n",
              "      <th>nda-18</th>\n",
              "      <th>nda-7</th>\n",
              "      <th>nda-17</th>\n",
              "      <th>nda-8</th>\n",
              "      <th>nda-13</th>\n",
              "      <th>nda-5</th>\n",
              "      <th>nda-4</th>\n",
              "    </tr>\n",
              "  </thead>\n",
              "  <tbody>\n",
              "    <tr>\n",
              "      <th>short_description</th>\n",
              "      <td>No reverse engineering</td>\n",
              "      <td>Return of confidential information</td>\n",
              "      <td>No licensing</td>\n",
              "      <td>Confidentiality of Agreement</td>\n",
              "      <td>None-inclusion of non-technical information</td>\n",
              "      <td>Explicit identification</td>\n",
              "      <td>Survival of obligations</td>\n",
              "      <td>Permissible development of similar information</td>\n",
              "      <td>Permissible post-agreement possession</td>\n",
              "      <td>Inclusion of verbally conveyed information</td>\n",
              "      <td>No solicitation</td>\n",
              "      <td>Sharing with third-parties</td>\n",
              "      <td>Permissible copy</td>\n",
              "      <td>Notice on compelled disclosure</td>\n",
              "      <td>Permissible acquirement of similar information</td>\n",
              "      <td>Sharing with employees</td>\n",
              "      <td>Limited use</td>\n",
              "    </tr>\n",
              "    <tr>\n",
              "      <th>hypothesis</th>\n",
              "      <td>Receiving Party shall not reverse engineer any...</td>\n",
              "      <td>Receiving Party shall destroy or return some C...</td>\n",
              "      <td>Agreement shall not grant Receiving Party any ...</td>\n",
              "      <td>Receiving Party shall not disclose the fact th...</td>\n",
              "      <td>Confidential Information shall only include te...</td>\n",
              "      <td>All Confidential Information shall be expressl...</td>\n",
              "      <td>Some obligations of Agreement may survive term...</td>\n",
              "      <td>Receiving Party may independently develop info...</td>\n",
              "      <td>Receiving Party may retain some Confidential I...</td>\n",
              "      <td>Confidential Information may include verbally ...</td>\n",
              "      <td>Receiving Party shall not solicit some of Disc...</td>\n",
              "      <td>Receiving Party may share some Confidential In...</td>\n",
              "      <td>Receiving Party may create a copy of some Conf...</td>\n",
              "      <td>Receiving Party shall notify Disclosing Party ...</td>\n",
              "      <td>Receiving Party may acquire information simila...</td>\n",
              "      <td>Receiving Party may share some Confidential In...</td>\n",
              "      <td>Receiving Party shall not use any Confidential...</td>\n",
              "    </tr>\n",
              "  </tbody>\n",
              "</table>\n",
              "</div>"
            ],
            "text/plain": [
              "                                                              nda-11  \\\n",
              "short_description                             No reverse engineering   \n",
              "hypothesis         Receiving Party shall not reverse engineer any...   \n",
              "\n",
              "                                                              nda-16  \\\n",
              "short_description                 Return of confidential information   \n",
              "hypothesis         Receiving Party shall destroy or return some C...   \n",
              "\n",
              "                                                              nda-15  \\\n",
              "short_description                                       No licensing   \n",
              "hypothesis         Agreement shall not grant Receiving Party any ...   \n",
              "\n",
              "                                                              nda-10  \\\n",
              "short_description                       Confidentiality of Agreement   \n",
              "hypothesis         Receiving Party shall not disclose the fact th...   \n",
              "\n",
              "                                                               nda-2  \\\n",
              "short_description        None-inclusion of non-technical information   \n",
              "hypothesis         Confidential Information shall only include te...   \n",
              "\n",
              "                                                               nda-1  \\\n",
              "short_description                            Explicit identification   \n",
              "hypothesis         All Confidential Information shall be expressl...   \n",
              "\n",
              "                                                              nda-19  \\\n",
              "short_description                            Survival of obligations   \n",
              "hypothesis         Some obligations of Agreement may survive term...   \n",
              "\n",
              "                                                              nda-12  \\\n",
              "short_description     Permissible development of similar information   \n",
              "hypothesis         Receiving Party may independently develop info...   \n",
              "\n",
              "                                                              nda-20  \\\n",
              "short_description              Permissible post-agreement possession   \n",
              "hypothesis         Receiving Party may retain some Confidential I...   \n",
              "\n",
              "                                                               nda-3  \\\n",
              "short_description         Inclusion of verbally conveyed information   \n",
              "hypothesis         Confidential Information may include verbally ...   \n",
              "\n",
              "                                                              nda-18  \\\n",
              "short_description                                    No solicitation   \n",
              "hypothesis         Receiving Party shall not solicit some of Disc...   \n",
              "\n",
              "                                                               nda-7  \\\n",
              "short_description                         Sharing with third-parties   \n",
              "hypothesis         Receiving Party may share some Confidential In...   \n",
              "\n",
              "                                                              nda-17  \\\n",
              "short_description                                   Permissible copy   \n",
              "hypothesis         Receiving Party may create a copy of some Conf...   \n",
              "\n",
              "                                                               nda-8  \\\n",
              "short_description                     Notice on compelled disclosure   \n",
              "hypothesis         Receiving Party shall notify Disclosing Party ...   \n",
              "\n",
              "                                                              nda-13  \\\n",
              "short_description     Permissible acquirement of similar information   \n",
              "hypothesis         Receiving Party may acquire information simila...   \n",
              "\n",
              "                                                               nda-5  \\\n",
              "short_description                             Sharing with employees   \n",
              "hypothesis         Receiving Party may share some Confidential In...   \n",
              "\n",
              "                                                               nda-4  \n",
              "short_description                                        Limited use  \n",
              "hypothesis         Receiving Party shall not use any Confidential...  "
            ]
          },
          "execution_count": 29,
          "metadata": {},
          "output_type": "execute_result"
        }
      ],
      "source": [
        "# Dataset labels\n",
        "labels_df = pd.DataFrame(data['labels'])\n",
        "labels_df.head()"
      ]
    },
    {
      "cell_type": "markdown",
      "id": "ac6ea984",
      "metadata": {
        "id": "ac6ea984"
      },
      "source": [
        "## Cleaning Dataset\n",
        "\n",
        "### To start our cleaning and pre-processing steps, we first:\n",
        "#### 1. Remove NULL values\n",
        "#### 2. Remove any Duplicate values from the dataset"
      ]
    },
    {
      "cell_type": "code",
      "execution_count": 30,
      "id": "91f62541",
      "metadata": {
        "id": "91f62541"
      },
      "outputs": [
        {
          "data": {
            "text/plain": [
              "id                 0\n",
              "file_name          0\n",
              "text               0\n",
              "spans              0\n",
              "annotation_sets    0\n",
              "document_type      0\n",
              "url                0\n",
              "dtype: int64"
            ]
          },
          "execution_count": 30,
          "metadata": {},
          "output_type": "execute_result"
        }
      ],
      "source": [
        "# Null values removal\n",
        "main_df.isnull().sum()"
      ]
    },
    {
      "cell_type": "code",
      "execution_count": 31,
      "id": "3ba13fe8",
      "metadata": {
        "id": "3ba13fe8"
      },
      "outputs": [
        {
          "data": {
            "text/plain": [
              "0      False\n",
              "1      False\n",
              "2      False\n",
              "3      False\n",
              "4      False\n",
              "       ...  \n",
              "418    False\n",
              "419    False\n",
              "420    False\n",
              "421    False\n",
              "422    False\n",
              "Name: id, Length: 423, dtype: bool"
            ]
          },
          "execution_count": 31,
          "metadata": {},
          "output_type": "execute_result"
        }
      ],
      "source": [
        "# Duplicate documents removal\n",
        "duplicate_exists = main_df['id'].duplicated()\n",
        "duplicate_exists"
      ]
    },
    {
      "cell_type": "markdown",
      "id": "f222c30a",
      "metadata": {
        "id": "f222c30a"
      },
      "source": [
        "## Adding/Updating important columns in dataset-\n",
        "### 1. `annotations_sets` - making it into a dictionary\n",
        "### 2. `annotations_new` - aggregating all annotations for text"
      ]
    },
    {
      "cell_type": "code",
      "execution_count": 32,
      "id": "0IjQ2rLaRQ9c",
      "metadata": {
        "colab": {
          "base_uri": "https://localhost:8080/",
          "height": 965
        },
        "id": "0IjQ2rLaRQ9c",
        "outputId": "6f30298d-1a22-4353-b2fb-3c1af6c8b5e1"
      },
      "outputs": [
        {
          "data": {
            "text/html": [
              "<div>\n",
              "<style scoped>\n",
              "    .dataframe tbody tr th:only-of-type {\n",
              "        vertical-align: middle;\n",
              "    }\n",
              "\n",
              "    .dataframe tbody tr th {\n",
              "        vertical-align: top;\n",
              "    }\n",
              "\n",
              "    .dataframe thead th {\n",
              "        text-align: right;\n",
              "    }\n",
              "</style>\n",
              "<table border=\"1\" class=\"dataframe\">\n",
              "  <thead>\n",
              "    <tr style=\"text-align: right;\">\n",
              "      <th></th>\n",
              "      <th>id</th>\n",
              "      <th>file_name</th>\n",
              "      <th>text</th>\n",
              "      <th>spans</th>\n",
              "      <th>annotation_sets</th>\n",
              "      <th>document_type</th>\n",
              "      <th>url</th>\n",
              "    </tr>\n",
              "  </thead>\n",
              "  <tbody>\n",
              "    <tr>\n",
              "      <th>0</th>\n",
              "      <td>34</td>\n",
              "      <td>Annex E_Non-Disclosure and Confidentiality Agr...</td>\n",
              "      <td>NON-DISCLOSURE AND CONFIDENTIALITY AGREEMENT\\n...</td>\n",
              "      <td>[[0, 44], [45, 132], [133, 331], [332, 417], [...</td>\n",
              "      <td>{'nda-11': {'choice': 'NotMentioned', 'spans':...</td>\n",
              "      <td>search-pdf</td>\n",
              "      <td>https://www.ungm.org/UNUser/Documents/Download...</td>\n",
              "    </tr>\n",
              "    <tr>\n",
              "      <th>1</th>\n",
              "      <td>86</td>\n",
              "      <td>CopAcc_NDA-and-ToP-Mentors_2.0_2017.pdf</td>\n",
              "      <td>NON-DISCLOSURE AGREEMENT AND TERMS OF PARTICIP...</td>\n",
              "      <td>[[0, 51], [52, 68], [69, 222], [223, 358], [35...</td>\n",
              "      <td>{'nda-11': {'choice': 'NotMentioned', 'spans':...</td>\n",
              "      <td>search-pdf</td>\n",
              "      <td>http://www.copernicus-masters.com/wp-content/u...</td>\n",
              "    </tr>\n",
              "    <tr>\n",
              "      <th>2</th>\n",
              "      <td>87</td>\n",
              "      <td>Cyber Mutual Assistance NDA.pdf</td>\n",
              "      <td>Mutual Non-Disclosure and Use of Information A...</td>\n",
              "      <td>[[0, 54], [55, 99], [100, 400], [401, 423], [4...</td>\n",
              "      <td>{'nda-11': {'choice': 'NotMentioned', 'spans':...</td>\n",
              "      <td>search-pdf</td>\n",
              "      <td>https://www.electricitysubsector.org/-/media/F...</td>\n",
              "    </tr>\n",
              "    <tr>\n",
              "      <th>3</th>\n",
              "      <td>88</td>\n",
              "      <td>DBT%20Mutual%20NDA.pdf</td>\n",
              "      <td>MUTUAL NON-DISCLOSURE AGREEMENT\\nThis Non-Disc...</td>\n",
              "      <td>[[0, 31], [32, 142], [142, 276], [277, 440], [...</td>\n",
              "      <td>{'nda-11': {'choice': 'NotMentioned', 'spans':...</td>\n",
              "      <td>search-pdf</td>\n",
              "      <td>http://www.databoiler.com/index_htm_files/DBT%...</td>\n",
              "    </tr>\n",
              "    <tr>\n",
              "      <th>4</th>\n",
              "      <td>89</td>\n",
              "      <td>Data Use Agreement New York City.pdf</td>\n",
              "      <td>Data Use And Non-Disclosure Agreement\\nBetween...</td>\n",
              "      <td>[[0, 28], [28, 37], [38, 45], [46, 103], [104,...</td>\n",
              "      <td>{'nda-11': {'choice': 'NotMentioned', 'spans':...</td>\n",
              "      <td>search-pdf</td>\n",
              "      <td>http://www.astho.org/Programs/Infectious-Disea...</td>\n",
              "    </tr>\n",
              "  </tbody>\n",
              "</table>\n",
              "</div>"
            ],
            "text/plain": [
              "   id                                          file_name  \\\n",
              "0  34  Annex E_Non-Disclosure and Confidentiality Agr...   \n",
              "1  86            CopAcc_NDA-and-ToP-Mentors_2.0_2017.pdf   \n",
              "2  87                    Cyber Mutual Assistance NDA.pdf   \n",
              "3  88                             DBT%20Mutual%20NDA.pdf   \n",
              "4  89               Data Use Agreement New York City.pdf   \n",
              "\n",
              "                                                text  \\\n",
              "0  NON-DISCLOSURE AND CONFIDENTIALITY AGREEMENT\\n...   \n",
              "1  NON-DISCLOSURE AGREEMENT AND TERMS OF PARTICIP...   \n",
              "2  Mutual Non-Disclosure and Use of Information A...   \n",
              "3  MUTUAL NON-DISCLOSURE AGREEMENT\\nThis Non-Disc...   \n",
              "4  Data Use And Non-Disclosure Agreement\\nBetween...   \n",
              "\n",
              "                                               spans  \\\n",
              "0  [[0, 44], [45, 132], [133, 331], [332, 417], [...   \n",
              "1  [[0, 51], [52, 68], [69, 222], [223, 358], [35...   \n",
              "2  [[0, 54], [55, 99], [100, 400], [401, 423], [4...   \n",
              "3  [[0, 31], [32, 142], [142, 276], [277, 440], [...   \n",
              "4  [[0, 28], [28, 37], [38, 45], [46, 103], [104,...   \n",
              "\n",
              "                                     annotation_sets document_type  \\\n",
              "0  {'nda-11': {'choice': 'NotMentioned', 'spans':...    search-pdf   \n",
              "1  {'nda-11': {'choice': 'NotMentioned', 'spans':...    search-pdf   \n",
              "2  {'nda-11': {'choice': 'NotMentioned', 'spans':...    search-pdf   \n",
              "3  {'nda-11': {'choice': 'NotMentioned', 'spans':...    search-pdf   \n",
              "4  {'nda-11': {'choice': 'NotMentioned', 'spans':...    search-pdf   \n",
              "\n",
              "                                                 url  \n",
              "0  https://www.ungm.org/UNUser/Documents/Download...  \n",
              "1  http://www.copernicus-masters.com/wp-content/u...  \n",
              "2  https://www.electricitysubsector.org/-/media/F...  \n",
              "3  http://www.databoiler.com/index_htm_files/DBT%...  \n",
              "4  http://www.astho.org/Programs/Infectious-Disea...  "
            ]
          },
          "execution_count": 32,
          "metadata": {},
          "output_type": "execute_result"
        }
      ],
      "source": [
        "# Getting rid of nested annotations\n",
        "main_df['annotation_sets'] = main_df['annotation_sets'].apply(lambda x: x[0]['annotations'])\n",
        "main_df.head()"
      ]
    },
    {
      "cell_type": "code",
      "execution_count": 33,
      "id": "9c3cb2d2",
      "metadata": {
        "id": "9c3cb2d2"
      },
      "outputs": [],
      "source": [
        "# Important function- Accessing text using spans and accessing spans using annotation sets\n",
        "def get_all_annotations_for_text(spans, annotation_sets, text):\n",
        "    temp_di = {}\n",
        "    for key, value in annotation_sets.items():\n",
        "        annotation_span_new = []\n",
        "        for annotation_span in value['spans']:\n",
        "            annotation_span_new.append(text[spans[annotation_span][0]:spans[annotation_span][1]])\n",
        "        temp_di[key] = {'choice': value['choice'], 'spans': annotation_span_new}\n",
        "    return temp_di"
      ]
    },
    {
      "cell_type": "code",
      "execution_count": 34,
      "id": "XBCV79etT9YS",
      "metadata": {
        "colab": {
          "base_uri": "https://localhost:8080/",
          "height": 965
        },
        "id": "XBCV79etT9YS",
        "outputId": "1969119d-564d-4c28-a2d6-f323aa3aee7d"
      },
      "outputs": [
        {
          "data": {
            "text/html": [
              "<div>\n",
              "<style scoped>\n",
              "    .dataframe tbody tr th:only-of-type {\n",
              "        vertical-align: middle;\n",
              "    }\n",
              "\n",
              "    .dataframe tbody tr th {\n",
              "        vertical-align: top;\n",
              "    }\n",
              "\n",
              "    .dataframe thead th {\n",
              "        text-align: right;\n",
              "    }\n",
              "</style>\n",
              "<table border=\"1\" class=\"dataframe\">\n",
              "  <thead>\n",
              "    <tr style=\"text-align: right;\">\n",
              "      <th></th>\n",
              "      <th>id</th>\n",
              "      <th>file_name</th>\n",
              "      <th>text</th>\n",
              "      <th>spans</th>\n",
              "      <th>annotation_sets</th>\n",
              "      <th>document_type</th>\n",
              "      <th>url</th>\n",
              "      <th>annotations_new</th>\n",
              "    </tr>\n",
              "  </thead>\n",
              "  <tbody>\n",
              "    <tr>\n",
              "      <th>0</th>\n",
              "      <td>34</td>\n",
              "      <td>Annex E_Non-Disclosure and Confidentiality Agr...</td>\n",
              "      <td>NON-DISCLOSURE AND CONFIDENTIALITY AGREEMENT\\n...</td>\n",
              "      <td>[[0, 44], [45, 132], [133, 331], [332, 417], [...</td>\n",
              "      <td>{'nda-11': {'choice': 'NotMentioned', 'spans':...</td>\n",
              "      <td>search-pdf</td>\n",
              "      <td>https://www.ungm.org/UNUser/Documents/Download...</td>\n",
              "      <td>{'nda-11': {'choice': 'NotMentioned', 'spans':...</td>\n",
              "    </tr>\n",
              "    <tr>\n",
              "      <th>1</th>\n",
              "      <td>86</td>\n",
              "      <td>CopAcc_NDA-and-ToP-Mentors_2.0_2017.pdf</td>\n",
              "      <td>NON-DISCLOSURE AGREEMENT AND TERMS OF PARTICIP...</td>\n",
              "      <td>[[0, 51], [52, 68], [69, 222], [223, 358], [35...</td>\n",
              "      <td>{'nda-11': {'choice': 'NotMentioned', 'spans':...</td>\n",
              "      <td>search-pdf</td>\n",
              "      <td>http://www.copernicus-masters.com/wp-content/u...</td>\n",
              "      <td>{'nda-11': {'choice': 'NotMentioned', 'spans':...</td>\n",
              "    </tr>\n",
              "    <tr>\n",
              "      <th>2</th>\n",
              "      <td>87</td>\n",
              "      <td>Cyber Mutual Assistance NDA.pdf</td>\n",
              "      <td>Mutual Non-Disclosure and Use of Information A...</td>\n",
              "      <td>[[0, 54], [55, 99], [100, 400], [401, 423], [4...</td>\n",
              "      <td>{'nda-11': {'choice': 'NotMentioned', 'spans':...</td>\n",
              "      <td>search-pdf</td>\n",
              "      <td>https://www.electricitysubsector.org/-/media/F...</td>\n",
              "      <td>{'nda-11': {'choice': 'NotMentioned', 'spans':...</td>\n",
              "    </tr>\n",
              "    <tr>\n",
              "      <th>3</th>\n",
              "      <td>88</td>\n",
              "      <td>DBT%20Mutual%20NDA.pdf</td>\n",
              "      <td>MUTUAL NON-DISCLOSURE AGREEMENT\\nThis Non-Disc...</td>\n",
              "      <td>[[0, 31], [32, 142], [142, 276], [277, 440], [...</td>\n",
              "      <td>{'nda-11': {'choice': 'NotMentioned', 'spans':...</td>\n",
              "      <td>search-pdf</td>\n",
              "      <td>http://www.databoiler.com/index_htm_files/DBT%...</td>\n",
              "      <td>{'nda-11': {'choice': 'NotMentioned', 'spans':...</td>\n",
              "    </tr>\n",
              "    <tr>\n",
              "      <th>4</th>\n",
              "      <td>89</td>\n",
              "      <td>Data Use Agreement New York City.pdf</td>\n",
              "      <td>Data Use And Non-Disclosure Agreement\\nBetween...</td>\n",
              "      <td>[[0, 28], [28, 37], [38, 45], [46, 103], [104,...</td>\n",
              "      <td>{'nda-11': {'choice': 'NotMentioned', 'spans':...</td>\n",
              "      <td>search-pdf</td>\n",
              "      <td>http://www.astho.org/Programs/Infectious-Disea...</td>\n",
              "      <td>{'nda-11': {'choice': 'NotMentioned', 'spans':...</td>\n",
              "    </tr>\n",
              "  </tbody>\n",
              "</table>\n",
              "</div>"
            ],
            "text/plain": [
              "   id                                          file_name  \\\n",
              "0  34  Annex E_Non-Disclosure and Confidentiality Agr...   \n",
              "1  86            CopAcc_NDA-and-ToP-Mentors_2.0_2017.pdf   \n",
              "2  87                    Cyber Mutual Assistance NDA.pdf   \n",
              "3  88                             DBT%20Mutual%20NDA.pdf   \n",
              "4  89               Data Use Agreement New York City.pdf   \n",
              "\n",
              "                                                text  \\\n",
              "0  NON-DISCLOSURE AND CONFIDENTIALITY AGREEMENT\\n...   \n",
              "1  NON-DISCLOSURE AGREEMENT AND TERMS OF PARTICIP...   \n",
              "2  Mutual Non-Disclosure and Use of Information A...   \n",
              "3  MUTUAL NON-DISCLOSURE AGREEMENT\\nThis Non-Disc...   \n",
              "4  Data Use And Non-Disclosure Agreement\\nBetween...   \n",
              "\n",
              "                                               spans  \\\n",
              "0  [[0, 44], [45, 132], [133, 331], [332, 417], [...   \n",
              "1  [[0, 51], [52, 68], [69, 222], [223, 358], [35...   \n",
              "2  [[0, 54], [55, 99], [100, 400], [401, 423], [4...   \n",
              "3  [[0, 31], [32, 142], [142, 276], [277, 440], [...   \n",
              "4  [[0, 28], [28, 37], [38, 45], [46, 103], [104,...   \n",
              "\n",
              "                                     annotation_sets document_type  \\\n",
              "0  {'nda-11': {'choice': 'NotMentioned', 'spans':...    search-pdf   \n",
              "1  {'nda-11': {'choice': 'NotMentioned', 'spans':...    search-pdf   \n",
              "2  {'nda-11': {'choice': 'NotMentioned', 'spans':...    search-pdf   \n",
              "3  {'nda-11': {'choice': 'NotMentioned', 'spans':...    search-pdf   \n",
              "4  {'nda-11': {'choice': 'NotMentioned', 'spans':...    search-pdf   \n",
              "\n",
              "                                                 url  \\\n",
              "0  https://www.ungm.org/UNUser/Documents/Download...   \n",
              "1  http://www.copernicus-masters.com/wp-content/u...   \n",
              "2  https://www.electricitysubsector.org/-/media/F...   \n",
              "3  http://www.databoiler.com/index_htm_files/DBT%...   \n",
              "4  http://www.astho.org/Programs/Infectious-Disea...   \n",
              "\n",
              "                                     annotations_new  \n",
              "0  {'nda-11': {'choice': 'NotMentioned', 'spans':...  \n",
              "1  {'nda-11': {'choice': 'NotMentioned', 'spans':...  \n",
              "2  {'nda-11': {'choice': 'NotMentioned', 'spans':...  \n",
              "3  {'nda-11': {'choice': 'NotMentioned', 'spans':...  \n",
              "4  {'nda-11': {'choice': 'NotMentioned', 'spans':...  "
            ]
          },
          "execution_count": 34,
          "metadata": {},
          "output_type": "execute_result"
        }
      ],
      "source": [
        "main_df['annotations_new'] = main_df.apply(lambda x: get_all_annotations_for_text(x.spans, x.annotation_sets, x.text), axis=1)\n",
        "main_df.head()"
      ]
    },
    {
      "cell_type": "markdown",
      "id": "7ce81109",
      "metadata": {
        "id": "7ce81109"
      },
      "source": [
        "### Getting Data ready for Tokization and Stop Words removal by generating `Text` to `NDA` Mapping"
      ]
    },
    {
      "cell_type": "code",
      "execution_count": 35,
      "id": "f651e00d",
      "metadata": {
        "colab": {
          "base_uri": "https://localhost:8080/",
          "height": 206
        },
        "id": "f651e00d",
        "outputId": "e37f0e09-3c69-4cd1-cf11-47142b5c7239"
      },
      "outputs": [
        {
          "data": {
            "text/html": [
              "<div>\n",
              "<style scoped>\n",
              "    .dataframe tbody tr th:only-of-type {\n",
              "        vertical-align: middle;\n",
              "    }\n",
              "\n",
              "    .dataframe tbody tr th {\n",
              "        vertical-align: top;\n",
              "    }\n",
              "\n",
              "    .dataframe thead th {\n",
              "        text-align: right;\n",
              "    }\n",
              "</style>\n",
              "<table border=\"1\" class=\"dataframe\">\n",
              "  <thead>\n",
              "    <tr style=\"text-align: right;\">\n",
              "      <th></th>\n",
              "      <th>text</th>\n",
              "      <th>choice</th>\n",
              "      <th>nda</th>\n",
              "    </tr>\n",
              "  </thead>\n",
              "  <tbody>\n",
              "    <tr>\n",
              "      <th>0</th>\n",
              "      <td></td>\n",
              "      <td>NotMentioned</td>\n",
              "      <td>nda-11</td>\n",
              "    </tr>\n",
              "    <tr>\n",
              "      <th>1</th>\n",
              "      <td>5. All Confidential Information in any form an...</td>\n",
              "      <td>Entailment</td>\n",
              "      <td>nda-16</td>\n",
              "    </tr>\n",
              "    <tr>\n",
              "      <th>2</th>\n",
              "      <td>(a) if a business relationship is not entered ...</td>\n",
              "      <td>Entailment</td>\n",
              "      <td>nda-16</td>\n",
              "    </tr>\n",
              "    <tr>\n",
              "      <th>3</th>\n",
              "      <td>4. Nothing in this Agreement is to be construe...</td>\n",
              "      <td>Entailment</td>\n",
              "      <td>nda-15</td>\n",
              "    </tr>\n",
              "    <tr>\n",
              "      <th>4</th>\n",
              "      <td>11. The Recipient shall not advertise or other...</td>\n",
              "      <td>Entailment</td>\n",
              "      <td>nda-10</td>\n",
              "    </tr>\n",
              "  </tbody>\n",
              "</table>\n",
              "</div>"
            ],
            "text/plain": [
              "                                                text        choice     nda\n",
              "0                                                     NotMentioned  nda-11\n",
              "1  5. All Confidential Information in any form an...    Entailment  nda-16\n",
              "2  (a) if a business relationship is not entered ...    Entailment  nda-16\n",
              "3  4. Nothing in this Agreement is to be construe...    Entailment  nda-15\n",
              "4  11. The Recipient shall not advertise or other...    Entailment  nda-10"
            ]
          },
          "execution_count": 35,
          "metadata": {},
          "output_type": "execute_result"
        }
      ],
      "source": [
        "# Function to get the text to respective nda mapping\n",
        "def get_text_to_nda_mapping(main_df):\n",
        "    text_nda_list = []\n",
        "    for annotation_item in main_df['annotations_new']:\n",
        "        for key, value in annotation_item.items():\n",
        "            if value['spans']:\n",
        "                for span in value['spans']:\n",
        "                    text_nda_list.append({'text': span, 'nda': key, 'choice': value['choice']})\n",
        "            else:\n",
        "                text_nda_list.append({'text': '', 'choice': value['choice'], 'nda': key})\n",
        "    return pd.DataFrame(text_nda_list)\n",
        "\n",
        "text_nda_df = get_text_to_nda_mapping(main_df)\n",
        "text_nda_df.head()"
      ]
    },
    {
      "cell_type": "markdown",
      "id": "1fa72c58",
      "metadata": {
        "id": "1fa72c58"
      },
      "source": [
        "## Text Preprocessing\n",
        "### 1. Group all text based on nda\n",
        "### 2. Tokenization\n",
        "### 3. Stop words, Punctuations, Links removal"
      ]
    },
    {
      "cell_type": "code",
      "execution_count": null,
      "id": "11r0hWW6NtCs",
      "metadata": {
        "id": "11r0hWW6NtCs"
      },
      "outputs": [],
      "source": [
        "import string\n",
        "def preprocess_text(text):\n",
        "    # Remove leading and trailing spaces\n",
        "    text = text.strip()\n",
        "    # Convert to lowercase\n",
        "    text = text.lower()\n",
        "    # Replace punctuation with spaces\n",
        "    text=text.translate(str.maketrans(\"\", \"\", string.punctuation))\n",
        "    # Remove extra spaces\n",
        "    text=text.replace('”', '').replace('“','').replace(',','').replace('’','')\n",
        "    text = ' '.join(text.split())\n",
        "    return text"
      ]
    },
    {
      "cell_type": "code",
      "execution_count": null,
      "id": "oSOReeXEfyNE",
      "metadata": {
        "id": "oSOReeXEfyNE"
      },
      "outputs": [],
      "source": [
        "text_nda_df_new=text_nda_df\n",
        "text_nda_df_new['text'] = text_nda_df_new['text'].apply(lambda x: preprocess_text(x))\n",
        "\n",
        "nda_stopwords_df=text_nda_df_new\n",
        "stop_words = set(stopwords.words('english'))\n",
        "nda_stopwords_df['text'] = nda_stopwords_df['text'].apply(lambda x: ' '.join([word for word in x.split() if word.lower() not in stop_words]))"
      ]
    },
    {
      "cell_type": "code",
      "execution_count": null,
      "id": "DoOVpjKEg0-m",
      "metadata": {
        "colab": {
          "base_uri": "https://localhost:8080/",
          "height": 206
        },
        "id": "DoOVpjKEg0-m",
        "outputId": "8b82eac3-161a-43e5-cba2-c9ba9dcdba10"
      },
      "outputs": [
        {
          "data": {
            "text/html": [
              "\n",
              "  <div id=\"df-1e42c9b0-d1f6-4338-9457-3b478e437506\">\n",
              "    <div class=\"colab-df-container\">\n",
              "      <div>\n",
              "<style scoped>\n",
              "    .dataframe tbody tr th:only-of-type {\n",
              "        vertical-align: middle;\n",
              "    }\n",
              "\n",
              "    .dataframe tbody tr th {\n",
              "        vertical-align: top;\n",
              "    }\n",
              "\n",
              "    .dataframe thead th {\n",
              "        text-align: right;\n",
              "    }\n",
              "</style>\n",
              "<table border=\"1\" class=\"dataframe\">\n",
              "  <thead>\n",
              "    <tr style=\"text-align: right;\">\n",
              "      <th></th>\n",
              "      <th>text</th>\n",
              "      <th>choice</th>\n",
              "      <th>nda</th>\n",
              "    </tr>\n",
              "  </thead>\n",
              "  <tbody>\n",
              "    <tr>\n",
              "      <th>0</th>\n",
              "      <td></td>\n",
              "      <td>NotMentioned</td>\n",
              "      <td>nda-11</td>\n",
              "    </tr>\n",
              "    <tr>\n",
              "      <th>1</th>\n",
              "      <td>5 confidential information form medium includi...</td>\n",
              "      <td>Entailment</td>\n",
              "      <td>nda-16</td>\n",
              "    </tr>\n",
              "    <tr>\n",
              "      <th>2</th>\n",
              "      <td>business relationship entered unhcr date three...</td>\n",
              "      <td>Entailment</td>\n",
              "      <td>nda-16</td>\n",
              "    </tr>\n",
              "    <tr>\n",
              "      <th>3</th>\n",
              "      <td>4 nothing agreement construed granting recipie...</td>\n",
              "      <td>Entailment</td>\n",
              "      <td>nda-15</td>\n",
              "    </tr>\n",
              "    <tr>\n",
              "      <th>4</th>\n",
              "      <td>11 recipient shall advertise otherwise make pu...</td>\n",
              "      <td>Entailment</td>\n",
              "      <td>nda-10</td>\n",
              "    </tr>\n",
              "  </tbody>\n",
              "</table>\n",
              "</div>\n",
              "      <button class=\"colab-df-convert\" onclick=\"convertToInteractive('df-1e42c9b0-d1f6-4338-9457-3b478e437506')\"\n",
              "              title=\"Convert this dataframe to an interactive table.\"\n",
              "              style=\"display:none;\">\n",
              "        \n",
              "  <svg xmlns=\"http://www.w3.org/2000/svg\" height=\"24px\"viewBox=\"0 0 24 24\"\n",
              "       width=\"24px\">\n",
              "    <path d=\"M0 0h24v24H0V0z\" fill=\"none\"/>\n",
              "    <path d=\"M18.56 5.44l.94 2.06.94-2.06 2.06-.94-2.06-.94-.94-2.06-.94 2.06-2.06.94zm-11 1L8.5 8.5l.94-2.06 2.06-.94-2.06-.94L8.5 2.5l-.94 2.06-2.06.94zm10 10l.94 2.06.94-2.06 2.06-.94-2.06-.94-.94-2.06-.94 2.06-2.06.94z\"/><path d=\"M17.41 7.96l-1.37-1.37c-.4-.4-.92-.59-1.43-.59-.52 0-1.04.2-1.43.59L10.3 9.45l-7.72 7.72c-.78.78-.78 2.05 0 2.83L4 21.41c.39.39.9.59 1.41.59.51 0 1.02-.2 1.41-.59l7.78-7.78 2.81-2.81c.8-.78.8-2.07 0-2.86zM5.41 20L4 18.59l7.72-7.72 1.47 1.35L5.41 20z\"/>\n",
              "  </svg>\n",
              "      </button>\n",
              "      \n",
              "  <style>\n",
              "    .colab-df-container {\n",
              "      display:flex;\n",
              "      flex-wrap:wrap;\n",
              "      gap: 12px;\n",
              "    }\n",
              "\n",
              "    .colab-df-convert {\n",
              "      background-color: #E8F0FE;\n",
              "      border: none;\n",
              "      border-radius: 50%;\n",
              "      cursor: pointer;\n",
              "      display: none;\n",
              "      fill: #1967D2;\n",
              "      height: 32px;\n",
              "      padding: 0 0 0 0;\n",
              "      width: 32px;\n",
              "    }\n",
              "\n",
              "    .colab-df-convert:hover {\n",
              "      background-color: #E2EBFA;\n",
              "      box-shadow: 0px 1px 2px rgba(60, 64, 67, 0.3), 0px 1px 3px 1px rgba(60, 64, 67, 0.15);\n",
              "      fill: #174EA6;\n",
              "    }\n",
              "\n",
              "    [theme=dark] .colab-df-convert {\n",
              "      background-color: #3B4455;\n",
              "      fill: #D2E3FC;\n",
              "    }\n",
              "\n",
              "    [theme=dark] .colab-df-convert:hover {\n",
              "      background-color: #434B5C;\n",
              "      box-shadow: 0px 1px 3px 1px rgba(0, 0, 0, 0.15);\n",
              "      filter: drop-shadow(0px 1px 2px rgba(0, 0, 0, 0.3));\n",
              "      fill: #FFFFFF;\n",
              "    }\n",
              "  </style>\n",
              "\n",
              "      <script>\n",
              "        const buttonEl =\n",
              "          document.querySelector('#df-1e42c9b0-d1f6-4338-9457-3b478e437506 button.colab-df-convert');\n",
              "        buttonEl.style.display =\n",
              "          google.colab.kernel.accessAllowed ? 'block' : 'none';\n",
              "\n",
              "        async function convertToInteractive(key) {\n",
              "          const element = document.querySelector('#df-1e42c9b0-d1f6-4338-9457-3b478e437506');\n",
              "          const dataTable =\n",
              "            await google.colab.kernel.invokeFunction('convertToInteractive',\n",
              "                                                     [key], {});\n",
              "          if (!dataTable) return;\n",
              "\n",
              "          const docLinkHtml = 'Like what you see? Visit the ' +\n",
              "            '<a target=\"_blank\" href=https://colab.research.google.com/notebooks/data_table.ipynb>data table notebook</a>'\n",
              "            + ' to learn more about interactive tables.';\n",
              "          element.innerHTML = '';\n",
              "          dataTable['output_type'] = 'display_data';\n",
              "          await google.colab.output.renderOutput(dataTable, element);\n",
              "          const docLink = document.createElement('div');\n",
              "          docLink.innerHTML = docLinkHtml;\n",
              "          element.appendChild(docLink);\n",
              "        }\n",
              "      </script>\n",
              "    </div>\n",
              "  </div>\n",
              "  "
            ],
            "text/plain": [
              "                                                text        choice     nda\n",
              "0                                                     NotMentioned  nda-11\n",
              "1  5 confidential information form medium includi...    Entailment  nda-16\n",
              "2  business relationship entered unhcr date three...    Entailment  nda-16\n",
              "3  4 nothing agreement construed granting recipie...    Entailment  nda-15\n",
              "4  11 recipient shall advertise otherwise make pu...    Entailment  nda-10"
            ]
          },
          "execution_count": 51,
          "metadata": {},
          "output_type": "execute_result"
        }
      ],
      "source": [
        "nda_stopwords_df.head()"
      ]
    },
    {
      "cell_type": "code",
      "execution_count": null,
      "id": "1d45a6ab",
      "metadata": {
        "colab": {
          "base_uri": "https://localhost:8080/",
          "height": 582
        },
        "id": "1d45a6ab",
        "outputId": "51ba96ce-a89d-4bbd-a2f6-f01a4526745a"
      },
      "outputs": [
        {
          "data": {
            "text/html": [
              "\n",
              "  <div id=\"df-03af690e-0fd9-4ec4-8218-a52917ee5815\">\n",
              "    <div class=\"colab-df-container\">\n",
              "      <div>\n",
              "<style scoped>\n",
              "    .dataframe tbody tr th:only-of-type {\n",
              "        vertical-align: middle;\n",
              "    }\n",
              "\n",
              "    .dataframe tbody tr th {\n",
              "        vertical-align: top;\n",
              "    }\n",
              "\n",
              "    .dataframe thead th {\n",
              "        text-align: right;\n",
              "    }\n",
              "</style>\n",
              "<table border=\"1\" class=\"dataframe\">\n",
              "  <thead>\n",
              "    <tr style=\"text-align: right;\">\n",
              "      <th></th>\n",
              "      <th>text</th>\n",
              "      <th>nda</th>\n",
              "    </tr>\n",
              "  </thead>\n",
              "  <tbody>\n",
              "    <tr>\n",
              "      <th>0</th>\n",
              "      <td>iv reverse engineering work product receiving ...</td>\n",
              "      <td>nda-11</td>\n",
              "    </tr>\n",
              "    <tr>\n",
              "      <th>1</th>\n",
              "      <td>5 confidential information form medium includi...</td>\n",
              "      <td>nda-16</td>\n",
              "    </tr>\n",
              "    <tr>\n",
              "      <th>3</th>\n",
              "      <td>4 nothing agreement construed granting recipie...</td>\n",
              "      <td>nda-15</td>\n",
              "    </tr>\n",
              "    <tr>\n",
              "      <th>4</th>\n",
              "      <td>11 recipient shall advertise otherwise make pu...</td>\n",
              "      <td>nda-10</td>\n",
              "    </tr>\n",
              "    <tr>\n",
              "      <th>5</th>\n",
              "      <td>confidential information means idea disclosed ...</td>\n",
              "      <td>nda-2</td>\n",
              "    </tr>\n",
              "    <tr>\n",
              "      <th>6</th>\n",
              "      <td>1 confidential information whenever used agree...</td>\n",
              "      <td>nda-1</td>\n",
              "    </tr>\n",
              "    <tr>\n",
              "      <th>7</th>\n",
              "      <td>either party may terminate working relationshi...</td>\n",
              "      <td>nda-19</td>\n",
              "    </tr>\n",
              "    <tr>\n",
              "      <th>8</th>\n",
              "      <td>recipient shall precluded disclosing confident...</td>\n",
              "      <td>nda-12</td>\n",
              "    </tr>\n",
              "    <tr>\n",
              "      <th>10</th>\n",
              "      <td>organisers first request mentor shallerase and...</td>\n",
              "      <td>nda-20</td>\n",
              "    </tr>\n",
              "    <tr>\n",
              "      <th>11</th>\n",
              "      <td>1 confidential information whenever used agree...</td>\n",
              "      <td>nda-3</td>\n",
              "    </tr>\n",
              "    <tr>\n",
              "      <th>12</th>\n",
              "      <td>v nonsolicitation employees andor contractors ...</td>\n",
              "      <td>nda-18</td>\n",
              "    </tr>\n",
              "    <tr>\n",
              "      <th>13</th>\n",
              "      <td>23 provided recipient written agreement follow...</td>\n",
              "      <td>nda-7</td>\n",
              "    </tr>\n",
              "    <tr>\n",
              "      <th>15</th>\n",
              "      <td>recipient copy reproduce confidential informat...</td>\n",
              "      <td>nda-17</td>\n",
              "    </tr>\n",
              "    <tr>\n",
              "      <th>16</th>\n",
              "      <td>recipient may disclose confidential informatio...</td>\n",
              "      <td>nda-8</td>\n",
              "    </tr>\n",
              "    <tr>\n",
              "      <th>17</th>\n",
              "      <td>recipient shall precluded disclosing confident...</td>\n",
              "      <td>nda-13</td>\n",
              "    </tr>\n",
              "    <tr>\n",
              "      <th>19</th>\n",
              "      <td>23 provided recipient written agreement follow...</td>\n",
              "      <td>nda-5</td>\n",
              "    </tr>\n",
              "    <tr>\n",
              "      <th>22</th>\n",
              "      <td>recipient shall use confidential information s...</td>\n",
              "      <td>nda-4</td>\n",
              "    </tr>\n",
              "  </tbody>\n",
              "</table>\n",
              "</div>\n",
              "      <button class=\"colab-df-convert\" onclick=\"convertToInteractive('df-03af690e-0fd9-4ec4-8218-a52917ee5815')\"\n",
              "              title=\"Convert this dataframe to an interactive table.\"\n",
              "              style=\"display:none;\">\n",
              "        \n",
              "  <svg xmlns=\"http://www.w3.org/2000/svg\" height=\"24px\"viewBox=\"0 0 24 24\"\n",
              "       width=\"24px\">\n",
              "    <path d=\"M0 0h24v24H0V0z\" fill=\"none\"/>\n",
              "    <path d=\"M18.56 5.44l.94 2.06.94-2.06 2.06-.94-2.06-.94-.94-2.06-.94 2.06-2.06.94zm-11 1L8.5 8.5l.94-2.06 2.06-.94-2.06-.94L8.5 2.5l-.94 2.06-2.06.94zm10 10l.94 2.06.94-2.06 2.06-.94-2.06-.94-.94-2.06-.94 2.06-2.06.94z\"/><path d=\"M17.41 7.96l-1.37-1.37c-.4-.4-.92-.59-1.43-.59-.52 0-1.04.2-1.43.59L10.3 9.45l-7.72 7.72c-.78.78-.78 2.05 0 2.83L4 21.41c.39.39.9.59 1.41.59.51 0 1.02-.2 1.41-.59l7.78-7.78 2.81-2.81c.8-.78.8-2.07 0-2.86zM5.41 20L4 18.59l7.72-7.72 1.47 1.35L5.41 20z\"/>\n",
              "  </svg>\n",
              "      </button>\n",
              "      \n",
              "  <style>\n",
              "    .colab-df-container {\n",
              "      display:flex;\n",
              "      flex-wrap:wrap;\n",
              "      gap: 12px;\n",
              "    }\n",
              "\n",
              "    .colab-df-convert {\n",
              "      background-color: #E8F0FE;\n",
              "      border: none;\n",
              "      border-radius: 50%;\n",
              "      cursor: pointer;\n",
              "      display: none;\n",
              "      fill: #1967D2;\n",
              "      height: 32px;\n",
              "      padding: 0 0 0 0;\n",
              "      width: 32px;\n",
              "    }\n",
              "\n",
              "    .colab-df-convert:hover {\n",
              "      background-color: #E2EBFA;\n",
              "      box-shadow: 0px 1px 2px rgba(60, 64, 67, 0.3), 0px 1px 3px 1px rgba(60, 64, 67, 0.15);\n",
              "      fill: #174EA6;\n",
              "    }\n",
              "\n",
              "    [theme=dark] .colab-df-convert {\n",
              "      background-color: #3B4455;\n",
              "      fill: #D2E3FC;\n",
              "    }\n",
              "\n",
              "    [theme=dark] .colab-df-convert:hover {\n",
              "      background-color: #434B5C;\n",
              "      box-shadow: 0px 1px 3px 1px rgba(0, 0, 0, 0.15);\n",
              "      filter: drop-shadow(0px 1px 2px rgba(0, 0, 0, 0.3));\n",
              "      fill: #FFFFFF;\n",
              "    }\n",
              "  </style>\n",
              "\n",
              "      <script>\n",
              "        const buttonEl =\n",
              "          document.querySelector('#df-03af690e-0fd9-4ec4-8218-a52917ee5815 button.colab-df-convert');\n",
              "        buttonEl.style.display =\n",
              "          google.colab.kernel.accessAllowed ? 'block' : 'none';\n",
              "\n",
              "        async function convertToInteractive(key) {\n",
              "          const element = document.querySelector('#df-03af690e-0fd9-4ec4-8218-a52917ee5815');\n",
              "          const dataTable =\n",
              "            await google.colab.kernel.invokeFunction('convertToInteractive',\n",
              "                                                     [key], {});\n",
              "          if (!dataTable) return;\n",
              "\n",
              "          const docLinkHtml = 'Like what you see? Visit the ' +\n",
              "            '<a target=\"_blank\" href=https://colab.research.google.com/notebooks/data_table.ipynb>data table notebook</a>'\n",
              "            + ' to learn more about interactive tables.';\n",
              "          element.innerHTML = '';\n",
              "          dataTable['output_type'] = 'display_data';\n",
              "          await google.colab.output.renderOutput(dataTable, element);\n",
              "          const docLink = document.createElement('div');\n",
              "          docLink.innerHTML = docLinkHtml;\n",
              "          element.appendChild(docLink);\n",
              "        }\n",
              "      </script>\n",
              "    </div>\n",
              "  </div>\n",
              "  "
            ],
            "text/plain": [
              "                                                 text     nda\n",
              "0   iv reverse engineering work product receiving ...  nda-11\n",
              "1   5 confidential information form medium includi...  nda-16\n",
              "3   4 nothing agreement construed granting recipie...  nda-15\n",
              "4   11 recipient shall advertise otherwise make pu...  nda-10\n",
              "5   confidential information means idea disclosed ...   nda-2\n",
              "6   1 confidential information whenever used agree...   nda-1\n",
              "7   either party may terminate working relationshi...  nda-19\n",
              "8   recipient shall precluded disclosing confident...  nda-12\n",
              "10  organisers first request mentor shallerase and...  nda-20\n",
              "11  1 confidential information whenever used agree...   nda-3\n",
              "12  v nonsolicitation employees andor contractors ...  nda-18\n",
              "13  23 provided recipient written agreement follow...   nda-7\n",
              "15  recipient copy reproduce confidential informat...  nda-17\n",
              "16  recipient may disclose confidential informatio...   nda-8\n",
              "17  recipient shall precluded disclosing confident...  nda-13\n",
              "19  23 provided recipient written agreement follow...   nda-5\n",
              "22  recipient shall use confidential information s...   nda-4"
            ]
          },
          "execution_count": 52,
          "metadata": {},
          "output_type": "execute_result"
        }
      ],
      "source": [
        "text_nda_df['text']= text_nda_df[['text', 'nda']].groupby(['nda'])['text'].transform(lambda x: ','.join(x))\n",
        "nda_aggregated_text_df = text_nda_df[['text', 'nda']].drop_duplicates()\n",
        "nda_aggregated_text_df['text'] = nda_aggregated_text_df['text'].apply(lambda x: preprocess_text(x))\n",
        "nda_aggregated_text_df"
      ]
    },
    {
      "cell_type": "code",
      "execution_count": null,
      "id": "dW2sxPYsVjoJ",
      "metadata": {
        "id": "dW2sxPYsVjoJ"
      },
      "outputs": [],
      "source": [
        "nda_aggregated_stopwords_df=nda_aggregated_text_df\n",
        "stop_words = set(stopwords.words('english'))\n",
        "nda_aggregated_stopwords_df['text'] = nda_aggregated_stopwords_df['text'].apply(lambda x: ' '.join([word for word in x.split() if word.lower() not in stop_words]))"
      ]
    },
    {
      "cell_type": "code",
      "execution_count": null,
      "id": "4xJ6uCquWH9D",
      "metadata": {
        "colab": {
          "base_uri": "https://localhost:8080/",
          "height": 178
        },
        "id": "4xJ6uCquWH9D",
        "outputId": "bacc98f1-6118-4804-a1e0-348cbe7ad425"
      },
      "outputs": [
        {
          "data": {
            "application/vnd.google.colaboratory.intrinsic+json": {
              "type": "string"
            },
            "text/plain": [
              "'23 provided recipient written agreement following persons entities requiring treat confidential information accordance agreement recipient may disclose confidential information232 recipients employees officials representatives agents strict need know contents confidential information employees officials representatives agents legal entity controls controls common control similar need know contents confidential information provided purposes controlled legal entity meansmentor shall disclose confidential information third party mentors employees andor employer without prior written consent participantsparticipatingentity agreesii without express permission participating entity providing information disclose information third parties1 data recipients employees andor consultants required use data perform functions agreement set forth attachment b designated data recipient authorized users attachment c agreement given access datanothing express implied agreement intended confer shall anything herein confer upon person parties rights remedies obligations liabilities whatsoeverparty may disclose confidential information party following circumstancesb employees professional advisors affiliates consultants shareholders financiers authorised representatives extent disclosure necessary purposeperson party agreement shall right contracts rights third parties act 1999 enforce termsvendor shall restrict disclosure confidential information employees need know advise employees obligations assumed herein shall disclose confidential information third party without prior written approval stateefca shall ensure disclosure confidential information restricted employees directors efca efcas principals need know41 efca shall411 divulge disclosing partys confidential information whole part third party65 notwithstanding anything contrary contained agreement parties agree confidential information may disclosed receiving party respective employees agents officers directors subsidiaries associated companies shareholders advisers including limited professional financial advisers legal advisers auditors representatives needtoknow basis purposes project provided receiving party prior making disclosure confidential information permitted 65 procures proposed recipient confidential information made aware terms agreement receiving party procure proposed recipient adheres terms party agreement prevent unauthorized disclosure confidential information third parties8 receiving party shall copy reproduce duplicate publish disclose otherwise make available confidential information disclosed transmitter parts abstracts thereof third person firm corporation partnership entity form manner whatsoever without prior written approval transmitter22 provider shall communicate towns confidential information officers employees representatives clear need know order accomplish purposes confidential information disclosed provider shall obtain written assurances officers employees representatives maintain confidentiality thereof31 date agreement provider agrees neither disclose third party permit third party access confidential information disclosed town without prior written consent town use confidential information purpose consented writing town41 provider agree use best efforts prevent disclosure confidential information third party indefinite period time date agreementbuyer agrees disclose confidential information anyone itshisher advisors affiliatesneed know information connection transactionb agreed signing copy agreement bound terms agreement4 receiving party undertakes term agreement period five 5 years date expiry terminationdivulge confidential information third party purpose unless expressly authorized writing disclosing partyrecipient shall disclose confidential information third parties affiliates respective officers directors employees consultants professional advisers collectively representatives need know confidential information use evaluating pursuing potential business relationship disclosing party affiliates permitted use4 recipient undertakes keep confidential information disclosed party secure disclose third party except employees professional advisers need know purpose know owe duty confidence party bound obligations equivalent clause 3 clause 43 recipient undertakes keep confidential information secure disclose third party except employees professional advisers need know purpose know owe duty confidence discloser bound obligations equivalent clause 2 clause 37 notwithstanding anything contrary paragraph 4 hereof proprietary information may disclosed receiving party employees consultants require knowledge thereof connection duties conducting aforesaid purpose agreement obligated written agreement hold proprietary information confidence restrict use consistent receiving partys obligations agreement proprietary information may disclosed legislative judicial regulatory body requiring disclosure provided prior disclosure receiving party notified disclosing party requirement opportunity disclosing party object seek appropriate protective orderperiod two 2 years date receipt confidential information shall maintained confidence recipient shall disclosed published communicated divulged revealed manner person firm corporation third party entity including employees recipient need know know details pertaining confidential information course employment except may otherwise provided agreement2 nondisclosurecompany make copies disclose discuss publish disseminate confidential information third person entityc recipient shall keep confidential information confidential times shall disclose confidential information person including employees except employees representatives advisors agents need know information connection assisting recipient purposes set forth paragraph 2b required keep information confidentialobligations parties shall hold maintain confidential information strictest confidence times agents employees representatives affiliates individual entity need know basisshall times hold trust keep confidential disclose third party make use confidential information beyond activities part focus groupshall times hold trust keep confidential disclose third party make use identity pii respondent involved focus groupused agreement term representatives means respect phcs recipient directors officers shareholders members managers partners employees affiliates controlling persons agents advisors representatives including without limitation attorneys accountants financial advisorsrecipient agrees disclose confidential information representatives need know information purpose business relationship phcs shalladvised recipient agreement confidential nonpublic nature confidential informationii agree recipient bound provisions hereofrecipient may disclose confidential information solelyb personnel hired help andor advice business consultants lawyers andor accountants personnelindividually requested access confidential information gtc granted accessii need know information jobsiii advised duty nondisclosureiv individually executed non disclosure agreementpersonnel must execute agreement form set forth appendix bparticular university permitted reveal confidential information third parties far necessary allow proper performance assessment processreceiving party shall disclose communicate confidential information third party except herein provided3 purposes confidentiality nondisclosure undertaking vendor undertakes33 disclose confidential information person without prior written authorization grindrod sarecipient agrees period five 5 years effective date agreement recipient disseminate confidential information except employees directly involved evaluation information furthermore recipient use degree care event less reasonable care avoid disclosure unauthorized use information recipient employs respect confidential informationwhereas affiliates shall mean person entity directly indirectly controlling controlled common control euler hermes control means legal power direct cause direction general management company partnership legal entity1 euler hermes shall keep confidential information confidential may disclose confidential information affiliates employees contractors consultants purpose described purposerecipient shall keep confidential information confidential shall use exploit confidential information way except purpose state purpose purpose shall disclose confidential information third party except expressly permitted agreement5 confidential information shall disclosed employee consultant third party unless executed agreed bound terms agreement approved manitoba housing4 rochester authorizes company disclose confidential information employees consultants require confidential information evaluation hereunder potential licensees provided employee consultant potential licensee first entered written agreement agrees bound similar obligations nonuse nondisclosure imposed company hereunderboard member use disclose confidential information third party purpose performance duties board member hnba unless hnba expressly authorizes disclosure writingboard member specifically agrees use personally identifiable information provided behalf hnba contractors affiliates vendors sponsors employees direct marketing transfer information third party2 board member agrees restrict dissemination confidential information persons employed board member board members employer require access confidential information assist board member carrying duties hnba personnel clear understanding confidentiality obligations imposed agreement also agrees maintain confidentiality confidential information accordance terms hereof signing agreement confidential information disclosedc undersigned vendor may disclose confidential information vendors employees consultants needtoknow basis event vendor executed written agreements employees consultants contain obligations less restrictive contained agreement informed employees consultants confidential nature informationrepresentative means employees agents officers advisers representatives recipientrecipient may disclose disclosing partys confidential information representatives need know confidential information purpose providedreceiving party may disclose confidential information confidential materials receiving partys employees bonafidae consultants needtoknow basisexcept described elsewhere agreement recipient employees officers agents affiliates permitted access hereunder hold confidential information confidence take necessary steps preserve confidential proprietary nature confidential informationwithout limiting foregoing recipient1 disclose confidential information persons within organization need know order recipient engage purpose2 disclose confidential information person outside organization unless person need know order recipient engage purpose person bound fiduciary contractual duties confidentiality recipient least stringent contained agreementrecipient communicate information employees contractors agents need know information employees contractors agents written agreements recipient obligating keep information confidentialhold information confidence way disclose information person entity without prior written ascent ownerreceiving party shall disclose allow access transmit transfer confidential information third party without disclosing partys prior written consent provided however receiving party may disclose confidential information directors officers employees representatives need know confidential information purpose provided receiving party shall ensure representatives treat confidential information confidential times manner consistent agreement receiving party shall liable loss damage resulting representative failingconfidential informationshall disclosed revealed anyone except employees recipient need know confidential information purpose agree bound terms agreementrepresentative means employees agents officers advisers representatives recipientrecipient may disclose disclosing partys confidential information representatives need know confidential information purpose provided3 period five 5 years date receiving confidential information maintained confidence receiving party disclosed third party persons employed business need know purposes set forth protected degree care receiving party normally uses protection confidential proprietary information case less degree reasonable careconsideration disclosure donor information whether contained documents relating ‘the information purposes preparation filing prosecution one patent applications ‘the applications behalf donor ‘the purpose recipient undertakes respect preserve confidentiality information without express prior consent donor either11 communicate otherwise make available information third partyemployee recipient requires information connection employment employee bound conditions secrecy less strict set agreement conditions recipient hereby agrees enforce request donor andordisclosure confidential information outside agents affiliates receiving party must agreed upon disclosing party writingconfidant must disclose confidential information third party without express prior written consent nostradatarecipient disclose disclosers confidential information recipients employees consultants contractors need know information assist recipient respect purpose legally bound terms conditions substantially similar terms conditions applicable recipient agreementrecipient agrees copy duplicate disclose deliver portion confidential information third party permit third party inspect copy duplicate except parties deemed necessary undersigned evaluate possible business relationship including agents advisors affiliates accountants attorneys consultants lendersevent vendor requires assistance third party employees vendor disclosure confidential information necessary vendor shall first seek iscas written approval third party thereafter prior disclosure third party obtain third party duly binding nondisclosure agreement terms least binding upon third party vendor bound isca hereunder terms subject iscas prior written approval3 party covenants agrees term nondisclosure agreement keep confidence prevent disclosure proprietary information third party receiving partysemployees agents representatives directors officers collectively representatives need know proprietary information purposerecipient may disclose confidential information employees directors officers agents consultants administrators needtoknow information project provided advised confidential nature confidential information obligation maintain confidentialityrepresentative means directors officers employees investment bankers rating agencies consultants counsel representatives adp partner applicableexcept required law receiving party shall treat confidential use purpose evaluating partner application stated section 2 disclose otherwise make available confidential information disclosing party person representatives receiving party business need know purposes evaluation advised receiving party terms conditions agreementconfidential information may passed general managers employees representatives consultants partner disclosure access confidential information demonstrably necessary scope projectrecipient share confidential information employees advisors agents disclosure necessary purpose provider disclosed informationreceiving party may disclose trade secrets confidential information attorneys accountants employees extent persons need know information purposes described agreement provided employee shall obligated writing comply terms conditions agreement attorney accountant shall either legally bound comply terms conditions agreement obligated writinginformation belonging parties shall provided disclosed form undersigned third party directly indirectly unless third party bound terms agreementc undersigned agrees proprietary information including limited financial marketing information product service information customers names provided either party shall provided disclosed directly indirectly third party without prior written agreement parties3 receiving shall use confidential information purpose disclose confidential information third party without disclosing partys prior written consent addition receiving party share confidential information internal employees strictly need know basisparty requested may receiving party information nonpublic nature use party officers directors agents employees representatives including financial legal advisers either party partnership partners collectively representatives connection consideration parties possible agreement partnership joint venture consortium relationship business relationship parties projectparty receiving information shall keep information confidential shall disclose information whole part person representatives need know information connection receiving partys evaluation thereof determination business strategies actions connection project agreed understood representatives shall informed receiving party confidential nature information shall required receiving party agree treat information confidentially except prior written consent party hereto otherwise permitted hereunderrecipient may disclose disclosers confidential information recipients affiliates condition recipient shall restrict access disclosers confidential information recipients affiliates officers directors employees legitimate needtoknow carry purpose obligated protect confidential information pursuant terms conditions less protective discloser contained agreement recipient shall liable failure affiliates abide provisions agreement failure act omission partywithout limiting generality foregoing party recipient promises agreesdirectly indirectly way disclose make accessible reveal report publish disseminate transfer confidential information third party318 permitted person means – representatives recipient person recipient discloses confidential information prior written consent disclosing party3112 representatives means respect party partys affiliates respective directors officers partners members employees agents accountants lawyers consultantsrecipient shall entitled disclose confidential information permitted persons extent disclosure necessary permitted purpose need know basisexcept otherwise expressly permitted writing authorized representative discloser recipient mayb directly indirectly discloseproprietary information person entity recipients employees consultantsneed know order fulfill purposereceiving party disclose keep confidential information received except employees representatives agents need access confidential information purpose carrying duties connection permitted purposes specified clausereceiving party disclose confidential information received third parties except otherwise provided herein4 confidential information may disclosed receiving party employees directors officers advisors attorneys auditors agents needtoknow basis connection opportunity employee director officer advisor attorney auditor agent confidential information disclosed shall treat confidential information manner consistent agreement4 proprietary information received disclosing party recipient agreesb restrict disclosure employees agents contractors need know basis advise persons obligations keep confidentialconfidential information made available one party shall kept secret third partiesconfidential information received may supplied third party without prior written permission party heretodisclosure confidential information affiliated companies permitted conditions laid 51receiving party may disclose confidential information professional advisors including lawyers accountants board members herein called permitted persons written consent disclosing party shall procure permitted persons shall execute writing least like obligation confidentiality respect confidential information shall comply provisions hereof terms conditions receiving party obligation handed disclosing party proxy3 receiving party agreesii disclose confidential information directors officers agents employees corporate affiliates third parties retained receiving party need know information order receiving party accomplish purposes set forth paragraph 4 hereof made aware confidentiality provisions agreement case third party signed binding undertaking confidentiality nonuse substantially equivalent agreementparticipant use degree care less reasonable degree care participant uses respect similar information protect confidential information preventii dissemination confidential information third partyreceiving party shall carefully restrict access confidential information employees contractors agents third parties reasonably required shall require persons sign nondisclosure restrictions least protective agreement2 party treat confidential information disclosed party secret confidential except prior written consent make use except purpose evaluation thereof disclose third party except extent necessary evaluate employees shall made fully aware secret confidential bound treat1 recipient shall communicate disclosers confidential information third party shall use best efforts prevent inadvertent disclosure confidential information third party2 recipient supplier limit access information employees agents subcontractors employees absolute need know order fulfil purposes information disclosed shall notify employees agents subcontractors employees recipients obligations agreementparties shall limit disclosure confidential information within organization directors officers partners members andor employees need know confidential information shall disclose confidential information third party whether individual corporation entity without prior written consent party consent shall unreasonably withheldrecipient shalllimit access confidential information employees shall reasonably require access confidential information purpose set forth3 receiving party shallb disclose information needtoknow basis employees agents consultants contractors similar obligations confidentiality contained agreement including limited use information authorised purpose• party shall disclose confidential information received person partys employees advisors representatives directly concerned purpose confidential information disclosed received need know confidential informationconfidential information shall remain property writer shall disclosed revealed producer anyone else except employees producer need know information connection producers evaluation submission entered secrecy agreement producer employees required keep confidential confidential information writer employees shall advised producer confidential nature information information shall treated accordinglyproducer shall notify writer determination may arrive respect development submission provided however producer shall directly indirectly disclose confidential information third party without consent writer4 arin covenants agrees take reasonable care prevent disclosure person persons outside organization unauthorized person persons specifically identified applicant writing proprietary information received applicant nondisclosure agreement protected accordance paragraphs 2 3 hereof provided however arin shall liable disclosure information information4 party shall hold trust confidence protect treat strictly secret confidential times information received party respect information party agreesc shall restrict disclosure information employees consultants subcontractors need know purpose shall procure persons observe fully provisions agreement partiesreceiving party shall copy whole part sell assign lease license disclose give otherwise transfer confidential information copy thereof third party otherwise use confidential information purpose intended agreementreceiving party may disclose confidential information employees consultants receiving party need know confidential information order enable receiving party use confidential information purpose intended agreement legally bound use disclose confidential information purpose22 recipient agrees hold confidence confidential information disclosed agrees disclose confidential information third parties without prior written permission disclosing party restrict use confidential information purpose use purpose23 recipient undertakes use best efforts limit access confidential information control solely recipients employees whose access confidential information essential provided employees specifically informed confidentiality confidential information agreed bound terms agreement entered agreement similar scope obligations recipient protect proprietaryconfidential information recipient proprietaryconfidential information third parties recipients possession2 subject provisions clauses 4 7 hereof receiving party undertakeskeep confidential disclose third party except written permission disclosing party part whole proprietary information disclosed agreementrestrict access proprietary information disclosed terms agreement employees officers need know purpose23 affiliates shall mean receiving partys affiliated related andor subsidiary entities parents respective employees directors officers agentsaccess releaseuse disclosed confidential information shall restricted employees directors attorneys receiving party affiliates need know confidential information respect purposeconsideration mutual exchange disclosure confidential information party undertakes relation partys confidential informationc disclose whether employees third parties except confidence employees directors contractors need know purposereceiving partylimit disclosure confidential information directors officers employees agents representatives collectively representatives need know confidential information connection current contemplated business relationship parties agreement relates purposeneither party shall provide third party copies duplicates confidential information disclosed party representative whether intentionally unless disclosure allowed written consent singed partywhereas parties shall include employees directors party shall include agents representatives consultants financial advisors unless disclosure nonemployee nondirector approved prior disclosure disclosing party willing exchange pursuant agreement business technical information2 receiving party shall provide confidential information employees directors agents representatives consultants financial advisors approved advance disclosing party bona fide need know purpose case ast current prospective member companies case bound written agreement including confidentiality nonuse terms conditions least protective agreement1 buyer agrees disclose reveal confidential information including existence listing persons entities buyers employees representatives directly participating evaluation information connection proposed acquisitionparty undertakes respect confidential information recipient‐b without disclosing partys prior written consent case communicate disclose part confidential information person except‐ii recipients auditors professional advisers persons bodies legal right duty access knowledge confidential information connection business recipientrecipient disclose confidential information third parties except directors officers employees consultants agents recipient required information order carry purpose set forth section 1 agreementrecipient acknowledges disclosers confidential information special valuable unique asset agrees period three 3 years following receipt confidential information shallb restrict dissemination confidential information employees contractors agents directly participating authorized purpose need know confidential information bound duty confidentiality terms less restrictive contained herein concerning use confidential information5 recipient disclose confidential information employees agents representatives need know confidential information bound writing keep confidential extent necessary discussion conductedreceiving party shall take practical steps keep disclosing partys confidential information confidential shall restrict access confidential information agents professional advisers disclosure necessary pursuit approved purpose2 receiving party shall disclose proprietary information third party without disclosing partys express written consent5 receiving party shall permit access proprietary informationc receiving partys accountants attorneys similar professional advisors provided recipient obligated protect proprietary information terms conditions least restrictive terms conditions agreementdisclosure third party party shall subject prior consent party consent shall unreasonably withheld unless disclosing party believe might go purpose agreementreceiving party shall use best efforts limit dissemination disclosing partys confidential information employees subcontractors need know aforesaid evaluation andor development purposes11 authorized persons means person entity party partys group company authorizes access confidential information purpose bound confidentiality terms least protective confidential information agreementparty shall hold partys confidential information strictest confidence shall disclose partys confidential information third party except receiving partys authorized persons needtoknow basis5 disclosure confidential information shall limited suppliers employees need use study confidential information purposesupplier shall advise employees agents obligations pursuant agreement supplier shall remain responsible ensure complianceexcept provided subsectionc developer shall disclose sample data third party employees agents professional advisors except employees agents professional advisors required sample data implement permitted purposeparty agrees treat confidential information disclosed degree care protecting confidential proprietary information confidential information shall disclosed within recipient party needtoknow basis34 notwithstanding anything contrary contained agreement parties agree information may disclosed receiving party professional advisors agents consultants purposes evaluating investigation enter agreement contemplated clause 1 introduction providing receiving party takes whatever steps necessary procure professional advisors agents consultants agree abide terms agreement prevent unauthorised disclosure information third partiesreceiving party may disclose information officers employees professional advisors strictly needtoknow basisrecipient shall disclose confidential information employees contractors third parties except employees contractors third parties need know confidential information fulfill purpose provided413 sp shall disclose confidential information fp employee consultant professional adviser contractor subcontractor agent sp collectively referred herein representative sp affiliate sp shall given access thereto sp4131 unless strictly necessary purposes referred 212 party receiving proprietary informationc shall disclose permit said proprietary information disclosed manner whatsoever directors officers employees investment advisers legal counsel agents cae applicable member cae group need know strictly necessary disclose said proprietary information persons purposeb subject tennessee public records act section 10751 et seqwithout written consent disclosing party receiving party disclose disclosing partys confidential information person receiving partys officers directors owners employees agents representativesvalid need know confidential informationreceiving party shall carefully restrict access confidential information employees contractors third parties reasonably required shall require persons sign nondisclosure restrictions least protective agreement1 client hold confidential information strict confidence disclose copy reproduce distribute person authorised recipients defined clients directors officers employees associates affiliates advisers directly concerned transaction whose knowledge confidential information necessary transactionexcept express written consent owner recipient agrees1 use disclose another person entity confidential information owner13 agent investor authorized person investor access proprietary information31 investor authorized grant access proprietary information parties require access proprietary information realizing investors rights offer order achieve provision proprietary information obliged disclose proprietary information informed fact conclusion agreementdisclosure use unless otherwise agreed disclosing party writing confidential information received receiving party shall retained confidence disclosed officers directors employees advisors agents affiliates collectively representatives solely need know basis used connection activity purpose provided representatives shall agreed bound obligations confidentiality consistent contained agreement provided receiving party agrees responsible breach agreement representativescontractor shall disclose confidential information associates members employees subcontractors except employees subcontractors required confidential information order perform duties connection evaluation continuation business relationship contractor companydisclose information regarding businesses person also signed dated agreement except secure advice counsel case agree obtain consent maintain confidentialityapplicant agrees moreover• disclose information applicants employees particular employees subcontractors required information purpose applicants registration rrm previously signed agreement content similar provisions thereofnecessary effectuate furthering potential research relationship recipient may disclose confidential information received agreement employees andor consultants need know provided consultants bound protect confidential information unauthorized use disclosure terms written agreementunless otherwise expressly authorized disclosing party receiving party agrees retain confidential information confidence period stipulated clause 7 herein shall disclose confidential information third party employee agent except officers employees representatives advisors agents need know shall use confidential information purpose purposes agree herein1 parties shalliv respect person disclosure contemplated require person execute agreement providing treatment confidential information set forth clausesiiiforegoing shall require separate written agreements employees agents already subject written agreements substantially conforming requirements section legal counsel certified public accountants professional advisers professional obligation maintain confidences clients4 confidential information shall disclosed employee consultant third party unless agree execute bound terms agreement approved xczonetvinformation data confidential nature may forwarded acronym pine project partner project partners andor third parties appointed carry analysesreceiving party disclose keep confidential information received except employees representatives agents need access confidential information purpose carrying duties connection permitted purposes specified clause2receiving party disclose confidential information third parties receiving partycid146s employees except employees required information order carry contemplated business3 neither party shall disclose confidential information received person entity except employees officers directors independent consultants affiliates subsidiaries agents collectively representatives involved performance project use confidential information purpose fulfilling obligations projectinformation may disclosed employees andor agents required law employees andor agents must bind agreementk make sure employees andor consultants engaged undertake audit behalf signed mandatory nondisclosure agreementauditor shall restrict disclosure confidential information employees andor consultants need know advise employees andor consultants obligations assumed herein shall use confidential information purposes set forth agreement shall disclose confidential information affiliates subsidiaries associates andor third party without prior written approval auditeee representatives means respect person affiliates person respective directors officers employees managing members general partners attorneys accountants investment bankers financial advisors consultants advisors actual potential sources debt financing person affiliates12 provided avoidance doubt event shall actual potential sources equity financing buyer affiliates considered representative buyer purposes agreement without prior written consent companybuyer agrees buyer representatives shalliii disclose evaluation material representatives buyer disclosure needed facilitate evaluation negotiation andor consummation transactionrepresentative means employees agents officers advisers representatives recipientrecipient may disclose disclosing partys confidential information representatives need know confidential information purpose provided\\uf0b7 volunteer trainer evaluator agrees without prior written consent companion paws lifeline canada foundation divulge confidential information third parties copy documents containing confidential information\\uf0b7 volunteer agrees without prior written consent certification council professional dog trainers divulge confidential information third parties copy documents containing confidential informationrecipient hold confidential information confidence disclose confidential information person entity without prior written consent ownerparty hereto term representatives shall mean partys directors corporation managers llc selected officers employees agents representatives advisors including attorneys accountantsparty hereby agrees confidential information received used solely business purpose information kept confidential party provided however confidential information may disclosed representatives receiving party need know basis extent necessary business purpose understood representatives shall informed receiving party confidential nature information shall directed treat information confidentially receiving party shall take reasonable measures restrain date dec 2015representatives unauthorized use disclosure disclosing partys confidential informationcontractual partners shall restrict distribution access information exchange persons need information reasonably carry planned activitycontractual partners may disseminate copies information data data storage media subcontractors prior approval authorized signatory contractual partneragents means directors officers employees agents professional advisers contractors subcontractors group member23 notwithstanding clause 21 receiving party may disclose confidential informationagents strictly need know confidential information sole purpose set clause 22 provided receiving party shall ensure agents made aware prior disclosure part confidential information confidential owe duty confidence disclosing party71 party agrees information made available receiving party agents purpose negotiations discussions relation proposal form basis representation relation contract constitute offer invitation disclosing partyaccordingly unless otherwise agreed writing client chemsultants agreeskeep confidential information confidential time transaction confidential information disclosures made publish disclose divulge confidential information person firm corporation representatives cause representatives observe terms agreementpurposes agreement term representative shall mean partys affiliates directors officers employees agents advisors including without limitation financial advisors legal counsel accountants controlling persons actively directly participating transaction client otherwise need know confidential information purpose furthering transaction client agree bound terms agreementemployees agents company shall given access confidential information order proceed services3 company hereby discloses may subcontract part services provided clientevent company use reasonable endeavours ensure subcontractors disclosure information made act accordance terms agreement party heretocontract partners undertake keep information accordance detailed provisions contract disclosed contract partner secure take necessary precautions ensure third parties access information information disclosed third parties1 contract partner receiving information „recipient disclose information received third parties use information business purposes purpose except purpose exchange without first obtaining written agreement discloserrecipient ensure information disclosed employees need know purpose exchange explicitly know owe duty confidence discloser bound obligations equivalent clauses 1 2recipient shall disclose person firm corporation employees directors agents representatives including without limitation attorneys accountants appraisers financial advisors need know purposes completing assessment project collectively representatives confidential information received disclosing party hereunder using degree care avoid disclosure confidential information recipient employs respect proprietary confidential information like kind1 respect confidential information whatever form acquired prior period agreement one party receiving party party disclosing party relating purpose receiving party undertakesb disclose information extent necessary employees disclosure necessaryrecipient disclose confidential information third parties except directors officers employees consultants agents recipient required information order carry purpose set forth section 1 agreement3 parties shall limit disclosure confidential information within organization directors officers partners members agents advisors funders bankers consultants andor employees need knowiii reasons mentioned contractor obliged treat documents information knowledge samples data made available purchaser made known purchaser occasion cooperation strictly confidential make available third parties direct indirect way neither entirely partlyaddition granted prices conditions purchaser secrecy may disclosed third parties without express written consent purchasercontractor make available known data forwarded made known purchaser terms bdsg third parties neither directly indirectly use perform workrepresentatives means directors officers employees agents professional advisers party member partys group time time permitted finance providersrestrictions paragraph 21 23 apply disclosure confidential information target confidential information appropriate311 partys respective representatives directly concerned assessment jlt group implementation possible transaction whose knowledge confidential information target confidential information appropriate reasonably necessary purposesprovisions agreement confer benefits persons referred paragraph 14 us third party third party right contracts rights third parties act 1999 1999 act enforce respective rights agreementreceiving party shall disclose confidential information third party individual corporation entity without prior written consent disclosing party shall limit circulation disclosure confidential information within organization employees need know confidential information purpose set forth agreement ensure employees informed confidential nature thereof agree required observe provision confidentiality set forth herein32 receiving party shall carefully restrict access confidential information employees contractors third parties reasonably required shall require persons sign nondisclosure restrictions least protective agreementproponent shall employ precautions necessary prevent unauthorized use access disclosure confidential information including limited ensuring confidential information disclosed affiliates officers employeesneed knowb advised proprietary confidential nature information confidentiality obligations set agreementc bound similar duty confidentiality2 confidential information shall remain property company name shall disclosed revealed anyone except company name agents licensees successors assignsrespect confidential information recipient hereby undertakes213 disclose confidential information employees companies directly indirectly owned controlled recipient consultants andor advisors disclosure necessary permitted purpose understanding employees consultants andor advisors expressly subject provisions confidentiality agreementreceiving parties agree disclose confidential information contractor consultant bound nondisclosure agreement receiving partyconfidential information may disclosed employees subcontractors officers party partys subsidiaries affiliates direct need know information purposes nrsc analysis counsel purposes obtaining advice regarding partys rights responsibilities agreement3 share computer user login ids passwords anyone time reason except cases necessary facilitate computer maintenance repairsdisclosee agrees disclose confidential information material person organization representative entity business manufacturer designer corporation individuals reasonably necessary purpose nusd using discloseedisclosee may disclose confidential information confidential materials disclosees consultants needtoknow basisdisclosee shall disclose confidential information confidential materials third party consultants mentioned herein without prior written consent nusd3 parties shalldisclose confidential information obtained party person entity without prior written permission party4 notwithstanding duty nondisclosure paragraph 3 parties may disclose confidential information directors officers employees advisors representatives provided persons bound duty nondisclosure agreement informed dutyrecipient shall disclose confidential information representatives representatives affiliates except required carry purpose agreement benefit deere affiliatesrepresentative shall mean officer director employee contractor agent supplier advisor respective entityaffiliate shall mean corporation partnership entity either directly indirectly controls controlled common control party control defined fifty percent 50 controlling interestc undersigned receiving party may disclose confidential information receiving partys employees consultants needtoknow basisreceiving party may disclose confidential information311 employees receiving party strictly necessary permitted purpose andorreceiving party shall carefully restrict access confidential information employees contractors third parties reasonably required shall require persons sign nondisclosure restrictions least protective agreementconfidential information may disclosed employees contractors recipient need know subject written confidentiality agreements sufficient carry intent agreementreceiving party agrees disclose confidential information respective employees agents representatives determined need know advised obligation comply terms agreementg representatives means companys directors officers employees contractors agents consultants professional advisers companys related companiesconsideration foregoing exchange disclosure confidential information ihis company undertakes relation ihis confidential informationf disclose whether employees third parties except confidencerepresentatives informed confidential nature thereof need know purpose4 access limited representatives – potential bidder may reveal permit access confidential information agents representatives including lawyers accountants financial advisors directors officers employees representative require access confidential information permitted purpose informed potential bidder confidential nature confidential information directed potential bidder hold confidential information strictest confidence agree act accordance terms conditions ndareceiving party hereby agrees undertakes disclosing party behalf persons disclosure permitted within terms agreement subject herein described confidential information howsoever acquired received receiving party22 shall held strictly confidential using commercially reasonable methods shall divulged directly indirectly otherwise made available whole part third party without prior written consent disclosing party provided receiving party may without approval disclose confidential informationaffiliate receiving party directly concerned permitted purpose whose knowledge confidential information essential permitted purposepurposes agreement affiliate shall mean holding company subsidiary company holding company subsidiary shall meanings respectively ascribe thereto section 736 companies act 1985 includes subsidiary undertaking defined section 258 companies act 1985c employees officers outside professional advisers employees officers outside professional advisers affiliates directly concerned permitted purpose whose knowledge confidential information essential permitted purpose provided prior disclosure confidential information paragraphsc receiving party shall ensure recipient thereof made aware confidential nature confidential information receiving party shall assume full responsibility actions affiliates employees officers professional advisorscircumstances may disclose data third parties without written authorization client even merely safekeepingrecipient disclose confidential information third parties except directors officers employees consultants agents recipient required information order carry purpose set forth section 1 agreementowner recipient bound disclose confidential information business data employees need know information business data order properly carry work subject agreement explicitly warned obliged safe keep information business data confidential case violation confidentiality liable damage causedconfidential information allowed communicated third parties express written consent ownerauditor shall restrict disclosure confidential information employees andor consultants need know advise employees andor consultants obligations assumed herein shall use confidential information purposes set forth agreement shall disclose confidential information affiliates subsidiaries associates andor third party without prior written approval auditeeadditionally may disclose others confidential information respective representatives defined herein representatives required confidential information purposes agreementparty must ensure affiliates representatives required protect confidential information terms consistent agreement\\uf0a7 except required court order law including limited california public records act ralph brown act california government code section 54950 et seq subpoena legally permitted required disclosure parties agree disclose others confidential information third parties except employees recipient required information purposes agreement representatives defined except otherwise allowed agreement\\uf0a7 purposes agreement representative employee contractor vendor service provider advisor consultant party partys respective affiliates including limited science applications international corporation saic atos governmental outsourcing services llc atos respective employees affiliates subcontractors\\uf0a7 party may disclose others confidential information representatives may disclose confidential information representatives representatives required confidential information purposes agreementused agreement representatives stated shall mean partys officers employees agents consultants representativesreceiving participant also agrees confidential information may disclosed subject terms agreement internally receiving participants representativesneed know confidential informationii understand bound agreementiii agree fulfill obligations agreementreceiving participant shall hold confidence confidential information disclose confidential information except receiving participants representatives accordance agreement exercise amount diligence preserving secrecy information diligence used preserving secrecy receiving participants confidential information like importance event less reasonable diligencerecipient disclose keep confidential information received except employees representatives agents need access confidential information purpose carrying duties connection permitted purposes specified clauseparty agrees disclose confidential information third person disclose confidential information employees affiliates need know agree keep information confidential4 recipient directly indirectly time without disclosing partys prior written consent disclose reveal permit access information whole part person employees agents need know connection performance collaboration trade disclosing partycompany undertakes provide access confidential information solely а employees require access confidential information perform projectb authorized representatives subcontractorsrequire access confidential information implement projectii approved advance writing client perform work projectiii signed nondisclosure agreements reflecting actual transfer confidential information establishing procedure use least terms conditions analogous terms conditions agreementcompany undertakes provide access confidential information solely company representatives defined purpose conducting negotiations contract preparation taking part work contract client well reviewing quality procedures company professional consultants confidential terms conditions analogous terms conditions agreement purpose company getting necessary consultation connection implementation projecttime company representatives – company party agreement member firms network affiliated company international cooperative controlled member firms individuals including partners directors employees agents member firms controlled individuals company representative means mentionedwithout limiting generality foregoing receiving party promises agreese restrict access confidential information officers directors employees clearly need access carry business purposesundertake disclose names particulars third parties without written consent disclosing party2 respect confidential information disclosed hereunder recipient agrees date agreement recipient shallb disclose confidential information third party exceptdirectors officers managers employees consultants contractors professional advisors recipient collectively representatives need know confidential information authorized purpose subject existing obligation enter agreement recipient disclose confidential information2 recipient agrees disclose confidential information third party except specifically authorized agreement specifically authorized company writingrecipient agrees hold confidential information trust confidence agrees shall used recipient employees needtoknow contemplated purpose set forth shall used purpose disclosed party bound nondisclosure agreement companycorporate advisors means lawyers accountants financial professional advisors receiving party required law contract otherwise keep confidential information may disclosed receiving party22 receiving party may disclose disclosing partys confidential information officers directors employees including affiliates corporate advisors need know confidential information provided individuals bound obligations confidentiality receiving party entered agreements receiving party obligations confidentiality less stringent agreementrecipient disclose keep confidential information received except employees representatives agents need access confidential information purpose carrying duties connection permitted purposes specified clausecompany shallhold confidential information confidence shall sell assign transfer otherwise disclose confidential information information materials derived third party without prior consent ttc save except otherwise provided hereinrestrict release access use confidential information employees officers must access confidential information order permit company good faith determine whether submit bid based rfp save except otherwise provided herein321 analyze analyzed sample order determine chemical structure composition permit third parties322 subject clause 324 pass convey part sample third party without express consent company name324 use reasonable means keep samples secure limit dissemination samples employees require access samples purpose evaluation event subject clause 334 may disclose exam questions answers discuss content exam materials person without prior written approval open grouppart confidential information may disclosed receiving party affiliates respective directors officers employees agents advisors authorised receiving party authorised recipients receive confidential informationreceiving party shall disclose part confidential information persons parties authorised recipients unless prior written consent disclosing partyb data recipient agrees make available disclose provide communicate nonpublic information entity individual exceptii contractors data recipient1 signed nondisclosure agreement covers nonpublic information least restrictive agreement2 need nonpublic information work performed subject limitation market sensitive information24 recipient ensure information stored securely cannot accessed individuals except representatives including outside business hoursrecipient may disclose confidential information internally within organization including affiliates needtoknow basis except cardholder information shall disclosed outside attorneys consultants contractors subcontractors representatives extent individuals bound legal obligation agreement protective confidential information agreementrelation confidential information disclosing party receiving party undertakesrefrain disclosing confidential information whether employees personnel charge third parties except employees personnel charge third parties need know whose services appropriately required connection purpose subject prior written consent disclosing party provision clause 32 herein14 recipients team means person member recipients team whether member employee subcontractor agent recipient employee agent personrecipient hold keep ensure recipients team hold keep confidential material confidence trust city using least degree care less reasonable degree care recipient uses protect similar confidential information like importanceb disclose confidential material recipients team definable need know information purpose provided recipients team bound confidentiality agreement recipient less restrictive agreement event employment appointment person terminated recipient agrees use best efforts recover confidential material persons custody controlrecipient without written consent city disclose third party either fact discussions negotiations taking place concerning transactions terms conditions facts respect transactions including status thereof subject matter agreement provided however nothing herein prevent recipient making disclosureconfidential basis recipients team extent person needs know information strictly purposesupplier agrees recipient confidential informationiii shall disclose confidential information affiliates employeesnecessary disclose confidential information performance servicesb advised terms agreementc agreed writing bound terms agreementv except set forth section 1biii shall disclose way disseminate make available confidential information disclosed otherwise made available possession partyconfidential information may disclosed receiving company receiving companys representatives limited extent representative needs know confidential information purpose evaluating potential transactionb purposes agreementpersons representatives shall affiliates officers directors managers members shareholders partners employees agents representatives consultants principals attorneys accountants advisors potential financing sources person affiliatesparticipant may disclose confidential informationc officers employees andor professional advisors need know purposes agreement seeking advice matter arising agreement provided participant shall ensure officers employees professional advisors confidential information disclosed made aware agree abide terms agreement disclosure madecompany agrees retain information provided connection rfp strictest confidence neither use disclose information anyone case need know information purpose responding rfpdisclosing party agreed provide recipient access evaluation material subject entering confidentiality agreement setting forth terms conditions pursuant evaluation material provided recipient including recipients directors officers employees agents counsel consultants representatives collectively representativesrecipient safeguard strictly control dissemination evaluation material release disclose evaluation material person representatives case representatives need receive information connection evaluation first informed agreed bound terms agreement2 informed proprietary confidential nature confidential information disclosed party receiving party recipient shall period three 3 years date disclosure refrain disclosing confidential information contractor third party without prior written approval disclosing party shall protect confidential information inadvertent disclosure third party using care diligence recipient uses protect proprietary confidential information case less reasonable careconfidential information shall held strict confidence receiving party shall disclosed without prior written consent disclosing party except advisors affiliates agents assigns attorneys employees directors officers andor members agents needtoknow confidential information purposes analyzing implementing completing transactionsreceiving party shall treat strictly confidential information disclosed sintec shall disclose said information third parties use business purposes customers without prior written consent sintecparties agree use disclose cause respective employees agents affiliates representatives consultants use disclose form reason confidential information purpose directly related purpose describedparties agree confidential information provided recipient directors officers elected appointed officials employees agents affiliates advisors representatives consultants need know3 receiving party undertakes disclose confidential information persons except employees receiving party listed annex 1 agreement need possess information order achieve purposes specified section 2 agreement signed confidentiality agreements otherwise obliged maintain confidentiality relation confidential information extent specified agreementconfidential information shall used solely purpose parties agree shall disclose confidential information employees consultants need know confidential information furtherance purposeprior providing confidential information employee consultant receiving party shall ensure executed nondisclosure agreement place employee consultant protections substantially similar protections agreement11 agents means directors officers employees agents professional advisers contractors subcontractors group member23 notwithstanding clause 21 receiving party may disclose confidential informationagents strictly need know confidential information sole purpose set clause 22 provided receiving party shall ensure agents made aware prior disclosure part confidential information confidential owe duty confidence disclosing partyparty receiving party agreesc disclose confidential information person andor affiliated companies respective employees stockholders partners members directors officers advisors agents accountants attorneys representatives andor consultants collectively representatives caseneed know confidential information facilitate evaluation negotiation applicable consummation potential transactionii advised confidential proprietary nature confidential information bound confidentiality obligations may contained representatives engagement agreements limit use disclosure confidential informationexcept set forth section 2 confidential information means nonpublic confidential proprietary information disclosed effective date disclosing party recipient affiliates recipients affiliates employees officers directors partners shareholders agents attorneys accountants financing sources advisors collectively representatives however disclosed including without limitationrecipient shall protect safeguard confidentiality confidential information least degree care recipient would protect confidential information event less commercially reasonable degree care use confidential information permit accessed used purpose purpose including without limitation reverse engineer disassemble decompile design around confidential intellectual property disclose confidential information person entity except recipients representatives need know confidential information relation purpose informed obligations hereunder agree abiderepresentative means relation party partys employees agents accountants lawyersrecipient may disclose part disclosers confidential information representative needs know particular confidential information purpose provided relation representative disclosers confidential information disclosed recipient prior disclosureii recipient1 shall disclose confidential information employee subcontractor recipient unless person needs access order facilitate evaluation preparation response rfp csp903918 executes nondisclosure agreement recipient terms less restrictive section2bsupplier shall disclose confidential information third party including suppliers related entities without prior written consent company written agreement third parties binding terms agreementrecipient agrees disclose confidential information third parties employees directors officers agents contractors consultants advisors representatives collectively representatives except representatives need know confidential information accomplishing authorized purpose described hereinreceiving party disclose agreement confidential information ecid91cept receiving partys officialsdirectors officers employees contractors need know purpose carrying purpose agreement advised obligation confidentiality bound either condition employment order obtain confidential information terms conditions similar contained herein obligated keep confidentialreceiving party shall limit disclosure confidential information directors officers employees agents party need know confidential information connection discussions advised confidential nature informationreceiving party agrees acknowledges undertakeshold confidential information disclosing party strictest confidence subject terms agreement disclose confidential information third party unless regulated investment body solicitor accountant private investors known partyfurthermore potential franchisee agrees discuss communicate aspect whatsoever confidential information directly indirectly agent director employee representative except individualsinformed confidential nature informationii duly completed signed certificate presented annexwhereas condition information furnished receiving party directors managers officers employees agents advisors including without limitation attorneys accountants consultants bankers financial advisors collectively representatives receiving party agrees treat information concerning disclosing party whether prepared disclosing party representatives otherwise irrespective form communication future furnished receiving party representatives behalf disclosing party connection possible transaction herein collectively referred confidential information accordance provisions agreement take abstain taking certain actions hereinafter set forthreceiving party hereby agrees receiving party representatives disclose confidential information manner whatsoever provided information may disclosed receiving party representatives legitimate need know information sole purpose evaluating possible transaction disclosing party agree keep information confidentialreceiving party understands acknowledges neither disclosing party representatives including without limitation disclosing partys directors managers officers partners members shareholders employees agents makes representation warranty express implied accuracy completeness confidential informationf recipient shall disclose confidential information employees need know information permitted purposesconfidential information shall disclosed revealed anyone except employees recipient need know information evaluation connection described permitted purposes aware obligations agreement maintain confidential information confidential2 party may reveal confidential information employees agents consultants contractors need know information purpose agreement duly informed confidential nature confidential information2 party may reveal confidential information employees agents consultants need know information purpose agreement duly informed confidential nature confidential informationevent receiving party disclose confidential information third parties unless obtains prior written consent disclosing party provided prior disclosure receiving party shall first obtain written nondisclosure agreement third party containing terms conditions substantially similar set forth hereinreceiving partyshall limit access confidential information employees agents representatives consultants contractors shall reasonably require access confidential information purpose set forth third party vendors purpose obtaining price quotations22 confidential information may disclosed recipient employees directors officers consultants recipient need receive confidential information subject matter provided recipients confidential information already bound written confidentiality nondisclosure obligations similar undertaken recipient pursuant agreementb data recipient agrees make available disclose provide communicate nonpublic information entity individual exceptii contractors data recipient1 signed nondisclosure agreement covers nonpublic information least restrictive agreement2 need nonpublic information work performed subject limitation market sensitive informationameren illinois disclose recipient customer information protected public disclosure pursuant 815 ilcs 5052hh confidential information use recipient officers directors agents employees contractors collectively representatives needtoknow basis purpose facilitating electric supply aggregation pursuant 20 ilcs 3855192recipient shall maintain confidentiality confidential information shall disclose confidential information whole part person representatives need know confidential informationrecipient shall ensure employees officers directors agents access confidential information disclosed agreement informed proprietary confidential nature required abide terms agreementconfidential information may disclosed employees consultants receiving party need knowreceiving party disclose information third party duration confidentiality period without prior written approval disclosing partyc receiving party provide access proprietary information nrel protected information within scope disclosed compliance paragraph 2a receiving partys employees agents independent contractors required access specifically related purpose respect alliance doe designee auditing inspection purposesreceiving partylimit disclosure confidential information directors officers employees agents representatives collectively representatives need know confidential information connection current contemplated business relationship parties agreement relates purposepotential purchaser may disclose evaluation materials parents subsidiaries parents subsidiaries affiliates collectively affiliated entities potential purchasers andor affiliated entities directors officers employees partners consultants potential financing sources jointventure partners bankers accountants lenders investors insurance consultants andor brokers attorneys agents financial legal advisors collectively entities persons potential purchaser affiliated entity discloses evaluation materials representatives may need access evaluation materials potential purchasers discretion purpose evaluating proposed transactionaffiliate means entity including without limitation individual corporation company partnership limited liability company group directly indirectly one intermediaries controls controlled common control partyauthorized parties means directors officers employees agents advisors representatives service providers consultants andor subcontractors21 curtisswright company agree condition receipt proprietary information hereunder recipient shalldisclose directly indirectly third party portion proprietary information without prior written consent disclosing party except affiliates authorized parties need know proprietary information extent necessary purposeinstitution agrees disclose otherwise make available confidential information anyone except employees agents institution need know confidential information carry purpose bound obligations nonuse nondisclosure substantially similar set forth herein4 furthermore receiving party also agrees followingmay disclose confidential information employees affiliates agents contractors needtoknow basis order complete aforementioned project employees affiliates agents contractors executed similar written nondisclosure agreements receiving partyb buyer disclose information whole part party persons within buyers organization including independent advisersconsultants need know information purposes evaluating structuring possible purchase businessreceiving party agrees disclose confidential information third parties employees except employees required information order evaluate engage discussions concerning contemplated business relationshipconsent disclose proprietary information employees receiving party affiliated company affiliated receiving party legitimate need know purposes described agreement herewith given consent shall required disclosure others authorization use others2 receiving party agrees except required lawiii use degree care confidential information shall least reasonable standard care prevent disclosure confidential information notes except affiliates officers directors employees agents advisors representatives service providers consultants andor subcontractors collectively authorized parties solely extent necessary permit assist receiving party evaluating transaction31 interest protection maintenance protectable interests party undertakes shall time whatsoever notwithstanding termination business relationship andor negotiations parties whatsoever reason without prior written consent party311 use disclose divulge whether directly indirectly confidential information person whether partys employ person entity party agreementcmcs prior written consent unreasonably withheld valco brubaker may disclose need know basis confidential information consultants advisors institutional lenders subject last sentence paragraphc3 receiving party expressly agrees use confidential information purposes necessary consider whether enter transaction shall strictly limit disclosure employees directors advisors need know information parties shall advised information confidential information subject terms agreementreceiving party may however disclose confidential information directors officers affiliates defined legal financial advisors collectively representatives representatives reasonably need know confidential information purpose evaluating transactionpurposes agreement term affiliate shall mean person directly indirectly one intermediaries controls controlled common control person specified4 employee agrees divulge third party either employment thereafter confidential information conceived disclosed franklin obtained employment franklin relating way franklins processes businesses customers trade secrets apparatus products software packages programs trends research inventions discoveries writings programs improvements covered hereby agrees maintain information confidence time information become widely known public described issued patent printed publication wide circulationreceiving party neither disclose copy confidential disclosure except necessary employees agents representatives need know provided employee agent representative shall agreed writing condition employment engagement order obtain confidential information bound nondisclosure nonuse obligations substantially similar agreementvictorinox shall disclose confidential information employees agents need know information bound restrictions regarding disclosure use information comparable less restrictive set forth hereinnotwithstanding foregoingseller shall permitted disclose historical financial information including financial information relating business may required customers vendors lenders third parties provided third parties shall agree preserve confidentiality information4 receiving party agreesiii distribute disclose disseminate proprietary information anyone except employees need know involved consideration performance business arrangements described herein2 respect disclosers proprietary information initially disclosed writing marked disclosers name proprietary initially orally disclosed identified proprietary confirmed recipient writing within ten 10 business days initial disclosure hereunder recipient agreesrecipient use reasonable efforts shall less degree care recipient uses respect proprietary information prevent disclosure third personsrecipient disclose proprietary information within company employees need know sane purpose agreed bound use disclosure restrictions contained hereinrepresentatives keep evaluation materials completely confidential provided howeverinformation may disclosed directors officers employees agents representatives including attorneys accountants financial advisors lenders sources financing collectively representatives reasonably determine need know information purpose evaluating possible transaction us company understood representatives shall informed us confidential nature information shall directed us shall agree treat information confidentiallycompany may however participate discussions negotiations provide confidential information third party chairman board company determines good faith receiving advice companys financial advisor third party submitted bona fide proposal indication interest could reasonably expected lead acquisition proposal financially superior nonbinding indication interest contained letter august 7 1997 robert w cardy paul l foster provided however company agrees inform us receipt proposalwithout written consent transmitter recipient proprietary information agreesdisclose disseminate reproduce otherwise distribute information materials third party except governmental judicial authoritys issued orderreviewer agrees disclose directly indirectly confidential information third party without prior written consent provider following collectively representativesii reviewers attorneys accountants financial advisors case persons need know confidential information purpose stated section 2company shallii disclose confidential information third party except disclosures directors officers employees representatives advisors independent accountants investment bankers attorneys acting behalf directors officers employees representatives referred hereinafter collectively representatives case companys reasonable judgment need know information purpose evaluating possible transaction provided however prospective financing sources shall considered representatives confidential information may disclosed accordance paragraph 1 unless specifically requested company consented mci writingrepresentatives keep evaluation materials completely confidential provided howeverinformation may disclosed directors officers employees agents representatives including attorneys accountants financial advisors lenders sources financing collectively representatives need know information purpose evaluating possible transaction company understood representatives shall informed confidential nature information shall directed shall expressly agree treat information confidentially accordance agreementwhereas parties also desire proprietary information disclosed pursuant terms agreement party permitted hereunder directors officers employees affiliates representatives including financial advisors attorneys accountants agents collectively representatives used purposes evaluating possible business arrangementdisclosure proprietary information shall restricted representatives recipientneed know information purpose evaluating possible business arrangement partiesmoreover agree reveal information agents representatives employees need know information purpose evaluating transaction described informed us confidential nature information shall agree writing act accordance terms conditions agreementb representative party includes officer director shareholder employee advisor attorney consultant agent partyrecipient maintain strict confidentiality evaluation material provided representatives party partys representatives disclose part person provided however may disclose evaluation material portions thereof representatives need know information order assist recipient evaluating advisability entering possible transaction may disclose evaluation material accordance paragraph 5 hereof6 receiving party agrees confidential information shall disclosed people within respective organizations agents consultants representatives advisors need know information obligated terms less restrictive imposed agreement receiving party4 receiving party shall limit dissemination confidential information employees agents need know aforesaid purposes1 except authorized hereinvendor agrees communicate disclose otherwise make available part proprietary information third party including limited vendors parent subsidiaries affiliated companiesvendor agrees make five 5 copies proprietary information unless otherwise agreed writing parties vendor agrees limit distribution access proprietary information vendors personnel require access proprietary information foregoing purposeparty agrees protect proprietary information party use proprietary information purpose stated program objective disclose proprietary information third partyreceiving party shall publish divulge communicate reveal confidential information person corporation third party receiving partys employees need know confidential information respect job dutiesneither party shall without prior written consent party disclose third party aspect commercial relationship parties including limited pricing items quantities offered sold payment terms production methods schedules delivery locations means suppliers1 infe disclose recipient portions proprietary information solely enable recipient determine desirability selling assets infe recipient shall disseminate portions proprietary information third party individual entity4 proprietary information shall disclosed third party whatsoever recipient without prior written approval infe information shall protected least diligence care precaution recipient uses protect proprietary information1 infe disclose ido portions proprietary information solely enable ido determine desirability proposed sale assets placeumcom division ido infe ido shall disseminate portions proprietary information third party individual entity2 ido disclose infe portions proprietary information solely enable infe determine desirability proposed sale assets placeumcom division ido infe shall disseminate portions proprietary information third party individual entity4 neither party shall disclose proprietary information party third party whatsoever without prior written approval party information shall protected least diligence care precaution party uses protect proprietary information1 recipient shall take responsible steps ensure confidential information disclosing party kept confidential provided however information may disclosed employees agents recipient need know information party may agreed disclosing party writing employee party informed recipient confidential proprietary nature information confidentiality undertakings recipient contained hereinrepresentatives keep evaluation materials completely confidential provided howeverinformation may disclosed directors officers employees agents representatives including attorneys accountants financial advisors lenders sources financing collectively representatives need know information purpose evaluating possible transaction company understood representatives shall informed confidential nature information shall directed shall expressly agree treat information confidentially accordance agreement1 term representatives means partys affiliates partys affiliates directors officers partners employees agents advisors including without limitation financial advisors legal counsel accountants term person shall include corporation company partnership limited liability company trust governmental entity individuale foregoing restrictions shall apply disclosures participant representatives disclosure required order permit participant evaluate participation possible transaction disclosure made purposes evaluation provided prior making disclosure participant shall apprise representatives confidential nature matters obligations participant hereunderselling shareholder shall without prior written approval dollar tree time copy reproduce disclose divulge third party use permit others use confidential information sai dollar tree including financial information sources supplies materials prospective existing expansion programs joint ventures affiliate agreements business systems marketing methods business affairsrecipient agrees instruct employees may use confidential information purpose business purpose except permitted terms agreement disclose confidential information third parties including consultants without prior written consent premisysneither party shall communicate others confidential information form third party without partys prior written consent party shall use best efforts prevent inadvertent disclosure others confidential information third party1 phoenix company agree shall hold confidence shall disclose confidential information defined paragraph 2 without prior written authorization corporate officer party information belongs use confidential information purpose contemplated agreementrecipient agrees safeguard confidential information recipient shall disclose give access confidential information person entity employees recipient need access order assist client conversionpurposes letter agreementrepresentative shall mean person directors officers employees agents advisors including without limitation financial advisors attorneys accountants debt equity financing sources advisors representatives shall include debt equity financing sources enter confidentiality agreement reasonably acceptable disclosing party either names disclosing party third party beneficiary disclosing party made party executed copy provided disclosing partysubject immediately succeeding paragraph unless otherwise agreed writing disclosing party receiving partyexcept required law rule regulation shall keep evaluation material confidential shall disclose reveal evaluation material person representatives actively directly participating evaluation proposed transaction otherwise need know evaluation material purpose evaluating proposed transaction shall cause persons observe terms letter agreementc recipient may disclose product employees need know order accomplish purposes identified section la employees use product shall take place solely recipients siterecipient agrees disclose provide product documentation related information including product features results use testing third party use product purpose provided agreementparty agrees may disclose proprietary information received affiliates employees permitted credit agreement agents subject terms agreementproprietary information must retained recipient accordance customary procedures handling confidential information nature disclosed recipients affiliates employees attorneys accountants agents nondisclosure obligation least restrictive agreement need know information purposes servicing protection interest respect loans credit agreement loan documents defined credit agreement transactions contemplated thereby third parties discloser consented prior written approvalparty disclose confidential information party third parties employees except employees required information order carry contemplated businessview tsrs desire documentation information maintained confidence hereby agreed period five 5 years commencing date agreement cgs shall disclose otherwise make available third party proprietary information documentation received tsr identified confidential confidential informationarc covenants agrees directly indirectly disclose communicate person entity confidential information company except2 nynex confidential informationb shall copied used distributed disclosed disseminated communicated way form consultant whether benefit anyone outside within organization except needtoknow basis extent necessary2 company buyer mutually agree hold partys confidential information strict confidence disclose confidential information third parties except receiving prior consent disclosing party writingparties agree assume information divulged proprietary information agrees divulge disseminate proprietary information third parties without written consent25 notwithstanding anything contrary herein provided recipient shalldeliver leave samples parts products containing confidential information third partyb disclose third party manufacturing assembly process used formfactor structure formfactors electronic interconnect technology products andorc disclose third party evaluation testing date results unless formfactor gives prior written approval disclosure4 receiving party agreesiii distribute disclosure disseminate information anyone except employees agents need know case informed confidential nature information agreed bound terms agreementhucom agrees make use confidential information abovementioned purposes disclose confidential information person without prior written consent vasco except hucom corporation confidential information may disclosed person within company needtoknow basis1 undersigned hold confidential information strict confidence permit agent servant employee copy reproduce sell assign license market transfer otherwise dispose give disclose confidential information person firm corporation including partner employee goldman sachs need know confidential information2 receiving party agrees hold confidence amdocs confidential information including derivatives thereof form eg reports analyses relating information whether provided amdocs refrain copying distributing disseminating otherwise disclosing amdocs confidential information anyone employees receiving party need know information purposes performing services3 furthermore receiving party hereby undertakesb sell grant make available otherwise allow use amdocs confidential information third party directly indirectly1 none parties shall divulge person whose provenance know proper authority use trade secrets confidential information financial trade information relating acquire result discussing entering agreements3 party undertakes irrevocably unconditionallyf show deliver cause seen documents papers correspondence memoranda copies persons entities kind except required maintain confidentiality attorney tax advisorg party shall endeavor ensure officers employees agents representatives associates virtue duties may receive type information described agreement fully obligated respect spirit terms agreements way party2 notwithstanding provisions paragraph 1 parties may disclose confidential information disclosed agreement employees andor agents purpose supplying party sufficient information enable party evaluate potential value establishing business andor contractual relationshiprecipient shall maintain confidence confidential information received owner shall directly indirectly disclose information person entity except recipients employees consultants needtoknow basisreceiving party may disclose disclosing partys confidential information affiliates employees representatives consultants case affiliates employees representatives consultants need know providing affiliates employees representatives consultantsrecipient maintain adequate safeguards protect confidential material prevent disclosure others except employees needtoknow basis neither use disclose directly indirectly himherself benefit another confidential material perform acts may directly indirectly adverse effect upon business company would tend reduce proprietary value confidential material company without companys prior written approvalperiod 5 years date agreement receiving party shall publish disseminate disclose proprietaryconfidential information received parties third party accept employment valid need know information course employment disclosure shall terms less restrictive herein containedperiod battelle shall divulge information third party use information purpose review evaluation without prior written consent adc5 except otherwise specified subject provisions paragraph 6 respect proprietary information provided hereunder receiving party shall use highest degree care discretion limit disclosure proprietary information including taking stepsrestrict disclosure proprietary information solely employees need know disclose proprietary information parties3 confidential information disclosed receiving party hereunder shallcopied distributed disclosed disseminated way form receiving party third party without written permission mypointscom first obtainedparty shall restrict access partys confidential information concepts invention information derived employees representatives advisors access reasonably necessary appropriate carrying permitted use confidential information2 period three 3 years following disclosure confidential information period extend perpetuity respect intertrust technology recipient retain confidential information confidence discuss confidential information natwest employees individuals direct control natwest work full time natwest premises individual consultant shall need know said confidential information executed copy agreementcondition information furnished party directors officers employees agents advisors including without limitation attorneys accountants consultants bankers financial advisors collectively representatives party agrees treat nonpublic information concerning party whether prepared disclosing party advisors otherwise irrespective form communication furnished hereunder party representatives behalf disclosing party herein collectively referred evaluation material accordance provisions agreement take abstain taking certain actions hereinafter set forthreceiving party may make disclosure information disclosing party gives prior written consentii information may disclosed receiving partys representatives need know information sole purpose assisting receiving party evaluating negotiating consummating possible transaction parties understood representatives shall informed receiving party confidential nature information shall directed receiving party treat information confidentiallyparties shall take every possible precaution ensure employees contractors directors officers strict genuine need know access company informationreceiving party shall disclose confidential information third parties five 5 years following date disclosure disclosing party receiving party except receiving partys consultants providedreceiving party may disclose confidential information confidential material receiving partys employees consultants needtoknow basis2 receiving party agreesdisclose information party without written authorization disclosing party2 representatives means controlled affiliates either party respective directors officers employees attorneys agents advisors either party controlled affiliates either party4 respect information disclosed agreement party information disclosed representatives shallb restrict disclosure information solely representatives need know disclose personnotwithstanding foregoing receiving party may disclose confidential data receiving partys consultants agents affiliates collectively receiving party representative receiving party reasonably good faith believes involved evaluation performance proposed relationship provided receiving party representative informed agreement agrees bound terms hereof receiving party uses best efforts cause receiving party representative observe terms agreementrecipient agrees disclose confidential information party form third party except contemplated herein1 term agreement receiving party agrees hold confidence disclose person persons employees need know use except purpose agreement period fifteen 15 years date disclosure proprietary information disclosed writing identified proprietary information disclosing partyparty epees keep confidential agreement distribute show copies disclose contents hereof person entity subject agreement except legal accounting advisors written agreement keep seine confidential without prior written consent patty except extent required applicable law judicial administrative processwithout limiting generality foregoing receiving party promises agreese restrict access confidential information intellectual property officers directors employees clearly need access carry program1 lht agrees disclose except employees consultants need know use except purposes set forth herein information received hpac agreement whether oral written medium whether marked confidential proprietary notes copies analyses compilations studies interpretations utilize information prepared based derived information collectively confidential informationnotwithstanding section 2 receiving party shall permitteddisclose confidential information officers employees counsel extent reasonably necessary order party prepare conduct execute deliver definitive documents transaction provided receiving party shall take action shall necessary desirable order ensure persons maintains confidentiality confidential information disclosedunless otherwise expressly authorized contrary sti prior signed writing pinetree shall either directly indirectlyuse apply reveal report publish otherwise disclose proprietary information benefit pinetree third partyrecipient may disclose information officers employees independent contractors necessary purpose evaluating information recipient shall responsible disclosure violation agreementrefrain disclosing confidential information disclosing party third parties five 5 years following date disclosing party first discloses confidential information receiving party except expressly provided sections 2b 2c agreementc undersigned receiving party may disclose confidential information receiving partys employees consultants needtoknow basiscompany expressly agrees keep abrhs confidential information confidential neither company affiliates directors officers employees operating partners consultants advisors including without limitation attorneys accountants collectively extent persons actually receive confidential information representatives use benefit connection potential transaction communicate disclose orally writing manner person entity confidential information company representatives received otherwise provided access confidential information partycompany use abrhs confidential information transaction contemplated disclose abrhs confidential information representatives need know information informed terms agreement directed keep confidential information confidentialrepresentatives shall mean partys affiliates directors officers employees agents lenders advisers representatives foregoingaccordingly encana agrees evaluation material used solely purpose evaluating transaction related actions information kept confidential encana representatives provided howeverw information may disclosed encana representatives need know information purpose evaluating transaction participation therein understood representatives shall informed confidential nature informationseller hereby agrees restricted period directly indirectly disclose anyone use otherwise exploit benefit benefit anyone purchaser confidential information except permitted section 5 agreementcondition confidential information furnished party party affiliates subsidiaries directors officers partners members employees agents advisors attorneys accountants consultants potential sources capital financing collectively representatives party agrees treat confidential information provided party accordance provisions agreement take abstain taking certain actions hereinafter set forthreceiving party shall keep confidential information provided disclosing party confidential shall disclose confidential information manner whatsoever provided howeverii information contained confidential information provided disclosing party may disclosed receiving partys representatives reasonably require access information purpose evaluating possible transaction agree keep information confidential1 evaluation proposed transaction recipient agrees treat confidentially information furnished either disclosing party representatives defined recipient recipients subsidiaries respective directors officers partners employees agents representatives including without limitation financial advisors counsel accountants experts consultants collectively representatives connection proposed transaction together notes analyses compilations studies documents prepared recipient representatives extent contain otherwise reflect information disclosing partys review interest recipient confidential information2 confidential information used solely purposes evaluating proposed transaction provided however recipient may disclose confidential information representatives need know information purpose evaluating proposed transactionemployee shall directly indirectly use confidential information purpose benefit banking organization shall directly indirectly disclose communicate deliver exhibit provide confidential information person except employees agents banking organization need know confidential information proper corporate business purpose required normal course employees service employeeb term representatives shall include directors officers employees agents partners advisors including without limitation attorneys accountants consultants bankers financial advisors recipient provider applicablerecipient shall use evaluation material solely purpose evaluating possible transaction subject section 5 disclose evaluation material manner whatsoever provided however information may disclosed recipients representatives purpose helping recipient evaluate possible transactionb confidential information shall disclosed employees agents parties receiving party need know connection purposes stated hereinreceiving partyb shall disclose reveal confidential information person representatives actively directly participating evaluation otherwise need know confidential information purpose evaluationused herein representatives shall meanii attorneys accountants professional business advisors additionallyiii employees entities directly indirectly owned receiving partynotwithstanding limitations set forth section 1ii recipient may disclose confidential information disclosing party representative recipient extent representativereasonably needs know confidential information purpose helping recipient consider evaluate negotiate possible transaction partiespurposes agreement partys representatives deemed include person becomessubsidiary affiliate partyii officer director employee partner attorney advisor accountant agent representative party partys subsidiaries affiliates2 period 18 months company agrees disclose disseminate confidential information third party except employees lawyers accountants insurance agents professional representatives need know confidential information purpose companys evaluation opportunity agree abide terms agreementreceiving party shall expressly restrict possession knowledge development use confidential information partners employees consultants professional advisors agents subcontractors entities controlled receiving party hired engaged receiving partydetermined need knowb negotiations relating transaction party receiving party understands party disclosing party disclosed may disclose information relating disclosing partys business including without limitation computer programs technical drawings algorithms names expertise employees consultants knowhow formulas processes ideas inventions whether patentable schematics technical business financial customer product development plans forecasts strategies information hereinafter evaluation material disclosing party party directors officers employees agents advisors including without limitation attorneys accountants consultants bankers financial advisors collectively representatives applicable terms disclosing party receiving party include parties representativesii information may disclosed receiving partys representatives need know information sole purpose evaluating possible transaction parties provided copy agreement directed receiving party treat information confidential agrees treat evaluation material accordance terms agreementb term representatives shall include directors officers employees agents partners advisors including without limitation attorneys accountants consultants bankers financial advisors recipient provider applicablerecipient shall shall cause representatives use evaluation material solely purpose evaluating possible transaction keep evaluation material confidential subject section 5 cause representatives disclose evaluation material manner whatsoever provided however information may disclosed recipients representatives need know information sole purpose helping recipient evaluate possible transactionused agreement partys representatives shall include directors officers employees agents partners advisors party parent company subsidiaries affiliates including without limitation attorneys accountants consultants bankers financial advisorsrecipient agrees confidential information kept confidential recipient representatives disclose confidential information manner whatsoever provided howeverii confidential information may disclosed recipients representatives need know information sole purpose evaluating possible transaction bound confidentiality obligations recipient agree keep confidential information confidential extent recipient3 consideration every disclosure confidential information parties agreec make disclosures confidential information party officers employees party iralimit access confidential information officers employees reasonable need information bound written obligation maintain confidentiality informationparty disclose information based purpose professional advisors employees independent contractors need know information informed information confidential obligations confidentiality least stringent set forth hereinused letter agreement partys representatives shall include directors officers employees agents affiliates term defined securities exchange act 1934 amended 1934 act partners advisors representatives party subsidiaries affiliates andor divisions including without limitation attorneys accountants consultants bankers financial advisors representatives receiving partys advisorsii receiving party may make disclosure evaluation material discussion information representatives need know information purpose assisting receiving party evaluation possible transaction provided copy letter agreement agree keep evaluation material discussion information confidential agree bound terms letter agreement extent parties heretoindividual entity provide access evaluation material agreeb subject section captioned legally required disclosure keep evaluation material strictly confidential disclose use evaluation material manner inconsistent confidentiality agreement provided however information may disclosed affiliates defined appendix hereto representatives defined appendix hereto need know information sole purpose helping evaluate possible transactionterm affiliate shall meaning provided term securities exchange act 1934 act amended 1934 act avoidance doubt includes subsidiaries affiliatese term representatives shall include affiliates officers directors employees managing members general partners advisors agents consultants including attorneys financial advisors accountants lendersterm representatives refers persons directors officers employees attorneys accountants consultants financial advisors agents representativesmoreover recipient agrees transmit confidential information representatives need know confidential information purpose facilitating recipients discussion company informed confidential nature confidential information terms agreementreceiving party may disclose confidential information provided orcc hereunder receiving partys officers directors subsidiaries affiliates employees legal counsel financial advisors duly authorized agents consultants representatives receiving party reasonably determines need know confidential information purpose assisting receiving party evaluation transaction set forth agreement provided however receiving party shall prior disclosing confidential information one representatives instance inform representatives confidential nature confidential information instruct maintain confidentiality confidential information manner consistent terms conditions agreementcondition confidential information furnished receiving party directors officers principals partners members employees agents consultants related investment funds advisors attorneys accountants affiliates potential sources capital financing financial advisors collectively representatives receiving party receiving party agrees treat confidential information strictly accordance provisions agreement otherwise comply cause representatives comply obligations hereinafter set forthreceiving party shall shall cause representatives keep confidential information confidence shall disclose confidential information manner whatsoever provided howeveriii information contained confidential information may disclosed receiving partys representatives reasonably require access information purpose evaluating possible transaction agree keep information confidence extent described herein provided receiving party shall make disclosure confidential information potential sources equity financing without companys prior written consentwithout prior written consent disclosing party recipient confidential information shall restrict disclosure availability confidential information recipients financial tax legal advisors directors officers employees demonstrable need know confidential information related party collectively related parties provided related party either agrees bound agreement already bound confidentiality obligations less restrictive agreementsellers shall disclose appropriate use use third party time trade secrets confidential proprietary information included related acquired assets business previously operated sellers whether developed sellers including without limitation information pertaining customers vendors prices profits contract terms operating procedures sellers relating business acquired assets provided however sellers may use trade secrets confidential proprietary informationemployee shall directly indirectly use confidential information purpose benefit banking organization shall directly indirectly disclose communicate deliver exhibit provide confidential information person except employees agents banking organization need know confidential information proper corporate business purpose required normal course employees service employee1 evaluation material used solely purpose evaluating possible transaction companies way directly indirectly detrimental companies competitively otherwise unless parties completed transaction pursuant formal contractually binding agreement definitive agreement information kept confidential except party may disclose evaluation material portions thereof directors officers employees consultants advisors professional representatives persons disclosure permissible collectively called representatives case need know information purpose evaluating possible transaction companies provided however prior disclosing evaluation material portion thereof representatives disclosing party secure undertaking representative bound terms confidentiality agreement extent disclosing party bound agreementcondition confidential information furnished receiving party directors officers partners members employees agents consultants related investment funds advisors attorneys accountants affiliates potential sources capital financing financial advisors persons receiving party plans work respect potential cooperation receive confidential information acting recipients behalf conjunction recipient respect potential cooperation possibility collectively representatives receiving party receiving party agrees treat confidential information accordance provisions agreementreceiving party shall shall direct representatives keep confidential information confidence shall disclose confidential information manner whatsoever provided howeverii information contained confidential information may disclosed receiving partys representatives reasonably require access information purpose evaluating possible cooperation agree keep information confidence extent described herein1 definition confidential information term confidential information shall mean information disclosed one party party whether orally written electronic format whether disclosed partys agents principals employees representatives whether partys agents principals employees representativesconsideration partys disclosure confidential information party party agrees respect confidential information received partyb shall disclose transfer otherwise make available confidential information third party unless confidential information must disclosed purposes contemplated herein legal compulsion disclose confidential information event party shall prior disclosure obtain written consent party obtain third person written agreement acknowledging binding effect restrictions regarding confidential information2 confidential information used herein shall mean information material whether written oral oral written summary information andor material shall delivered disclosing party within ten days disclosure disclosing party order information andor material treated confidential information agreement furnished made available whether date hereof disclosing party directors officers employees independent contractors affiliates representatives including without limitation financial advisors attorneys accountants agents potential sources financing collectively representatives receiving party representatives concern subjects listed attachment hereto proprietary disclosing party marked otherwise identified confidential proprietary sensitive another manner indicating confidential andor proprietary nature nature circumstances surrounding disclosure receipt information material treated confidential information4 receiving party shall use confidential information solely limited purposes set forth attachment purpose shall hold confidence disclose confidential information manner permit use thereof person persons receiving partys representatives legitimate need know access confidential information first informed receiving party confidential nature confidential information agree maintain confidentiality confidential information• representative employee contractor advisor consultant one us one respective affiliates• us may disclose others confidential information representatives may disclose confidential information representatives representatives need know purposes business relationshiprecipient use best efforts maintain confidentiality information term agreement disclose information third party without prior written consent university period three years date agreementrecipient use best efforts maintain confidentiality information term agreement disclose information third party without prior written consent university period three years date agreementcondition information furnished party controlled subsidiaries directors officers employees agents advisors including without limitation attorneys accountants consultants bankers financial advisors collectively representatives party agrees treat nonpublic information concerning party whether prepared disclosing party representatives otherwise irrespective form communication furnished hereunder partyreceiving party shall hold disclosing partys evaluation material strictly confidential shall disclose evaluation material manner permit use thereof person entityrepresentatives case need know defined access evaluation material order perform responsibilities connection transaction subject obligations confidentiality substantially similar imposed agreement13 representatives means partys affiliates respective directors officers employees agents representatives including without limitation respective attorneys accountants consultants financial advisorsexcept otherwise required applicable law regulatory authority party agrees keep confidential disclose cause representatives keep confidential disclose person confidential information representatives receives party representatives without disclosing partys prior written consent except providedreceiving party representatives shall entitled disclose confidential information disclosing party provide copies without disclosing partys prior written consent representatives receiving party need know confidential information solely purpose evaluating possible transactionparty shall right disclose confidential information employees agents consultants need know basis provided however disclosure event shall made persons agreed writing protect confidentiality disclosing partys information1 connection schneider serving companys board schneider company employees directors agents may divulge nonpublic information concerning company subsidiaries stilwell group information may shared among stilwell groups employees agents need know informationreceiving party shall term agreement period five 5 years termination agreement use reasonable care maintain confidentiality confidential information limit disclosuredirectors officers employees agents professional advisors need know confidential information order objectives discussions negotiations achievedb affiliates subsidiaries long affiliate subsidiary understands agrees confidential information provided subject terms conditions agreementneither party disclose confidential information party third parties except directors officers employees consultants agents collectively representatives need information order carry permitted purposeterm representatives shall mean directors officers employees agents counsel accountants consultants potential financing sources advisors party good faith need know evaluation material purposes evaluating andor implementing possible transactionrecipient shall shall direct representatives use evaluation material solely purpose evaluating andor implementing possible transaction keep evaluation material confidential subject section 5 direct representative disclose evaluation material manner whatsoever provided however information may disclosed recipients representatives good faith need know information sole purpose helping recipient evaluate andor implement possible transaction provided recipient advises representatives confidentiality terms agreement applicable representativescondition information furnished party receiving party agrees treat agrees cause subsidiaries entities controlled directly indirectly party affiliates respective directors officers employees agents contractors representatives consultants accountants attorneys advisors party affiliates collectively affiliates associates treat partys confidential information accordance provisions agreement take abstain taking certain actions described agreementreceiving party disclose permit associates disclose confidential information disclosing party third parties except associates receiving party need know information purpose helping receiving party evaluate pursue andor facilitate potential transaction informed receiving party confidential nature information either agree keep confidential disclose confidential information subject professional contractual duties keep confidential refrain disclosing information20 recipient agrees period two years date receipt information shall disclose duplicate information receives owner marked designated confidential proprietary strictly private hereinafter collectively referred proprietary person including recipients employees group entity firm company use benefit except provided hereinnotwithstanding company xplore agree party may disclose company information xplore information respectively portions thereof well information described clauseiv preceding sentence partys directors officers employees representatives including financial advisors lawyers accountants partys advisors collectively representatives need know information permitted useparty hereto shall limit access partys proprietary information employees agents advisors consultants reasonable need access information connection discussion exploration purpose shall subject nondisclosure covenants contained hereinalso agree officers employees financing sources consultants affiliates agents advisors herein collectively referred representatives disclose permit disclosure confidential evaluation material hereafter received obtained company representatives third party otherwise use permit use confidential evaluation material way detrimental company except required court order legal process without prior written consent company provided however information may disclosed representatives need know information purpose evaluating proposed transaction advised agreement agree keep information confidential bound agreement extent parties hereto understood shall responsible breach agreement representatives provided however shall responsible failure comply terms agreement representativesone officers employees affiliatesii signed undertaking favor company effect annex heretoreceiving party may disclose confidential information need know basis affiliates officers directors employees consultants advisors including without limitation financial advisors investment banks agents lenders receiving partys existing credit facilities attorneys accountants representatives need know information purposes evaluation completion transaction provided representatives shall bound terms confidentiality nonuse consistent set forth agreementb term representatives shall include directors officers employees agents partners advisors including without limitation attorneys accountants consultants bankers financial advisors recipient provider applicablerecipient shall shall cause representatives use evaluation material solely purpose evaluating possible transaction keep evaluation material confidential subject section 5causerepresentatives disclose evaluation material manner whatsoever provided however information may disclosed recipients representatives need know information sole purpose helping recipient evaluate possible transactionparty may disclose partys confidential information directors officers members managers employees legal advisors financial advisors bound obligations confidentiality consistent agreement bona fide need know extent necessary carry business purposeparty agreessubject restrictions set forth section 4 party may disclose partys confidential information directors officers employees legal advisors financial advisors accountants bound obligations confidentiality consistent agreement bona fide need know representatives extent necessary carry business purposecondition information furnished party directors officers employees agents advisors including without limitation attorneys accountants consultants bankers financial advisors collectively representatives party agrees treat nonpublic information concerning party whether prepared disclosing party advisors otherwise irrespective form communication furnished hereunder partyparty hereby agreesrepresentatives shall use others evaluation material solely purposes evaluating possible transaction parties parties determine proceed transaction negotiation execution performance definitive agreement respect thereto disclosing partys evaluationmaterial kept confidential party representatives disclose use purposes purposes stated others evaluation material manner whatsoever provided howeverii information may disclosed receiving partys representatives need know information sole purpose evaluating possible transaction parties informed confidential nature information subject confidentiality nonuse obligations least restrictive defined hereinexcept may otherwise required law kennedy agrees without companys prior written consentdisclose transfer proprietary information person companycondition information made available vector vectors potential financing sources respective directors officers employees agents advisors including without limitation attorneys accountants consultants bankers financial advisors collectively representatives vector agrees treat information concerning captaris whether prepared captaris advisors otherwise irrespective form communication furnished pursuant letter agreement vector representatives future behalf captaris information herein collectively referred evaluation material accordance provisions letter agreement take abstain taking certain actions hereinafter set forthvector hereby agreesrepresentatives shall use evaluation material solely purpose evaluating possible transaction partiesevaluation material kept confidential vector representatives disclose evaluation material manner whatsoever provided howeverii information may disclosed vector representatives need know information sole purpose evaluating implementing possible transaction parties shall keep information confidential provided copy letter agreementinformation whether written oral furnished whether date hereof either company directors officers employees representatives including without limitation financial advisors financing sources attorneys consultants accountants agents collectively representatives party analyses compilations forecasts studies documents prepared parties representatives connection review interest transaction contain reflect generated based upon whole part information hereinafter referred information1 parties representativesii use information connection transaction provided however parties may reveal information representativesparty agrees limit disclosures confidential information party employees agents recipient required information order evaluate engage discussions regarding authorized purposeterm representative means person persons affiliates respective directors officers general partners managers members employees agents advisors including without limitation financial advisors legal counsel accountants written consent including via email consent shall unreasonably withheld delayed company referenced attached schedule agreement consultants potential financing sourcesrepresentatives shall use evaluation material solely purpose considering evaluating negotiating transaction shall use evaluation material purpose shall keep evaluation material strictly confidential except provided section 2 section 4 shall disclose evaluation material manner whatsoever without prior written consent company provided however evaluation material may disclosed representatives need know information disclosed purpose evaluating advising respect considering evaluating negotiating transaction directed keep evaluation material confidential provided copy agreementcondition information furnished stockholders ultimate parent direct indirect affiliates directors officers employees agents advisors including without limitation attorneys accountants consultants bankers financial advisors bdt capital partners llc specific financing source seller approves included representative approval seller unreasonably withheld conditioned delayed collectively representatives agree treat information concerning seller whether prepared seller representatives otherwise irrespective form communication furnished hereunder representatives future behalf seller herein collectively referred evaluation material accordance subject provisions letter agreement agreement take abstain taking certain actions hereinafter set forthagree keep evaluation material strictly confidential use disclose evaluation material without prior written consent seller except subject provisions hereof may disclose evaluation material representatives extent need know evaluation material purposes evaluation provided representatives informed confidential nature evaluation material material terms agreement agree bound confidentiality provisions hereof understood except case financing sources foregoing shall require agreement writing provided shall responsible unauthorized use disclosure evaluation material representativesparty agrees times term hold strictest confidence use except benefit parties disclose transfer reveal directly indirectly person entity confidential informationmsc agrees permit person firm corporation use copy reproduce manner whatsoever part information except extent information must reproduced msc performing data processing servicespurposes agreement representatives hig shall include employees officers directors financial advisors staff agents financing sources representatives consultants advisors members investment review similar committees extent parties receive confidential information excluding case portfolio companieshjg shall keep confidential information confidential shall disclose confidential information whole part person representatives need know confidential information connection higevaluation negotiation potential consummation transaction except prior written consent comverge otherwise permitted hereunderhig agrees may disclose confidential information representatives need know confidential information purpose assisting parties connection transactionpurposes agreement term representatives representatives shall mean party directors officers employees well counsel accountants consultants representatives connection transactions contemplated hereby provided persons bound confidentiality agreements less stringent agreement13 party use confidential information receives solely purpose evaluating acquisition purpose except extent permitted paragraph 15 hereof keep confidential information strictly confidential provided however confidential information may disclosed representatives needed know information purpose evaluating negotiating terms acquisition purposeconsideration information furnished party andor subsidiaries directors officers employees authorized agents representatives advisors including without limitation financial advisors attorneys accountants consultants engaged connection transaction expressly excluding partners third parties subsidiaries party may provide equity debt financing transaction collectively representatives party agrees treat information disclosing party third party whether information marked confidential furnished future furnished prior date hereof purpose consideration connection transaction receiving party representatives behalf disclosing party whether prepared disclosing party advisors otherwise irrespective manner form furnished whether oral written electronic form herein collectively referred evaluation material accordance provisions confidentiality agreement agreement take abstain taking certain actions set forthparty understands agrees disclosing party andor representatives agreementinformation solely purpose enabling receiving party representatives evaluate transaction reasonably believes disclosure affect way parties relative competitive position respect third parties including parties affiliatesparty agrees shall shall cause representatives use evaluation material solely purpose evaluating transaction purpose receiving party shall shall cause representatives keep evaluation material confidential disclose evaluation material third party provided however receiving party may disclose evaluation materialrepresentatives actively directly participating evaluation transaction otherwise need know information sole purpose evaluating transaction receiving party shall take appropriate measures ensure representatives comply terms agreementrepresentatives means respect party partys wholly owned subsidiaries directors officers employees consultants accountants financial legal advisors subject prior written consent disclosing party actual potential sources debt financing including affiliate financial advisor acting capacity counsel representatives identified disclosing party shall subject confidentiality obligations least stringent receiving party heretocondition consideration confidential information provided receiving party representatives receiving party undertakes agrees followshold cause representatives hold confidential information provided hereunder future accordance provisions agreement disclose permit disclosed person firm company receiving partys representatives need know information permitted purpose2 informed proprietary confidential nature confidential information disclosed party receiving party recipient shall period three 3 years date disclosure refrain disclosing confidential information contractor third party without prior written approval disclosing party shall protect confidential information inadvertent disclosure third party using care diligence recipient uses protect proprietary confidential information case less reasonable careinvestor shall keep confidence disclose part information third party parties use business plan without written consent ttiparties shall maintain complete confidentiality regarding others business andor affiliates shall disclose information pertaining business sources permitted monnit unless agreed granted expressed written permission monnitmeasures shall include restricting access proprietary information recipients employees agents whose access reasonably necessary carry purpose legally enforceable obligations recipient would conform obligations agreementpurpose evaluating discussing negotiating andor implementing possible transaction purpose anticipated certain confidential information concerning party capacity disclosing party andor respective affiliates including without limitation confidential information materials developed concerning business operations plans procedures properties assets locations financial affairs pricing supplier customer information names expertise employees consultants trade secrets intellectual property disclosing party andor affiliates past present future products services research development improvements procedures processes techniques designs data drawings compilations information technical information data related business affairs operations disclosing party andor affiliates confidential information disclosed delivered disclosed delivered whether disclosed orally disclosed delivered written electronic form media behalf disclosing party party capacity recipient certain affiliates respective general partners managing members directors officers employees advisors representatives recipient affiliates including attorneys accountants consultants investment bankers financing sources collectively representativesrecipient may disclose confidential information representatives need know information connection purpose recipient shall make aware direct comply terms set forth hereinrepresentative person means persons officers directors employees partners members controlled affiliates accountants attorneys financial advisors consultants agents representatives shall include financing sources respect recipient merrill lynch pierce fenner smith incorporated goldman sachs co llc lenders listed schedule hereto lenders provided respect recipient representative shall also include kps capital partners lp kps respective representatives representatives lenders provided upon disclosure evaluation material kps kps shall deemed bound terms agreement applicable recipient affiliates agg shall responsible breaches terms agreement applicable recipient kpsrespect kps representatives shall include officers directors accountants attorneys consultants advisors prior written consent disclosing party unreasonably withheld certain current limited partners funds affiliated managed kps respective officers directors accountants attorneys consultants advisorsrecipient may disclose evaluation material representatives including avoidance doubt kpsrecipient shall keep strictly confidential shall disclose cause permit disclosed person entityii confidential information except officers employees authorized representatives defined herein shall agree bound terms agreement except otherwise consented writing companyrecipient agrees disclose confidential information company anyone except directors officers employees representatives recipient required information order evaluate engage discussions concerning transactionnotwithstanding recipient may disclose confidential information1 directors officers employees parent company2 directors officers employees whollyowned subsidiary parent company3 directors officers employees recipients wholly owned subsidiaries4 agents advisors recipient including without limitation attorneys accountants consultants bankers financial advisors collectively representatives party associated nondisclosure agreement recipient provided representatives need know purposes agreement obligation hold information confidencerecipient may however disclose disclosers confidential information needtoknow basis affiliates employees staff members agents receiving individuals directly participating purpose informed confidential nature information provided recipient shall responsible compliance receiving individuals terms agreement breach thereof party agrees use name party affiliates respective trustees directors officers staff members employees students agents advertising promotional sales literature publicity document employed obtain funds financing without prior written approval party individual whose name used case bidmc approval given public affairs departmentb term representatives case jda shall mean directors officers employees counsel investment bankers financial advisors agents consultants advisors accountants auditors jdarecipient representatives use evaluation material solely purpose evaluating possible transaction subject section 5 disclose evaluation material manner whatsoever provided however information may disclosed recipients representatives purpose helping recipient evaluate possible transactionreceiving party shall disseminate confidential information employees independent contractors advisors affiliates need know basis order receiving party carry purpose receiving party warrants employees independent contractors advisors affiliates shall advised confidential nature information received employees independent contractors advisors affiliates shall bound writing obligations less stringent terms set forth agreementpurposes letter agreement term representatives shall include person affiliates persons affiliates respective directors officers employees agents attorneys accountants financial advisors professional representatives advisorshereby agree evaluation material kept confidential used solely purpose evaluating consideringnegotiating andor implementing possible transaction provided however evaluation material may disclosedrepresentatives need know information solely purpose evaluating consideringnegotiating andor implementing possible transactiondirect representatives disclose person exceptrepresentatives need know information purpose evaluating considering negotiating andor implementing possible transactionreceiving party agreesc disclose disclosing partys confidential information anyone except employees consultants representatives receiving party affiliates need know information purpose signed confidentiality agreements otherwise bound confidentiality nonuse obligations least restrictive contained hereinreceiving party may disclose disclosing partys confidential information strictly needtoknow basis personnel including employees receiving partys contractors require access disclosing partys confidential information order perform derive benefit services otherwise meet obligations agreementrestricted party shall directly indirectly behalf alliqua entities utilize disclose make available person entity confidential informationii subject section 4b recipient may disclose confidential information provider representative recipient extent representativeneeds know confidential information purpose helping recipient evaluate negotiate transaction partiespurposes agreement partys representatives deemed include person becomessubsidiary affiliate partyii officer director employee partner attorney advisor accountant agent representative party partys subsidiaries affiliates'"
            ]
          },
          "execution_count": 54,
          "metadata": {},
          "output_type": "execute_result"
        }
      ],
      "source": [
        "nda_aggregated_stopwords_df['text'][13]"
      ]
    },
    {
      "cell_type": "code",
      "execution_count": null,
      "id": "6a09b3c5",
      "metadata": {
        "id": "6a09b3c5"
      },
      "outputs": [],
      "source": [
        "nda_text_dict = nda_aggregated_text_df.set_index('nda')['text'].to_dict()\n",
        "nda_data = []\n",
        "for key,value in nda_text_dict.items():\n",
        "    nda_data.append({'nda':key, 'text':value})"
      ]
    },
    {
      "cell_type": "code",
      "execution_count": null,
      "id": "34b5377a",
      "metadata": {
        "id": "34b5377a"
      },
      "outputs": [],
      "source": [
        "stopwords = set(stopwords.words('english'))\n",
        "\n",
        "def process_text(text, nda_id):\n",
        "    word_list = []\n",
        "    for i, raw_text in enumerate(text):\n",
        "        # Removing white spaces\n",
        "        word_list.append(raw_text.strip()) \n",
        "    for i, word in enumerate(word_list):\n",
        "        if word == '':\n",
        "            word_list.remove(word)\n",
        "        # Rule: Words should start with alphabets\n",
        "        elif word[0].isalpha() == False: \n",
        "            word_list.remove(word)\n",
        "    \n",
        "    new_list = []\n",
        "    for i, word in enumerate(word_list):\n",
        "        temp = word.split(\" \")\n",
        "        for word in temp:\n",
        "            # Removing Empty Strings, Numbers and Hyperlinks\n",
        "            if word == \"\" or word == '' or word.isnumeric() == True or word[0:5] == \"https\": \n",
        "                break\n",
        "\n",
        "            # Removing Punctuations\n",
        "            if word[0].isalpha() == False: \n",
        "                word = word[1:]\n",
        "            elif word[-1].isalpha() == False:\n",
        "                word = word[:-1]\n",
        "            \n",
        "            # Convert all text to lower case\n",
        "            if len(word) != 0:\n",
        "                new_list.append(word.lower()) \n",
        "    \n",
        "    processed_text_list = []\n",
        "    for word in new_list:\n",
        "        if word not in stopwords:\n",
        "            processed_text_list.append(word)\n",
        "    \n",
        "    term_count = {}\n",
        "    term_count['nda'] = nda_id\n",
        "    words_so_far = []\n",
        "    for i, j in enumerate(processed_text_list):\n",
        "        if j != \"class\" and j != \"nda\":\n",
        "            if j not in words_so_far:\n",
        "                term_count[j] = 1\n",
        "                words_so_far.append(j)\n",
        "            else:\n",
        "                term_count[j] += 1\n",
        "    return term_count\n",
        "\n",
        "def get_term_counts(input_data):\n",
        "    term_count_list = []\n",
        "    for idx, raw_text in enumerate(input_data):\n",
        "        text = raw_text['text'].split(\" \")\n",
        "        tokenized_text = process_text(text, raw_text['nda'])\n",
        "        term_count_list.append(tokenized_text)\n",
        "    return term_count_list\n",
        "\n",
        "term_counts = get_term_counts(nda_data)"
      ]
    },
    {
      "cell_type": "markdown",
      "id": "15e7b348",
      "metadata": {
        "id": "15e7b348"
      },
      "source": [
        "### Finding top 10 keywords for every NDA"
      ]
    },
    {
      "cell_type": "code",
      "execution_count": null,
      "id": "939c170c",
      "metadata": {
        "id": "939c170c"
      },
      "outputs": [],
      "source": [
        "sorted_term_counts_list = []\n",
        "\n",
        "for i, nda_term_dict in enumerate(term_counts):\n",
        "    nda_number = nda_term_dict['nda']\n",
        "    del nda_term_dict['nda']\n",
        "    sorted_term_counts_list.append(dict(sorted(nda_term_dict.items(), key = lambda x: x[1], reverse = True)[:10]))\n",
        "    sorted_term_counts_list[i]['nda'] = nda_number\n",
        "\n",
        "sorted_term_counts_list"
      ]
    },
    {
      "cell_type": "markdown",
      "id": "78c99e56",
      "metadata": {
        "id": "78c99e56"
      },
      "source": [
        "__Visualization-__\n",
        "### As a part of our EDA, we visualize:\n",
        "#### 1. Bar Graph - The `NDA` Count Bar Graph which gives us the most common nda found in documents\n",
        "#### 2. Pie Chart - The proportion of each `NLI Label` in the dataset"
      ]
    },
    {
      "cell_type": "code",
      "execution_count": null,
      "id": "1b3993ab",
      "metadata": {
        "id": "1b3993ab"
      },
      "outputs": [],
      "source": [
        "# Get respective counts of nda for each Document\n",
        "def get_document_nda_counts():\n",
        "    document_annotations = {}\n",
        "\n",
        "    for document in data['documents']:\n",
        "        temp_annotations = {}\n",
        "        for key, value in document['annotation_sets'][0]['annotations'].items():\n",
        "            temp_annotations[key] = len(value['spans'])\n",
        "        document_annotations[document['id']] = temp_annotations\n",
        "\n",
        "    return document_annotations\n",
        "\n",
        "# Get Aggregated counts of nda for document \n",
        "def get_total_nda_counts(document_annotations):\n",
        "  nda_counts_dict = {}\n",
        "\n",
        "  for key, value in document_annotations.items():\n",
        "    for nda, nda_count in value.items():\n",
        "        if nda not in nda_counts_dict:\n",
        "            nda_counts_dict[nda] = nda_count\n",
        "        else:\n",
        "            nda_counts_dict[nda] += nda_count\n",
        "\n",
        "  return nda_counts_dict\n",
        "\n",
        "# Plot nda counts\n",
        "def plot_nda_counts_bar(nda_counts_dict):\n",
        "    sorted_nda=dict(sorted(nda_counts_dict.items(), key = lambda item: item[1], reverse = True))\n",
        "    plt.subplots(figsize=(15,10))\n",
        "    plt.bar(range(len(sorted_nda)), list(sorted_nda.values()))\n",
        "    plt.xticks(range(len(sorted_nda)), list(sorted_nda.keys()))\n",
        "    plt.title(\"NDA Vs Frequency\")\n",
        "    plt.xlabel(\"NDA\")\n",
        "    plt.ylabel(\"Frequency\")\n",
        "    for i, v in enumerate(sorted_nda.values()):\n",
        "        plt.text(i, v + 3, str(v), ha='center')\n",
        "    plt.show()"
      ]
    },
    {
      "cell_type": "code",
      "execution_count": null,
      "id": "c1ecc994",
      "metadata": {
        "colab": {
          "base_uri": "https://localhost:8080/",
          "height": 621
        },
        "id": "c1ecc994",
        "outputId": "537e24f3-d46e-42e4-a142-4187cd8b28f9"
      },
      "outputs": [
        {
          "data": {
            "image/png": "[encoded data removed]",
            "text/plain": [
              "<Figure size 1080x720 with 1 Axes>"
            ]
          },
          "metadata": {
            "needs_background": "light"
          },
          "output_type": "display_data"
        }
      ],
      "source": [
        "document_annotations = get_document_nda_counts()\n",
        "nda_counts = get_total_nda_counts(document_annotations)\n",
        "plot_nda_counts_bar(nda_counts)"
      ]
    },
    {
      "cell_type": "code",
      "execution_count": null,
      "id": "8b2ee43e",
      "metadata": {
        "colab": {
          "base_uri": "https://localhost:8080/",
          "height": 1000
        },
        "id": "8b2ee43e",
        "outputId": "977420f6-c155-4633-d5f6-c72d0103e912"
      },
      "outputs": [
        {
          "ename": "KeyError",
          "evalue": "ignored",
          "output_type": "error",
          "traceback": [
            "\u001b[0;31m---------------------------------------------------------------------------\u001b[0m",
            "\u001b[0;31mKeyError\u001b[0m                                  Traceback (most recent call last)",
            "\u001b[0;32m/usr/local/lib/python3.8/dist-packages/pandas/core/indexes/base.py\u001b[0m in \u001b[0;36mget_loc\u001b[0;34m(self, key, method, tolerance)\u001b[0m\n\u001b[1;32m   3360\u001b[0m             \u001b[0;32mtry\u001b[0m\u001b[0;34m:\u001b[0m\u001b[0;34m\u001b[0m\u001b[0;34m\u001b[0m\u001b[0m\n\u001b[0;32m-> 3361\u001b[0;31m                 \u001b[0;32mreturn\u001b[0m \u001b[0mself\u001b[0m\u001b[0;34m.\u001b[0m\u001b[0m_engine\u001b[0m\u001b[0;34m.\u001b[0m\u001b[0mget_loc\u001b[0m\u001b[0;34m(\u001b[0m\u001b[0mcasted_key\u001b[0m\u001b[0;34m)\u001b[0m\u001b[0;34m\u001b[0m\u001b[0;34m\u001b[0m\u001b[0m\n\u001b[0m\u001b[1;32m   3362\u001b[0m             \u001b[0;32mexcept\u001b[0m \u001b[0mKeyError\u001b[0m \u001b[0;32mas\u001b[0m \u001b[0merr\u001b[0m\u001b[0;34m:\u001b[0m\u001b[0;34m\u001b[0m\u001b[0;34m\u001b[0m\u001b[0m\n",
            "\u001b[0;32m/usr/local/lib/python3.8/dist-packages/pandas/_libs/index.pyx\u001b[0m in \u001b[0;36mpandas._libs.index.IndexEngine.get_loc\u001b[0;34m()\u001b[0m\n",
            "\u001b[0;32m/usr/local/lib/python3.8/dist-packages/pandas/_libs/index.pyx\u001b[0m in \u001b[0;36mpandas._libs.index.IndexEngine.get_loc\u001b[0;34m()\u001b[0m\n",
            "\u001b[0;32mpandas/_libs/hashtable_class_helper.pxi\u001b[0m in \u001b[0;36mpandas._libs.hashtable.PyObjectHashTable.get_item\u001b[0;34m()\u001b[0m\n",
            "\u001b[0;32mpandas/_libs/hashtable_class_helper.pxi\u001b[0m in \u001b[0;36mpandas._libs.hashtable.PyObjectHashTable.get_item\u001b[0;34m()\u001b[0m\n",
            "\u001b[0;31mKeyError\u001b[0m: 'choice'",
            "\nThe above exception was the direct cause of the following exception:\n",
            "\u001b[0;31mKeyError\u001b[0m                                  Traceback (most recent call last)",
            "\u001b[0;32m<ipython-input-128-6d56982460e3>\u001b[0m in \u001b[0;36m<module>\u001b[0;34m\u001b[0m\n\u001b[1;32m      7\u001b[0m     \u001b[0mplt\u001b[0m\u001b[0;34m.\u001b[0m\u001b[0mshow\u001b[0m\u001b[0;34m(\u001b[0m\u001b[0;34m)\u001b[0m\u001b[0;34m\u001b[0m\u001b[0;34m\u001b[0m\u001b[0m\n\u001b[1;32m      8\u001b[0m \u001b[0;34m\u001b[0m\u001b[0m\n\u001b[0;32m----> 9\u001b[0;31m \u001b[0mplot_nli_label_pie\u001b[0m\u001b[0;34m(\u001b[0m\u001b[0mtext_nda_df\u001b[0m\u001b[0;34m)\u001b[0m\u001b[0;34m\u001b[0m\u001b[0;34m\u001b[0m\u001b[0m\n\u001b[0m",
            "\u001b[0;32m<ipython-input-128-6d56982460e3>\u001b[0m in \u001b[0;36mplot_nli_label_pie\u001b[0;34m(text_nda_df)\u001b[0m\n\u001b[1;32m      2\u001b[0m \u001b[0;32mdef\u001b[0m \u001b[0mplot_nli_label_pie\u001b[0m\u001b[0;34m(\u001b[0m\u001b[0mtext_nda_df\u001b[0m\u001b[0;34m)\u001b[0m\u001b[0;34m:\u001b[0m\u001b[0;34m\u001b[0m\u001b[0;34m\u001b[0m\u001b[0m\n\u001b[1;32m      3\u001b[0m     \u001b[0mplt\u001b[0m\u001b[0;34m.\u001b[0m\u001b[0msubplots\u001b[0m\u001b[0;34m(\u001b[0m\u001b[0mfigsize\u001b[0m\u001b[0;34m=\u001b[0m\u001b[0;34m(\u001b[0m\u001b[0;36m15\u001b[0m\u001b[0;34m,\u001b[0m\u001b[0;36m10\u001b[0m\u001b[0;34m)\u001b[0m\u001b[0;34m)\u001b[0m\u001b[0;34m\u001b[0m\u001b[0;34m\u001b[0m\u001b[0m\n\u001b[0;32m----> 4\u001b[0;31m     \u001b[0mtext_nda_df\u001b[0m\u001b[0;34m[\u001b[0m\u001b[0;34m'choice'\u001b[0m\u001b[0;34m]\u001b[0m\u001b[0;34m.\u001b[0m\u001b[0mvalue_counts\u001b[0m\u001b[0;34m(\u001b[0m\u001b[0;34m)\u001b[0m\u001b[0;34m.\u001b[0m\u001b[0mplot\u001b[0m\u001b[0;34m.\u001b[0m\u001b[0mpie\u001b[0m\u001b[0;34m(\u001b[0m\u001b[0mcolors\u001b[0m \u001b[0;34m=\u001b[0m \u001b[0;34m[\u001b[0m\u001b[0;34m'Steelblue'\u001b[0m\u001b[0;34m,\u001b[0m \u001b[0;34m'Gray'\u001b[0m\u001b[0;34m,\u001b[0m \u001b[0;34m'orange'\u001b[0m\u001b[0;34m]\u001b[0m\u001b[0;34m,\u001b[0m \u001b[0mautopct\u001b[0m\u001b[0;34m=\u001b[0m\u001b[0;34m'%1.2f%%'\u001b[0m\u001b[0;34m)\u001b[0m\u001b[0;34m\u001b[0m\u001b[0;34m\u001b[0m\u001b[0m\n\u001b[0m\u001b[1;32m      5\u001b[0m     \u001b[0mplt\u001b[0m\u001b[0;34m.\u001b[0m\u001b[0maxis\u001b[0m\u001b[0;34m(\u001b[0m\u001b[0;34m'equal'\u001b[0m\u001b[0;34m)\u001b[0m\u001b[0;34m\u001b[0m\u001b[0;34m\u001b[0m\u001b[0m\n\u001b[1;32m      6\u001b[0m     \u001b[0mplt\u001b[0m\u001b[0;34m.\u001b[0m\u001b[0mtitle\u001b[0m\u001b[0;34m(\u001b[0m\u001b[0;34m\"Proportion of different types of NLI label in our data: \"\u001b[0m\u001b[0;34m)\u001b[0m\u001b[0;34m\u001b[0m\u001b[0;34m\u001b[0m\u001b[0m\n",
            "\u001b[0;32m/usr/local/lib/python3.8/dist-packages/pandas/core/frame.py\u001b[0m in \u001b[0;36m__getitem__\u001b[0;34m(self, key)\u001b[0m\n\u001b[1;32m   3456\u001b[0m             \u001b[0;32mif\u001b[0m \u001b[0mself\u001b[0m\u001b[0;34m.\u001b[0m\u001b[0mcolumns\u001b[0m\u001b[0;34m.\u001b[0m\u001b[0mnlevels\u001b[0m \u001b[0;34m>\u001b[0m \u001b[0;36m1\u001b[0m\u001b[0;34m:\u001b[0m\u001b[0;34m\u001b[0m\u001b[0;34m\u001b[0m\u001b[0m\n\u001b[1;32m   3457\u001b[0m                 \u001b[0;32mreturn\u001b[0m \u001b[0mself\u001b[0m\u001b[0;34m.\u001b[0m\u001b[0m_getitem_multilevel\u001b[0m\u001b[0;34m(\u001b[0m\u001b[0mkey\u001b[0m\u001b[0;34m)\u001b[0m\u001b[0;34m\u001b[0m\u001b[0;34m\u001b[0m\u001b[0m\n\u001b[0;32m-> 3458\u001b[0;31m             \u001b[0mindexer\u001b[0m \u001b[0;34m=\u001b[0m \u001b[0mself\u001b[0m\u001b[0;34m.\u001b[0m\u001b[0mcolumns\u001b[0m\u001b[0;34m.\u001b[0m\u001b[0mget_loc\u001b[0m\u001b[0;34m(\u001b[0m\u001b[0mkey\u001b[0m\u001b[0;34m)\u001b[0m\u001b[0;34m\u001b[0m\u001b[0;34m\u001b[0m\u001b[0m\n\u001b[0m\u001b[1;32m   3459\u001b[0m             \u001b[0;32mif\u001b[0m \u001b[0mis_integer\u001b[0m\u001b[0;34m(\u001b[0m\u001b[0mindexer\u001b[0m\u001b[0;34m)\u001b[0m\u001b[0;34m:\u001b[0m\u001b[0;34m\u001b[0m\u001b[0;34m\u001b[0m\u001b[0m\n\u001b[1;32m   3460\u001b[0m                 \u001b[0mindexer\u001b[0m \u001b[0;34m=\u001b[0m \u001b[0;34m[\u001b[0m\u001b[0mindexer\u001b[0m\u001b[0;34m]\u001b[0m\u001b[0;34m\u001b[0m\u001b[0;34m\u001b[0m\u001b[0m\n",
            "\u001b[0;32m/usr/local/lib/python3.8/dist-packages/pandas/core/indexes/base.py\u001b[0m in \u001b[0;36mget_loc\u001b[0;34m(self, key, method, tolerance)\u001b[0m\n\u001b[1;32m   3361\u001b[0m                 \u001b[0;32mreturn\u001b[0m \u001b[0mself\u001b[0m\u001b[0;34m.\u001b[0m\u001b[0m_engine\u001b[0m\u001b[0;34m.\u001b[0m\u001b[0mget_loc\u001b[0m\u001b[0;34m(\u001b[0m\u001b[0mcasted_key\u001b[0m\u001b[0;34m)\u001b[0m\u001b[0;34m\u001b[0m\u001b[0;34m\u001b[0m\u001b[0m\n\u001b[1;32m   3362\u001b[0m             \u001b[0;32mexcept\u001b[0m \u001b[0mKeyError\u001b[0m \u001b[0;32mas\u001b[0m \u001b[0merr\u001b[0m\u001b[0;34m:\u001b[0m\u001b[0;34m\u001b[0m\u001b[0;34m\u001b[0m\u001b[0m\n\u001b[0;32m-> 3363\u001b[0;31m                 \u001b[0;32mraise\u001b[0m \u001b[0mKeyError\u001b[0m\u001b[0;34m(\u001b[0m\u001b[0mkey\u001b[0m\u001b[0;34m)\u001b[0m \u001b[0;32mfrom\u001b[0m \u001b[0merr\u001b[0m\u001b[0;34m\u001b[0m\u001b[0;34m\u001b[0m\u001b[0m\n\u001b[0m\u001b[1;32m   3364\u001b[0m \u001b[0;34m\u001b[0m\u001b[0m\n\u001b[1;32m   3365\u001b[0m         \u001b[0;32mif\u001b[0m \u001b[0mis_scalar\u001b[0m\u001b[0;34m(\u001b[0m\u001b[0mkey\u001b[0m\u001b[0;34m)\u001b[0m \u001b[0;32mand\u001b[0m \u001b[0misna\u001b[0m\u001b[0;34m(\u001b[0m\u001b[0mkey\u001b[0m\u001b[0;34m)\u001b[0m \u001b[0;32mand\u001b[0m \u001b[0;32mnot\u001b[0m \u001b[0mself\u001b[0m\u001b[0;34m.\u001b[0m\u001b[0mhasnans\u001b[0m\u001b[0;34m:\u001b[0m\u001b[0;34m\u001b[0m\u001b[0;34m\u001b[0m\u001b[0m\n",
            "\u001b[0;31mKeyError\u001b[0m: 'choice'"
          ]
        },
        {
          "data": {
            "image/png": "[encoded data removed]",
            "text/plain": [
              "<Figure size 1080x720 with 1 Axes>"
            ]
          },
          "metadata": {
            "needs_background": "light"
          },
          "output_type": "display_data"
        }
      ],
      "source": [
        "# NLI label pie chart\n",
        "def plot_nli_label_pie(text_nda_df):\n",
        "    plt.subplots(figsize=(15,10))\n",
        "    text_nda_df['choice'].value_counts().plot.pie(colors = ['Steelblue', 'Gray', 'orange'], autopct='%1.2f%%')\n",
        "    plt.axis('equal')\n",
        "    plt.title(\"Proportion of different types of NLI label in our data: \")\n",
        "    plt.show()\n",
        "\n",
        "plot_nli_label_pie(text_nda_df)"
      ]
    },
    {
      "cell_type": "code",
      "execution_count": null,
      "id": "fa77b82d",
      "metadata": {
        "id": "fa77b82d"
      },
      "outputs": [],
      "source": [
        "#plotting the 10 most frequent words in three of the most common NDAs\n",
        "from wordcloud import WordCloud\n",
        "\n",
        "sorted_nda_counts = dict(sorted(nda_counts.items(), key=lambda item: item[1], reverse=True))\n",
        "top_ten_nda_counts = [key for key, value in list(sorted_nda_counts.items())[:10]]\n",
        "\n",
        "final_sorted_list = []\n",
        "for j in range(len(sorted_term_counts_list)):\n",
        "  for i in top_ten_nda_counts:\n",
        "    if(i in list(sorted_term_counts_list[j].values())):\n",
        "      final_sorted_list.append(sorted_term_counts_list[j])\n",
        "\n",
        "l = []\n",
        "for i in range(len(final_sorted_list)):\n",
        "  for w in list(final_sorted_list[i].keys()):\n",
        "    l.append(w)\n",
        "\n",
        "final3 = []\n",
        "\n",
        "for i in l:\n",
        "  #print(i, l.count(i))\n",
        "  if l.count(i) > 5 and len(i) <= 6 and i not in final3:\n",
        "    final3.append(i)\n",
        "\n",
        "final3\n",
        "\n",
        "def intersection(lst1, lst2):\n",
        "    lst3 = [value for value in lst1 if value in lst2]\n",
        "    return lst3\n",
        "\n",
        "def my_filtering_function(pair):\n",
        "    #unwanted_key = ['nda', 'party', 'shall', 'right', 'including', 'data', 'date', 'years', 'without', 'upon', 'third', 'use']\n",
        "    unwanted_key = final3\n",
        "    key, value = pair\n",
        "    if key in unwanted_key:\n",
        "        return False  # filter pair out of the dictionary\n",
        "    else:\n",
        "        return True  # keep pair in the filtered dictionary\n"
      ]
    },
    {
      "cell_type": "code",
      "execution_count": null,
      "id": "cxaE_kr0dKt2",
      "metadata": {
        "id": "cxaE_kr0dKt2"
      },
      "outputs": [],
      "source": [
        "for i in range(len(sorted_term_counts_list)):\n",
        "  if(sorted_term_counts_list[i]['nda'] in top_ten_nda_counts):\n",
        "    n = sorted_term_counts_list[i]['nda']\n",
        "    #del sorted_term_counts_list[i]['nda']\n",
        "    filtered_nda = dict(filter(my_filtering_function, sorted_term_counts_list[i].items()))\n",
        "    wordcloud = WordCloud(width = 1000, height = 500).generate_from_frequencies(filtered_nda)\n",
        "    plt.figure(figsize=(15,10))\n",
        "    plt.title(\"The 10 most frequent words in \"+ n)\n",
        "    plt.imshow(wordcloud)"
      ]
    },
    {
      "cell_type": "markdown",
      "id": "HtK6isPOdQeb",
      "metadata": {
        "id": "HtK6isPOdQeb"
      },
      "source": [
        "These singular words are repeatitive and do not provide much context. Let's try some bi-grams and tri-grams to get a clearer understanding of the context within the nda-text\n",
        "\n",
        "To build a representation of our vocabulary we will use Countvectorizer. Countvectorizer is a simple method used to tokenize, vectorize and represent the corpus in an appropriate form. "
      ]
    },
    {
      "cell_type": "code",
      "execution_count": null,
      "id": "bC5NxYSTdNiD",
      "metadata": {
        "id": "bC5NxYSTdNiD"
      },
      "outputs": [],
      "source": [
        "from nltk.util import ngrams\n",
        "import seaborn as sns\n",
        "import numpy as np\n",
        "from nltk.corpus import stopwords\n",
        "from sklearn.feature_extraction.text import CountVectorizer\n",
        "from collections import  Counter\n",
        "\n",
        "def Convert(string):\n",
        "    li = list(string.split(\" \"))\n",
        "    return li\n",
        "\n",
        "def get_top_ngram(corpus, n=None):\n",
        "    vec = CountVectorizer(ngram_range=(n, n)).fit(corpus)\n",
        "    bag_of_words = vec.transform(corpus)\n",
        "    sum_words = bag_of_words.sum(axis=0)\n",
        "    words_freq = [(word, sum_words[0, idx])\n",
        "                  for word, idx in vec.vocabulary_.items()]\n",
        "    words_freq =sorted(words_freq, key = lambda x: x[1], reverse=True)\n",
        "    return words_freq[:10]\n",
        "\n",
        "# Code Snippet for Top N-grams Barchart\n",
        "def plot_top_ngrams_barchart(text, n=2):\n",
        "    stop=set(stopwords.words('english'))\n",
        "\n",
        "    new= text.str.split()\n",
        "    new=new.values.tolist()\n",
        "    corpus=[word for i in new for word in i]\n",
        "\n",
        "    def _get_top_ngram(corpus, n=None):\n",
        "        vec = CountVectorizer(ngram_range=(n, n)).fit(corpus)\n",
        "        bag_of_words = vec.transform(corpus)\n",
        "        sum_words = bag_of_words.sum(axis=0) \n",
        "        words_freq = [(word, sum_words[0, idx]) \n",
        "                      for word, idx in vec.vocabulary_.items()]\n",
        "        words_freq =sorted(words_freq, key = lambda x: x[1], reverse=True)\n",
        "        return words_freq[:10]\n",
        "\n",
        "    top_n_bigrams=_get_top_ngram(text,n)[:10]\n",
        "    x,y=map(list,zip(*top_n_bigrams))\n",
        "    plt.figure(figsize=(15,10))\n",
        "    sns.barplot(x=y,y=x)"
      ]
    },
    {
      "cell_type": "code",
      "execution_count": null,
      "id": "9mXTAyOZdTTD",
      "metadata": {
        "id": "9mXTAyOZdTTD"
      },
      "outputs": [],
      "source": [
        "plot_top_ngrams_barchart(nda_aggregated_stopwords_df['text'],2)"
      ]
    },
    {
      "cell_type": "code",
      "execution_count": null,
      "id": "dZwEBhm1dVZt",
      "metadata": {
        "id": "dZwEBhm1dVZt"
      },
      "outputs": [],
      "source": [
        "plot_top_ngrams_barchart(nda_aggregated_stopwords_df['text'],3)"
      ]
    },
    {
      "cell_type": "code",
      "execution_count": null,
      "id": "UWNvYRWgdW-O",
      "metadata": {
        "colab": {
          "base_uri": "https://localhost:8080/",
          "height": 424
        },
        "id": "UWNvYRWgdW-O",
        "outputId": "758ef693-39b9-4b6a-8a8f-00ee37ddbd51"
      },
      "outputs": [
        {
          "data": {
            "text/html": [
              "\n",
              "  <div id=\"df-302b8005-cb0e-4b5e-ab69-12cc562df56a\">\n",
              "    <div class=\"colab-df-container\">\n",
              "      <div>\n",
              "<style scoped>\n",
              "    .dataframe tbody tr th:only-of-type {\n",
              "        vertical-align: middle;\n",
              "    }\n",
              "\n",
              "    .dataframe tbody tr th {\n",
              "        vertical-align: top;\n",
              "    }\n",
              "\n",
              "    .dataframe thead th {\n",
              "        text-align: right;\n",
              "    }\n",
              "</style>\n",
              "<table border=\"1\" class=\"dataframe\">\n",
              "  <thead>\n",
              "    <tr style=\"text-align: right;\">\n",
              "      <th></th>\n",
              "      <th>text</th>\n",
              "      <th>nda</th>\n",
              "    </tr>\n",
              "  </thead>\n",
              "  <tbody>\n",
              "    <tr>\n",
              "      <th>0</th>\n",
              "      <td>,,,,,iv reverse engineering work product recei...</td>\n",
              "      <td>nda-11</td>\n",
              "    </tr>\n",
              "    <tr>\n",
              "      <th>1</th>\n",
              "      <td>5 confidential information form medium includi...</td>\n",
              "      <td>nda-16</td>\n",
              "    </tr>\n",
              "    <tr>\n",
              "      <th>2</th>\n",
              "      <td>5 confidential information form medium includi...</td>\n",
              "      <td>nda-16</td>\n",
              "    </tr>\n",
              "    <tr>\n",
              "      <th>3</th>\n",
              "      <td>4 nothing agreement construed granting recipie...</td>\n",
              "      <td>nda-15</td>\n",
              "    </tr>\n",
              "    <tr>\n",
              "      <th>4</th>\n",
              "      <td>11 recipient shall advertise otherwise make pu...</td>\n",
              "      <td>nda-10</td>\n",
              "    </tr>\n",
              "    <tr>\n",
              "      <th>...</th>\n",
              "      <td>...</td>\n",
              "      <td>...</td>\n",
              "    </tr>\n",
              "    <tr>\n",
              "      <th>11156</th>\n",
              "      <td>23 provided recipient written agreement follow...</td>\n",
              "      <td>nda-5</td>\n",
              "    </tr>\n",
              "    <tr>\n",
              "      <th>11157</th>\n",
              "      <td>23 provided recipient written agreement follow...</td>\n",
              "      <td>nda-5</td>\n",
              "    </tr>\n",
              "    <tr>\n",
              "      <th>11158</th>\n",
              "      <td>recipient shall use confidential information s...</td>\n",
              "      <td>nda-4</td>\n",
              "    </tr>\n",
              "    <tr>\n",
              "      <th>11159</th>\n",
              "      <td>recipient shall use confidential information s...</td>\n",
              "      <td>nda-4</td>\n",
              "    </tr>\n",
              "    <tr>\n",
              "      <th>11160</th>\n",
              "      <td>recipient shall use confidential information s...</td>\n",
              "      <td>nda-4</td>\n",
              "    </tr>\n",
              "  </tbody>\n",
              "</table>\n",
              "<p>11161 rows × 2 columns</p>\n",
              "</div>\n",
              "      <button class=\"colab-df-convert\" onclick=\"convertToInteractive('df-302b8005-cb0e-4b5e-ab69-12cc562df56a')\"\n",
              "              title=\"Convert this dataframe to an interactive table.\"\n",
              "              style=\"display:none;\">\n",
              "        \n",
              "  <svg xmlns=\"http://www.w3.org/2000/svg\" height=\"24px\"viewBox=\"0 0 24 24\"\n",
              "       width=\"24px\">\n",
              "    <path d=\"M0 0h24v24H0V0z\" fill=\"none\"/>\n",
              "    <path d=\"M18.56 5.44l.94 2.06.94-2.06 2.06-.94-2.06-.94-.94-2.06-.94 2.06-2.06.94zm-11 1L8.5 8.5l.94-2.06 2.06-.94-2.06-.94L8.5 2.5l-.94 2.06-2.06.94zm10 10l.94 2.06.94-2.06 2.06-.94-2.06-.94-.94-2.06-.94 2.06-2.06.94z\"/><path d=\"M17.41 7.96l-1.37-1.37c-.4-.4-.92-.59-1.43-.59-.52 0-1.04.2-1.43.59L10.3 9.45l-7.72 7.72c-.78.78-.78 2.05 0 2.83L4 21.41c.39.39.9.59 1.41.59.51 0 1.02-.2 1.41-.59l7.78-7.78 2.81-2.81c.8-.78.8-2.07 0-2.86zM5.41 20L4 18.59l7.72-7.72 1.47 1.35L5.41 20z\"/>\n",
              "  </svg>\n",
              "      </button>\n",
              "      \n",
              "  <style>\n",
              "    .colab-df-container {\n",
              "      display:flex;\n",
              "      flex-wrap:wrap;\n",
              "      gap: 12px;\n",
              "    }\n",
              "\n",
              "    .colab-df-convert {\n",
              "      background-color: #E8F0FE;\n",
              "      border: none;\n",
              "      border-radius: 50%;\n",
              "      cursor: pointer;\n",
              "      display: none;\n",
              "      fill: #1967D2;\n",
              "      height: 32px;\n",
              "      padding: 0 0 0 0;\n",
              "      width: 32px;\n",
              "    }\n",
              "\n",
              "    .colab-df-convert:hover {\n",
              "      background-color: #E2EBFA;\n",
              "      box-shadow: 0px 1px 2px rgba(60, 64, 67, 0.3), 0px 1px 3px 1px rgba(60, 64, 67, 0.15);\n",
              "      fill: #174EA6;\n",
              "    }\n",
              "\n",
              "    [theme=dark] .colab-df-convert {\n",
              "      background-color: #3B4455;\n",
              "      fill: #D2E3FC;\n",
              "    }\n",
              "\n",
              "    [theme=dark] .colab-df-convert:hover {\n",
              "      background-color: #434B5C;\n",
              "      box-shadow: 0px 1px 3px 1px rgba(0, 0, 0, 0.15);\n",
              "      filter: drop-shadow(0px 1px 2px rgba(0, 0, 0, 0.3));\n",
              "      fill: #FFFFFF;\n",
              "    }\n",
              "  </style>\n",
              "\n",
              "      <script>\n",
              "        const buttonEl =\n",
              "          document.querySelector('#df-302b8005-cb0e-4b5e-ab69-12cc562df56a button.colab-df-convert');\n",
              "        buttonEl.style.display =\n",
              "          google.colab.kernel.accessAllowed ? 'block' : 'none';\n",
              "\n",
              "        async function convertToInteractive(key) {\n",
              "          const element = document.querySelector('#df-302b8005-cb0e-4b5e-ab69-12cc562df56a');\n",
              "          const dataTable =\n",
              "            await google.colab.kernel.invokeFunction('convertToInteractive',\n",
              "                                                     [key], {});\n",
              "          if (!dataTable) return;\n",
              "\n",
              "          const docLinkHtml = 'Like what you see? Visit the ' +\n",
              "            '<a target=\"_blank\" href=https://colab.research.google.com/notebooks/data_table.ipynb>data table notebook</a>'\n",
              "            + ' to learn more about interactive tables.';\n",
              "          element.innerHTML = '';\n",
              "          dataTable['output_type'] = 'display_data';\n",
              "          await google.colab.output.renderOutput(dataTable, element);\n",
              "          const docLink = document.createElement('div');\n",
              "          docLink.innerHTML = docLinkHtml;\n",
              "          element.appendChild(docLink);\n",
              "        }\n",
              "      </script>\n",
              "    </div>\n",
              "  </div>\n",
              "  "
            ],
            "text/plain": [
              "                                                    text     nda\n",
              "0      ,,,,,iv reverse engineering work product recei...  nda-11\n",
              "1      5 confidential information form medium includi...  nda-16\n",
              "2      5 confidential information form medium includi...  nda-16\n",
              "3      4 nothing agreement construed granting recipie...  nda-15\n",
              "4      11 recipient shall advertise otherwise make pu...  nda-10\n",
              "...                                                  ...     ...\n",
              "11156  23 provided recipient written agreement follow...   nda-5\n",
              "11157  23 provided recipient written agreement follow...   nda-5\n",
              "11158  recipient shall use confidential information s...   nda-4\n",
              "11159  recipient shall use confidential information s...   nda-4\n",
              "11160  recipient shall use confidential information s...   nda-4\n",
              "\n",
              "[11161 rows x 2 columns]"
            ]
          },
          "execution_count": 58,
          "metadata": {},
          "output_type": "execute_result"
        }
      ],
      "source": [
        "text_nda_new_df = text_nda_df\n",
        "text_nda_new_df.drop(['choice'], inplace = True, axis = 1)\n",
        "text_nda_new_df"
      ]
    },
    {
      "cell_type": "code",
      "execution_count": null,
      "id": "R9KPFJ3yY63F",
      "metadata": {
        "colab": {
          "base_uri": "https://localhost:8080/",
          "height": 424
        },
        "id": "R9KPFJ3yY63F",
        "outputId": "98989f10-decd-49a3-d3b7-ef2b6f7ac244"
      },
      "outputs": [
        {
          "data": {
            "text/html": [
              "\n",
              "  <div id=\"df-8cd35433-52a7-4919-ada3-d812b6cb8a10\">\n",
              "    <div class=\"colab-df-container\">\n",
              "      <div>\n",
              "<style scoped>\n",
              "    .dataframe tbody tr th:only-of-type {\n",
              "        vertical-align: middle;\n",
              "    }\n",
              "\n",
              "    .dataframe tbody tr th {\n",
              "        vertical-align: top;\n",
              "    }\n",
              "\n",
              "    .dataframe thead th {\n",
              "        text-align: right;\n",
              "    }\n",
              "</style>\n",
              "<table border=\"1\" class=\"dataframe\">\n",
              "  <thead>\n",
              "    <tr style=\"text-align: right;\">\n",
              "      <th></th>\n",
              "      <th>text</th>\n",
              "      <th>nda</th>\n",
              "      <th>nda_cat</th>\n",
              "    </tr>\n",
              "  </thead>\n",
              "  <tbody>\n",
              "    <tr>\n",
              "      <th>0</th>\n",
              "      <td>,,,,,iv reverse engineering work product recei...</td>\n",
              "      <td>nda-11</td>\n",
              "      <td>2</td>\n",
              "    </tr>\n",
              "    <tr>\n",
              "      <th>1</th>\n",
              "      <td>5 confidential information form medium includi...</td>\n",
              "      <td>nda-16</td>\n",
              "      <td>6</td>\n",
              "    </tr>\n",
              "    <tr>\n",
              "      <th>2</th>\n",
              "      <td>5 confidential information form medium includi...</td>\n",
              "      <td>nda-16</td>\n",
              "      <td>6</td>\n",
              "    </tr>\n",
              "    <tr>\n",
              "      <th>3</th>\n",
              "      <td>4 nothing agreement construed granting recipie...</td>\n",
              "      <td>nda-15</td>\n",
              "      <td>5</td>\n",
              "    </tr>\n",
              "    <tr>\n",
              "      <th>4</th>\n",
              "      <td>11 recipient shall advertise otherwise make pu...</td>\n",
              "      <td>nda-10</td>\n",
              "      <td>1</td>\n",
              "    </tr>\n",
              "    <tr>\n",
              "      <th>...</th>\n",
              "      <td>...</td>\n",
              "      <td>...</td>\n",
              "      <td>...</td>\n",
              "    </tr>\n",
              "    <tr>\n",
              "      <th>11156</th>\n",
              "      <td>23 provided recipient written agreement follow...</td>\n",
              "      <td>nda-5</td>\n",
              "      <td>14</td>\n",
              "    </tr>\n",
              "    <tr>\n",
              "      <th>11157</th>\n",
              "      <td>23 provided recipient written agreement follow...</td>\n",
              "      <td>nda-5</td>\n",
              "      <td>14</td>\n",
              "    </tr>\n",
              "    <tr>\n",
              "      <th>11158</th>\n",
              "      <td>recipient shall use confidential information s...</td>\n",
              "      <td>nda-4</td>\n",
              "      <td>13</td>\n",
              "    </tr>\n",
              "    <tr>\n",
              "      <th>11159</th>\n",
              "      <td>recipient shall use confidential information s...</td>\n",
              "      <td>nda-4</td>\n",
              "      <td>13</td>\n",
              "    </tr>\n",
              "    <tr>\n",
              "      <th>11160</th>\n",
              "      <td>recipient shall use confidential information s...</td>\n",
              "      <td>nda-4</td>\n",
              "      <td>13</td>\n",
              "    </tr>\n",
              "  </tbody>\n",
              "</table>\n",
              "<p>11161 rows × 3 columns</p>\n",
              "</div>\n",
              "      <button class=\"colab-df-convert\" onclick=\"convertToInteractive('df-8cd35433-52a7-4919-ada3-d812b6cb8a10')\"\n",
              "              title=\"Convert this dataframe to an interactive table.\"\n",
              "              style=\"display:none;\">\n",
              "        \n",
              "  <svg xmlns=\"http://www.w3.org/2000/svg\" height=\"24px\"viewBox=\"0 0 24 24\"\n",
              "       width=\"24px\">\n",
              "    <path d=\"M0 0h24v24H0V0z\" fill=\"none\"/>\n",
              "    <path d=\"M18.56 5.44l.94 2.06.94-2.06 2.06-.94-2.06-.94-.94-2.06-.94 2.06-2.06.94zm-11 1L8.5 8.5l.94-2.06 2.06-.94-2.06-.94L8.5 2.5l-.94 2.06-2.06.94zm10 10l.94 2.06.94-2.06 2.06-.94-2.06-.94-.94-2.06-.94 2.06-2.06.94z\"/><path d=\"M17.41 7.96l-1.37-1.37c-.4-.4-.92-.59-1.43-.59-.52 0-1.04.2-1.43.59L10.3 9.45l-7.72 7.72c-.78.78-.78 2.05 0 2.83L4 21.41c.39.39.9.59 1.41.59.51 0 1.02-.2 1.41-.59l7.78-7.78 2.81-2.81c.8-.78.8-2.07 0-2.86zM5.41 20L4 18.59l7.72-7.72 1.47 1.35L5.41 20z\"/>\n",
              "  </svg>\n",
              "      </button>\n",
              "      \n",
              "  <style>\n",
              "    .colab-df-container {\n",
              "      display:flex;\n",
              "      flex-wrap:wrap;\n",
              "      gap: 12px;\n",
              "    }\n",
              "\n",
              "    .colab-df-convert {\n",
              "      background-color: #E8F0FE;\n",
              "      border: none;\n",
              "      border-radius: 50%;\n",
              "      cursor: pointer;\n",
              "      display: none;\n",
              "      fill: #1967D2;\n",
              "      height: 32px;\n",
              "      padding: 0 0 0 0;\n",
              "      width: 32px;\n",
              "    }\n",
              "\n",
              "    .colab-df-convert:hover {\n",
              "      background-color: #E2EBFA;\n",
              "      box-shadow: 0px 1px 2px rgba(60, 64, 67, 0.3), 0px 1px 3px 1px rgba(60, 64, 67, 0.15);\n",
              "      fill: #174EA6;\n",
              "    }\n",
              "\n",
              "    [theme=dark] .colab-df-convert {\n",
              "      background-color: #3B4455;\n",
              "      fill: #D2E3FC;\n",
              "    }\n",
              "\n",
              "    [theme=dark] .colab-df-convert:hover {\n",
              "      background-color: #434B5C;\n",
              "      box-shadow: 0px 1px 3px 1px rgba(0, 0, 0, 0.15);\n",
              "      filter: drop-shadow(0px 1px 2px rgba(0, 0, 0, 0.3));\n",
              "      fill: #FFFFFF;\n",
              "    }\n",
              "  </style>\n",
              "\n",
              "      <script>\n",
              "        const buttonEl =\n",
              "          document.querySelector('#df-8cd35433-52a7-4919-ada3-d812b6cb8a10 button.colab-df-convert');\n",
              "        buttonEl.style.display =\n",
              "          google.colab.kernel.accessAllowed ? 'block' : 'none';\n",
              "\n",
              "        async function convertToInteractive(key) {\n",
              "          const element = document.querySelector('#df-8cd35433-52a7-4919-ada3-d812b6cb8a10');\n",
              "          const dataTable =\n",
              "            await google.colab.kernel.invokeFunction('convertToInteractive',\n",
              "                                                     [key], {});\n",
              "          if (!dataTable) return;\n",
              "\n",
              "          const docLinkHtml = 'Like what you see? Visit the ' +\n",
              "            '<a target=\"_blank\" href=https://colab.research.google.com/notebooks/data_table.ipynb>data table notebook</a>'\n",
              "            + ' to learn more about interactive tables.';\n",
              "          element.innerHTML = '';\n",
              "          dataTable['output_type'] = 'display_data';\n",
              "          await google.colab.output.renderOutput(dataTable, element);\n",
              "          const docLink = document.createElement('div');\n",
              "          docLink.innerHTML = docLinkHtml;\n",
              "          element.appendChild(docLink);\n",
              "        }\n",
              "      </script>\n",
              "    </div>\n",
              "  </div>\n",
              "  "
            ],
            "text/plain": [
              "                                                    text     nda  nda_cat\n",
              "0      ,,,,,iv reverse engineering work product recei...  nda-11        2\n",
              "1      5 confidential information form medium includi...  nda-16        6\n",
              "2      5 confidential information form medium includi...  nda-16        6\n",
              "3      4 nothing agreement construed granting recipie...  nda-15        5\n",
              "4      11 recipient shall advertise otherwise make pu...  nda-10        1\n",
              "...                                                  ...     ...      ...\n",
              "11156  23 provided recipient written agreement follow...   nda-5       14\n",
              "11157  23 provided recipient written agreement follow...   nda-5       14\n",
              "11158  recipient shall use confidential information s...   nda-4       13\n",
              "11159  recipient shall use confidential information s...   nda-4       13\n",
              "11160  recipient shall use confidential information s...   nda-4       13\n",
              "\n",
              "[11161 rows x 3 columns]"
            ]
          },
          "execution_count": 59,
          "metadata": {},
          "output_type": "execute_result"
        }
      ],
      "source": [
        "sentences = text_nda_df.text.values.tolist()\n",
        "\n",
        "text_nda_df[\"nda_cat\"] = text_nda_df[\"nda\"].astype('category').cat.codes\n",
        "text_nda_df"
      ]
    },
    {
      "cell_type": "code",
      "execution_count": null,
      "id": "11GRIMlMY8xe",
      "metadata": {
        "colab": {
          "base_uri": "https://localhost:8080/",
          "height": 424
        },
        "id": "11GRIMlMY8xe",
        "outputId": "53d07e2b-e58f-4fea-f40a-193f169a3898"
      },
      "outputs": [
        {
          "data": {
            "text/html": [
              "\n",
              "  <div id=\"df-ec66a9e6-ff4c-43ce-8b41-02915ade3f2b\">\n",
              "    <div class=\"colab-df-container\">\n",
              "      <div>\n",
              "<style scoped>\n",
              "    .dataframe tbody tr th:only-of-type {\n",
              "        vertical-align: middle;\n",
              "    }\n",
              "\n",
              "    .dataframe tbody tr th {\n",
              "        vertical-align: top;\n",
              "    }\n",
              "\n",
              "    .dataframe thead th {\n",
              "        text-align: right;\n",
              "    }\n",
              "</style>\n",
              "<table border=\"1\" class=\"dataframe\">\n",
              "  <thead>\n",
              "    <tr style=\"text-align: right;\">\n",
              "      <th></th>\n",
              "      <th>text</th>\n",
              "      <th>nda</th>\n",
              "      <th>nda_cat</th>\n",
              "    </tr>\n",
              "  </thead>\n",
              "  <tbody>\n",
              "    <tr>\n",
              "      <th>13</th>\n",
              "      <td>23 provided recipient written agreement follow...</td>\n",
              "      <td>nda-7</td>\n",
              "      <td>15</td>\n",
              "    </tr>\n",
              "    <tr>\n",
              "      <th>14</th>\n",
              "      <td>23 provided recipient written agreement follow...</td>\n",
              "      <td>nda-7</td>\n",
              "      <td>15</td>\n",
              "    </tr>\n",
              "    <tr>\n",
              "      <th>36</th>\n",
              "      <td>23 provided recipient written agreement follow...</td>\n",
              "      <td>nda-7</td>\n",
              "      <td>15</td>\n",
              "    </tr>\n",
              "    <tr>\n",
              "      <th>55</th>\n",
              "      <td>23 provided recipient written agreement follow...</td>\n",
              "      <td>nda-7</td>\n",
              "      <td>15</td>\n",
              "    </tr>\n",
              "    <tr>\n",
              "      <th>56</th>\n",
              "      <td>23 provided recipient written agreement follow...</td>\n",
              "      <td>nda-7</td>\n",
              "      <td>15</td>\n",
              "    </tr>\n",
              "    <tr>\n",
              "      <th>...</th>\n",
              "      <td>...</td>\n",
              "      <td>...</td>\n",
              "      <td>...</td>\n",
              "    </tr>\n",
              "    <tr>\n",
              "      <th>11144</th>\n",
              "      <td>23 provided recipient written agreement follow...</td>\n",
              "      <td>nda-7</td>\n",
              "      <td>15</td>\n",
              "    </tr>\n",
              "    <tr>\n",
              "      <th>11145</th>\n",
              "      <td>23 provided recipient written agreement follow...</td>\n",
              "      <td>nda-7</td>\n",
              "      <td>15</td>\n",
              "    </tr>\n",
              "    <tr>\n",
              "      <th>11146</th>\n",
              "      <td>23 provided recipient written agreement follow...</td>\n",
              "      <td>nda-7</td>\n",
              "      <td>15</td>\n",
              "    </tr>\n",
              "    <tr>\n",
              "      <th>11147</th>\n",
              "      <td>23 provided recipient written agreement follow...</td>\n",
              "      <td>nda-7</td>\n",
              "      <td>15</td>\n",
              "    </tr>\n",
              "    <tr>\n",
              "      <th>11148</th>\n",
              "      <td>23 provided recipient written agreement follow...</td>\n",
              "      <td>nda-7</td>\n",
              "      <td>15</td>\n",
              "    </tr>\n",
              "  </tbody>\n",
              "</table>\n",
              "<p>777 rows × 3 columns</p>\n",
              "</div>\n",
              "      <button class=\"colab-df-convert\" onclick=\"convertToInteractive('df-ec66a9e6-ff4c-43ce-8b41-02915ade3f2b')\"\n",
              "              title=\"Convert this dataframe to an interactive table.\"\n",
              "              style=\"display:none;\">\n",
              "        \n",
              "  <svg xmlns=\"http://www.w3.org/2000/svg\" height=\"24px\"viewBox=\"0 0 24 24\"\n",
              "       width=\"24px\">\n",
              "    <path d=\"M0 0h24v24H0V0z\" fill=\"none\"/>\n",
              "    <path d=\"M18.56 5.44l.94 2.06.94-2.06 2.06-.94-2.06-.94-.94-2.06-.94 2.06-2.06.94zm-11 1L8.5 8.5l.94-2.06 2.06-.94-2.06-.94L8.5 2.5l-.94 2.06-2.06.94zm10 10l.94 2.06.94-2.06 2.06-.94-2.06-.94-.94-2.06-.94 2.06-2.06.94z\"/><path d=\"M17.41 7.96l-1.37-1.37c-.4-.4-.92-.59-1.43-.59-.52 0-1.04.2-1.43.59L10.3 9.45l-7.72 7.72c-.78.78-.78 2.05 0 2.83L4 21.41c.39.39.9.59 1.41.59.51 0 1.02-.2 1.41-.59l7.78-7.78 2.81-2.81c.8-.78.8-2.07 0-2.86zM5.41 20L4 18.59l7.72-7.72 1.47 1.35L5.41 20z\"/>\n",
              "  </svg>\n",
              "      </button>\n",
              "      \n",
              "  <style>\n",
              "    .colab-df-container {\n",
              "      display:flex;\n",
              "      flex-wrap:wrap;\n",
              "      gap: 12px;\n",
              "    }\n",
              "\n",
              "    .colab-df-convert {\n",
              "      background-color: #E8F0FE;\n",
              "      border: none;\n",
              "      border-radius: 50%;\n",
              "      cursor: pointer;\n",
              "      display: none;\n",
              "      fill: #1967D2;\n",
              "      height: 32px;\n",
              "      padding: 0 0 0 0;\n",
              "      width: 32px;\n",
              "    }\n",
              "\n",
              "    .colab-df-convert:hover {\n",
              "      background-color: #E2EBFA;\n",
              "      box-shadow: 0px 1px 2px rgba(60, 64, 67, 0.3), 0px 1px 3px 1px rgba(60, 64, 67, 0.15);\n",
              "      fill: #174EA6;\n",
              "    }\n",
              "\n",
              "    [theme=dark] .colab-df-convert {\n",
              "      background-color: #3B4455;\n",
              "      fill: #D2E3FC;\n",
              "    }\n",
              "\n",
              "    [theme=dark] .colab-df-convert:hover {\n",
              "      background-color: #434B5C;\n",
              "      box-shadow: 0px 1px 3px 1px rgba(0, 0, 0, 0.15);\n",
              "      filter: drop-shadow(0px 1px 2px rgba(0, 0, 0, 0.3));\n",
              "      fill: #FFFFFF;\n",
              "    }\n",
              "  </style>\n",
              "\n",
              "      <script>\n",
              "        const buttonEl =\n",
              "          document.querySelector('#df-ec66a9e6-ff4c-43ce-8b41-02915ade3f2b button.colab-df-convert');\n",
              "        buttonEl.style.display =\n",
              "          google.colab.kernel.accessAllowed ? 'block' : 'none';\n",
              "\n",
              "        async function convertToInteractive(key) {\n",
              "          const element = document.querySelector('#df-ec66a9e6-ff4c-43ce-8b41-02915ade3f2b');\n",
              "          const dataTable =\n",
              "            await google.colab.kernel.invokeFunction('convertToInteractive',\n",
              "                                                     [key], {});\n",
              "          if (!dataTable) return;\n",
              "\n",
              "          const docLinkHtml = 'Like what you see? Visit the ' +\n",
              "            '<a target=\"_blank\" href=https://colab.research.google.com/notebooks/data_table.ipynb>data table notebook</a>'\n",
              "            + ' to learn more about interactive tables.';\n",
              "          element.innerHTML = '';\n",
              "          dataTable['output_type'] = 'display_data';\n",
              "          await google.colab.output.renderOutput(dataTable, element);\n",
              "          const docLink = document.createElement('div');\n",
              "          docLink.innerHTML = docLinkHtml;\n",
              "          element.appendChild(docLink);\n",
              "        }\n",
              "      </script>\n",
              "    </div>\n",
              "  </div>\n",
              "  "
            ],
            "text/plain": [
              "                                                    text    nda  nda_cat\n",
              "13     23 provided recipient written agreement follow...  nda-7       15\n",
              "14     23 provided recipient written agreement follow...  nda-7       15\n",
              "36     23 provided recipient written agreement follow...  nda-7       15\n",
              "55     23 provided recipient written agreement follow...  nda-7       15\n",
              "56     23 provided recipient written agreement follow...  nda-7       15\n",
              "...                                                  ...    ...      ...\n",
              "11144  23 provided recipient written agreement follow...  nda-7       15\n",
              "11145  23 provided recipient written agreement follow...  nda-7       15\n",
              "11146  23 provided recipient written agreement follow...  nda-7       15\n",
              "11147  23 provided recipient written agreement follow...  nda-7       15\n",
              "11148  23 provided recipient written agreement follow...  nda-7       15\n",
              "\n",
              "[777 rows x 3 columns]"
            ]
          },
          "execution_count": 60,
          "metadata": {},
          "output_type": "execute_result"
        }
      ],
      "source": [
        "text_nda_df[text_nda_df['nda_cat'] == 15]"
      ]
    },
    {
      "cell_type": "code",
      "execution_count": null,
      "id": "28JaQVR7Y-g_",
      "metadata": {
        "colab": {
          "base_uri": "https://localhost:8080/"
        },
        "id": "28JaQVR7Y-g_",
        "outputId": "3e4b9a76-3153-4da7-e051-727b41f80d6f"
      },
      "outputs": [
        {
          "data": {
            "text/plain": [
              "(11161, 44486)"
            ]
          },
          "execution_count": 61,
          "metadata": {},
          "output_type": "execute_result"
        }
      ],
      "source": [
        "from sklearn.feature_extraction.text import TfidfVectorizer\n",
        "from sklearn.model_selection import train_test_split\n",
        "from sklearn.feature_extraction.text import CountVectorizer\n",
        "from sklearn.feature_extraction.text import TfidfTransformer\n",
        "from sklearn.naive_bayes import MultinomialNB\n",
        "from sklearn.metrics import accuracy_score, f1_score, roc_auc_score\n",
        "from sklearn.ensemble import RandomForestClassifier\n",
        "from sklearn.svm import LinearSVC\n",
        "\n",
        "tfidf = TfidfVectorizer(sublinear_tf=True, min_df=5, norm='l2', encoding='latin-1', ngram_range=(1, 2), stop_words='english')\n",
        "features = tfidf.fit_transform(text_nda_df.text).toarray()\n",
        "labels = text_nda_df.nda_cat\n",
        "features.shape\n"
      ]
    },
    {
      "cell_type": "code",
      "execution_count": null,
      "id": "AAWOMU40ZAQ3",
      "metadata": {
        "id": "AAWOMU40ZAQ3"
      },
      "outputs": [],
      "source": [
        "x = text_nda_df['text'].values\n",
        "y = text_nda_df['nda_cat'].values"
      ]
    },
    {
      "cell_type": "code",
      "execution_count": null,
      "id": "3CJ6rxRbZCHp",
      "metadata": {
        "id": "3CJ6rxRbZCHp"
      },
      "outputs": [],
      "source": [
        "x_train, x_test, y_train, y_test = train_test_split(x, y, test_size = 0.33, random_state = 43)\n",
        "vectorizer = CountVectorizer()\n",
        "\n",
        "X_train_counts = vectorizer.fit_transform(x_train)\n",
        "\n",
        "tfidf_transformer = TfidfTransformer()\n",
        "X_train_tfidf = tfidf_transformer.fit_transform(X_train_counts)\n",
        "clf = MultinomialNB().fit(X_train_tfidf, y_train)"
      ]
    },
    {
      "cell_type": "code",
      "execution_count": null,
      "id": "3JvF_n7EZD5g",
      "metadata": {
        "id": "3JvF_n7EZD5g"
      },
      "outputs": [],
      "source": [
        "X_test_counts = vectorizer.fit_transform(x_test)\n",
        "X_test_tfidf = tfidf_transformer.fit_transform(X_test_counts)"
      ]
    },
    {
      "cell_type": "code",
      "execution_count": null,
      "id": "l0ZuJTL4ZFTA",
      "metadata": {
        "id": "l0ZuJTL4ZFTA"
      },
      "outputs": [],
      "source": [
        "y_pred_1 = clf.predict(X_test_counts)"
      ]
    },
    {
      "cell_type": "code",
      "execution_count": null,
      "id": "2xu4-bDHZG66",
      "metadata": {
        "colab": {
          "base_uri": "https://localhost:8080/"
        },
        "id": "2xu4-bDHZG66",
        "outputId": "f9b35c2e-24f1-4fba-de7b-e301568f2f4d"
      },
      "outputs": [
        {
          "name": "stdout",
          "output_type": "stream",
          "text": [
            "0.9337676438653637\n",
            "0.9117204349054779\n"
          ]
        }
      ],
      "source": [
        "print(accuracy_score(y_test, y_pred_1))\n",
        "print(f1_score(y_test, y_pred_1, average = 'weighted'))"
      ]
    },
    {
      "cell_type": "code",
      "execution_count": null,
      "id": "LJQGsgjmZIvl",
      "metadata": {
        "id": "LJQGsgjmZIvl"
      },
      "outputs": [],
      "source": [
        "from sklearn.ensemble import RandomForestClassifier\n",
        "from sklearn.svm import LinearSVC\n",
        "\n",
        "#X_train, X_test, y_train, y_test = train_test_split(x, y, test_size=0.33, random_state = 43)\n",
        "model2 = LinearSVC().fit(X_train_tfidf, y_train)\n",
        "y_pred_2 = model2.predict(X_test_counts)\n",
        "y_pred_2_train = model2.predict(X_train_counts)"
      ]
    },
    {
      "cell_type": "code",
      "execution_count": null,
      "id": "Ytf9W_Drcnt0",
      "metadata": {
        "colab": {
          "base_uri": "https://localhost:8080/"
        },
        "id": "Ytf9W_Drcnt0",
        "outputId": "e5b7388d-2b21-47c4-f1c4-c40141aa89f9"
      },
      "outputs": [
        {
          "name": "stdout",
          "output_type": "stream",
          "text": [
            "Test accuracy of LinearSVC() :  0.26384364820846906\n",
            "Train accuracy of LinearSVC() :  0.24809415540992377\n",
            "0.2079068147233715\n"
          ]
        }
      ],
      "source": [
        "print(\"Test accuracy of LinearSVC() : \", accuracy_score(y_test, y_pred_2))\n",
        "print(\"Train accuracy of LinearSVC() : \", accuracy_score(y_train, y_pred_2_train))\n",
        "print(f1_score(y_test, y_pred_2, average = 'weighted'))"
      ]
    },
    {
      "cell_type": "code",
      "execution_count": null,
      "id": "vFfiJf4lea3r",
      "metadata": {
        "colab": {
          "base_uri": "https://localhost:8080/"
        },
        "id": "vFfiJf4lea3r",
        "outputId": "356557a5-52b4-4e55-fda3-6289368e419d"
      },
      "outputs": [
        {
          "name": "stdout",
          "output_type": "stream",
          "text": [
            "Test accuracy of RandomForestClassifier() :  0.3469055374592834\n",
            "Train accuracy of RandomForestClassifier() :  0.3518790958940752\n",
            "0.22381521736582746\n"
          ]
        }
      ],
      "source": [
        "model3 = RandomForestClassifier(n_estimators=5000, \n",
        "                                max_depth=10, \n",
        "                                random_state=50,\n",
        "                                max_features='sqrt',\n",
        "                                criterion='entropy').fit(X_train_tfidf, y_train)\n",
        "y_pred_3 = model3.predict(X_test_counts)\n",
        "y_pred_3_train = model3.predict(X_train_counts)\n",
        "\n",
        "print(\"Test accuracy of RandomForestClassifier() : \", accuracy_score(y_test, y_pred_3))\n",
        "print(\"Train accuracy of RandomForestClassifier() : \", accuracy_score(y_train, y_pred_3_train))\n",
        "print(f1_score(y_test, y_pred_3, average = 'weighted'))"
      ]
    },
    {
      "cell_type": "code",
      "execution_count": null,
      "id": "zvl-aqQnjLRZ",
      "metadata": {
        "colab": {
          "base_uri": "https://localhost:8080/",
          "height": 178
        },
        "id": "zvl-aqQnjLRZ",
        "outputId": "4108ac31-459c-4fe4-b3bc-7205c743e704"
      },
      "outputs": [
        {
          "data": {
            "application/vnd.google.colaboratory.intrinsic+json": {
              "type": "string"
            },
            "text/plain": [
              "',,,,,iv reverse engineering work product receiving party shall reverseengineer analyze attempt duplicate otherwise attempt determine design method compiling samples prototypes products originating party except pursuant mutually acceptable written agreement executed parties,,,,,9 recipient agrees use confidential information transmitter part thereof design development manufacturing purposes purpose,,,4 receiving party undertakes term agreement period five 5 years date expiry termination,reversecompile reverseassemble reverseengineer confidential information part thereof unless directed disclosing party proven appropriate documentation,,,,,,,,,neither party shall without written approval party publish copy use confidential information sole benefit,,,,recipient must hold confidence disclose reproduce distribute transmit reverse engineer decompile disassemble transfer form means purpose confidential information portion,,,,,,,,,,vendor shall,v refrain reverse engineering decompiling disassembling software code disclosed ibc vendor terms agreement except expressly permitted applicable law,,receiving party may reverse engineer decompile disassemble software disclosed receiving party,,,,,,,,,,,confidant must reverse engineer decompile software included confidential information make unauthorised copies confidential information,recipient agrees copy reverse engineer attempt derive composition underlying information structure ideas confidential information,,,,,,,,,,,except otherwise expressly set forth agreement parties herein hold confidence disclose reproduce distribute transmit reverse engineer decompile disassemble transfer directly indirectly form means purpose trade secrets confidential information portion thereof,,,,party recipient decompile disassemble reverse engineer attempt reconstruct identify discover source code underlying ideas techniques algorithms confidential information means whatever except may specifically authorized advance discloser writing,42 confidential information disclosed disclosing party recipient otherwise comes knowledge recipient acknowledged recipient –,recipient irrevocably unconditionally agrees undertakes,434 decompile disassemble reverse engineer otherwise modify adapt alter vary whole part confidential information,,,,,,,,,,,,,,,recipient agrees modify adapt translate duplicate disassemble reverse assemble reverse compile reverse engineer take similar action respect software provided discloser connection agreement purpose otherwise attempt discover underlying source code software,,,,,extent party receives software programs party receiving party entitled carry reverse engineering software programs parts thereof utilize software programs purposes clearly evidently disclosed received,,,4 party shall hold trust confidence protect treat strictly secret confidential times information received party respect information party agrees,b shall keep secret shall use manipulate exploit information except purpose strict accordance purpose terms agreement,,25 recipient shall perform reverse engineering confidential information,particular event disclosing party provides computer software andor hardware recipient confidential information recipient may directly indirectly disassemble decrypt electronically scan decompile derive source code confidential information otherwise reverse engineer attempt reverse engineer design function confidential information,,,,,,,,,,,,,recipient agrees reverse engineer decompile disassemble prototypes software hardware tangible objects products provided hereunder embody confidential information discloser,,,,,,,,,,,,c recipient agrees shall alter modify adapt create derivative works translate deface decompile disassemble convert human readable form reverse engineer part materials provided access discloser,412 sp use except permitted 3 disclose divulge copy reproduce publish circulate reverse engineer andor decompile otherwise transfer whether directly indirectly confidential information party person entity sp shall take steps may reasonably necessary prevent fps confidential information failing hands unauthorised persons entities,2 party receiving proprietary information,shall reverse engineer decompile disassemble product hardware software received party,,,,,,,,,applicant shall use purposes reverse engineer disassemble decompile copy software objects embody confidential information transmit directly indirectly confidential information,,,,,,,,,,,,,,,,,,,without limitation foregoing prospective vendor shall cause permit reverse engineering proprietary information decompilation disassembly software programs part proprietary information,,,,,,,,,,,,,,,,,,,receiving party attempt determine content structure otherwise reverse engineer decompile material sample hardware software provided access pursuant agreement except expressly provided section 3 agreement,,,,,1 consideration disclosure proprietary information disclosing party receiving party hereby agrees,iv copy reverse engineer proprietary information,,,,,,,,receiving party shall,iv refrain reverse engineering decompiling disassembling software code andor prerelease hardware devices disclosed disclosing party receiving party terms agreement except expressly permitted applicable law,,,,,consideration foregoing exchange disclosure confidential information ihis company undertakes relation ihis confidential information,e copy reproduce reverse engineer reduce writing part thereof except may reasonably necessary purpose copies reproductions reductions writing made shall property ihis,3 participate systematic attempt recreate material memory following examination,neither affiliates alter decompose disassemble reverse engineer otherwise modify confidential information received hereunder relates research development intellectual property processes new product developments product designs formulae technical information patent information knowhow trade secrets company,,,,,,,,,,,,,,,,,,,,32 consideration provision right use samples petrolube agrees,321 analyze analyzed sample order determine chemical structure composition permit third parties,,receiving party directly indirectly attempt reverse engineer decrypt disassemble decompile decipher reconstruct reorient circuit design algorithms logic program code disclosing partys products models prototypes contain confidential information provided pursuant agreement,,,receiving party undertakes use confidential information research technical analysis reverse engineering andor exploit purpose commercial gains manner whatsoever,relation confidential information disclosing party receiving party undertakes,f reverse engineer disassemble decompile prototypes software tangible objects embody disclosing partys confidential information provided disclosing party,,,,,,participant may alter modify andor disassemble confidential information merge confidential information existing information databases unless expressly permitted purposes prior written approval kwsh,,,,,,,,,,,party receiving party agrees,e decompile disassemble reverse engineer part confidential information,recipient shall protect safeguard confidentiality confidential information least degree care recipient would protect confidential information event less commercially reasonable degree care use confidential information permit accessed used purpose purpose including without limitation reverse engineer disassemble decompile design around confidential intellectual property disclose confidential information person entity except recipients representatives need know confidential information relation purpose informed obligations hereunder agree abide,,,supplier shall decompile reverse engineer company products information resulting decompiling reverse engineering shall deemed confidential information company,recipient,iii agrees copy alter modify disassemble reverse engineer decompile materials unless permitted writing disclosing party copies authorized made identified belonging disclosing party marked confidential proprietary similar legend,,neither party shall attempt reverse engineer analyze disassemble cause reverse engineered analyzed disassembled product formulation process technology sample technology provided party either directly indirectly,,,,,,,,receiving party shall reverseengineer decompile disassemble software disclosed shall remove overprint deface notice copyright trademark logo legend notices ownership originals copies confidential information obtains disclosing party,,,,,,,,,,,4 furthermore receiving party also agrees following,take necessary measures ensure confidential information copied duplicated distributed reverse engineered reproduced manner except needed completion aforementioned project,,receiving party shall reverse engineer disassemble decompile prototypes software tangible objects embody disclosing partys confidential information provided receiving party hereunder,,,,,,,,8 receiving party maximum extent permitted applicable law refrain disassembling decompiling software otherwise attempting reverse engineer design function confidential information,,,,,,,,,,,,,,,,,,,,,,,,master distributor agrees copy reverse engineer disassemble decompile otherwise reproduce product equivalent whole part,,,,,,,,,,,,,,recipient may reverse engineer decompile disassemble product except extent restriction expressly prohibited applicable law,,,,,,,,24 recipient shall reverse engineer decompile disassemble confidential information products samples containing confidential information provided however recipient may examine formfactors products samples sole purpose internally evaluating,,,,,,,,,,,attempt disassemble otherwise reverse engineer confidential material recipient transfer confidential material company persons reason strictly prohibited,,,,,,,,parties shall make use reverse engineering processes techniques similar means obtain additional information company information disclosed otherwise obtained party material party access granted date first written,receiving party may reverse engineer decompile disassemble software disclosed receiving party,,,,,,,,,,,,pinetree shall copy duplicate replicate decompile reverse engineer manner whatsoever whether physically electronically writing otherwise whole part part proprietary information without prior written consent sti consent shall stis sole absolute discretion immediately notify sti writing unauthorized disclosure proprietary information,,receiving party shall,iv refrain reverse engineering decompiling disassembling software code andor prerelease hardware devices disclosed disclosing party receiving party terms agreement except expressly permitted applicable law,,,,,,,,,,,,,,,,,,,,,,receiving party shall reverseengineer decompile disassemble software disclosed agreement shall remove overprint change notice including ownership confidentiality originals copies confidential information,,neither party shall use confidential information received develop product service competes imitates products disclosing party engage reverse engineering develop similar products services using confidential information acknowledged understood parties engaged business beer brewing competing beer products regularly independently developed within beer industry using similar raw materials processes packaging,,,,,,,5 receiving party shall copy except reasonably required purpose alter modify disassemble reverse engineer decompile confidential information without prior written consent disclosing party,,,,,event may receiving party reverse engineer decompile disassemble evaluation materials,,neither party shall reverse engineer patent around directly indirectly commercially exploit confidential information party use benefit others,,,,,confidential information consists computer software disclosed object code form hardware device receiving party associates shall shall permit,associates party reverse engineer decompile reverse compile disassemble object code take steps derive source code equivalent thereof,,2 without prior written consent party except otherwise provided herein neither company xplore,b reverse engineer partys information,,,,,,,,,,,neither party shall reverse engineer disassemble decompile confidential information party prototypes software tangible objects embody confidential information party provided party hereunder,,,,,,,evaluation material includes software object code form receiving party shall shall permit party reverse engineer reverse compile disassemble object code take steps derive source code equivalent thereof,,,,,4 recipient agrees reverseengineer third party reverseengineer proprietary information without first obtaining express written consent discloser,,,recipient shall reverse engineer disassemble decompile prototypes software tangible objects embody companys confidential information provided recipient hereunder,,,,,,,,'"
            ]
          },
          "execution_count": 102,
          "metadata": {},
          "output_type": "execute_result"
        }
      ],
      "source": [
        "sentences = text_nda_df.text.values.tolist()\n",
        "sentences[0]"
      ]
    },
    {
      "cell_type": "code",
      "execution_count": 16,
      "id": "imfaalqOjN-S",
      "metadata": {
        "id": "imfaalqOjN-S"
      },
      "outputs": [],
      "source": [
        "test_string = \"iv reverse engineering work product receiving party shall reverseengineer analyze attempt. duplicate otherwise attempt determine design method compiling samples prototypes products originating party except pursuant mutually acceptable written agreement executed parties 9 recipient agrees use confidential information transmitter part thereof design development. manufacturing purposes purpose4 receiving party undertakes term agreement period five 5 years date expiry termination reversecompile reverseassemble reverseengineer confidential information part thereof unless directed disclosing party proven appropriate documentationneither party shall without written approval party publish copy use confidential information sole benefit recipient must hold confidence disclose reproduce distribute transmit reverse engineer decompile disassemble transfer form means purpose confidential information. portion vendor shallv refrain reverse engineering decompiling disassembling software code disclosed ibc vendor terms agreement except expressly permitted applicable lawd receiving party may reverse engineer decompile disassemble software disclosed receiving partythe. confidant must reverse engineer decompile software included confidential information make unauthorised copies confidential information recipient agrees copy reverse engineer attempt derive composition underlying information structure ideas confidential information except. otherwise expressly set forth agreement parties herein hold confidence disclose reproduce distribute transmit reverse engineer decompile. disassemble transfer directly indirectly form means purpose trade secrets confidential information portion thereof party recipient decompile. disassemble reverse engineer attempt reconstruct identify discover source code underlying ideas techniques algorithms confidential. information means whatever except may specifically authorized advance discloser writing42 confidential information disclosed disclosing party. recipient otherwise comes knowledge recipient acknowledged recipient –the recipient irrevocably unconditionally agrees undertakes434 decompile disassemble reverse engineer otherwise modify adapt alter vary whole part confidential informationrecipient agrees modify adapt translate duplicate disassemble reverse assemble reverse compile reverse engineer take similar action respect software provided discloser. connection agreement purpose otherwise attempt discover underlying source code softwareto extent party receives software programs party. receiving party entitled carry reverse engineering software programs parts thereof utilize software programs purposes clearly evidently disclosed received4 party shall hold trust confidence protect treat strictly secret confidential times information received party respect. information party agrees itb shall keep secret shall use manipulate exploit information except purpose strict accordance purpose terms agreement25 recipient shall perform reverse engineering confidential information particular event disclosing party provides computer software andor hardware recipient confidential information recipient may directly indirectly disassemble decrypt electronically. scan decompile derive source code confidential information otherwise reverse engineer attempt reverse engineer design function confidential informationrecipient agrees reverse engineer decompile disassemble prototypes software hardware tangible objects products. provided hereunder embody confidential information discloserc recipient agrees shall alter modify adapt create derivative works translate deface decompile disassemble convert human readable form reverse engineer part materials provided access discloser412 sp use except. permitted 3 disclose divulge copy reproduce publish circulate reverse engineer andor decompile otherwise transfer whether directly indirectly confidential information party person entity sp shall take steps may reasonably necessary prevent fps confidential information failing hands unauthorised persons entities2 party receiving proprietary informationd shall reverse engineer decompile disassemble product hardware software received partythe applicant shall use purposes reverse engineer disassemble decompile copy software objects embody confidential information transmit directly indirectly confidential informationwithout limitation foregoing prospective vendor shall cause permit reverse engineering proprietary information decompilation disassembly software programs part proprietary information receiving party attempt determine content structure otherwise reverse engineer decompile material sample hardware software provided access pursuant agreement except expressly provided section 3 agreement1 consideration disclosure proprietary information disclosing party receiving party hereby agrees iv copy reverse engineer proprietary information receiving party shalliv refrain reverse engineering decompiling disassembling software code andor prerelease hardware devices disclosed disclosing party receiving party terms agreement except expressly permitted applicable lawin consideration foregoing exchange disclosure confidential information ihis company undertakes relation ihis’ confidential informatione copy reproduce reverse engineer reduce writing part thereof except may reasonably necessary purpose copies reproductions reductions writing made shall property ihis3 participate systematic attempt recreate material memory following examinationneither affiliates alter decompose disassemble reverse engineer otherwise modify confidential information received hereunder relates research development intellectual property processes new product developments product designs formulae technical information patent information knowhow trade secrets company 32 consideration provision right use samples petrolube agrees321 analyze analyzed sample order determine chemical structure composition permit third parties samethe receiving party directly indirectly attempt reverse engineer decrypt disassemble decompile decipher reconstruct reorient circuit design algorithms logic program code disclosing party’s products models prototypes contain confidential information provided pursuant agreementthe receiving party undertakes use confidential information research technical analysis reverse engineering andor exploit purpose commercial gains manner whatsoeverin relation confidential information disclosing party receiving party undertakes f reverse engineer disassemble decompile prototypes software tangible objects embody disclosing partys confidential information provided disclosing partythe participant may alter modify andor disassemble confidential information merge confidential information existing information databases unless expressly permitted purposes prior written approval kwsheach party receiving party agrees wille decompile disassemble reverse engineer part confidential informationthe recipient shall protect safeguard confidentiality confidential information least degree care recipient would protect confidential information event less commercially reasonable degree care use confidential information permit accessed used purpose purpose including without limitation reverse engineer disassemble decompile design around confidential intellectual property disclose confidential information person entity except recipients representatives need know confidential information relation purpose informed obligations hereunder agree abide supplier shall decompile reverse engineer company products information resulting decompiling reverse engineering shall deemed confidential information companythe recipient iii agrees copy alter modify disassemble reverse engineer decompile materials unless permitted writing disclosing party copies authorized made identified belonging disclosing party marked confidential proprietary similar legend neither party shall attempt reverse engineer analyze disassemble cause reverse engineered analyzed disassembled product formulation process technology sample technology provided party either directly indirectly receiving party shall reverseengineer decompile disassemble software disclosed shall remove overprint deface notice copyright trademark logo legend notices ownership originals copies confidential information obtains disclosing party4 furthermore receiving party also agrees followingthat take necessary measures ensure confidential information copied duplicated distributed reverse engineered reproduced manner except needed completion aforementioned projectthe receiving party shall reverse engineer disassemble decompile prototypes software tangible objects embody disclosing party’s confidential information provided receiving party hereunder8 receiving party maximum extent permitted applicable law refrain disassembling decompiling software otherwise attempting reverse engineer design function confidential information master distributor agrees copy reverse engineer disassemble decompile otherwise reproduce product equivalent whole partrecipient may reverse engineer decompile disassemble product except extent restriction expressly prohibited applicable law 24 recipient shall reverse engineer decompile disassemble confidential information products samples containing confidential information provided however recipient may examine formfactors products samples sole purpose internally evaluating attempt disassemble otherwise reverse engineer confidential material recipient transfer confidential material company persons reason strictly prohibitedthe parties shall make use reverse engineering processes techniques similar means obtain additional information company information disclosed otherwise obtained party material party access granted date first writtend receiving party may reverse engineer decompile disassemble software disclosed receiving partypinetree shall copy duplicate replicate decompile reverse engineer manner whatsoever whether physically electronically writing otherwise whole part part proprietary information without prior written consent sti consent shall stis sole absolute discretion immediately notify sti writing unauthorized disclosure proprietary information receiving party shalliv refrain reverse engineering decompiling disassembling software code andor prerelease hardware devices disclosed disclosing party receiving party terms agreement except expressly permitted applicable lawreceiving party shall reverseengineer decompile disassemble software disclosed agreement shall remove overprint change notice including ownership confidentiality originals copies confidential informationneither party shall use confidential information received develop product service competes imitates products disclosing party engage reverse engineering develop similar products services using confidential information acknowledged understood parties engaged business beer brewing competing beer products regularly independently developed within beer industry using similar raw materials processes packaging 5 receiving party shall copy except reasonably required purpose alter modify disassemble reverse engineer decompile confidential information without prior written consent disclosing party event may receiving party reverse engineer decompile disassemble evaluation materials neither party shall reverse engineer patent around directly indirectly commercially exploit confidential information party use benefit others confidential information consists computer software disclosed object code form hardware device receiving party associates shall shall permit associates party reverse engineer decompile reverse compile disassemble object code take steps derive source code equivalent thereof2 without prior written consent party except otherwise provided herein neither company xplore b reverse engineer party’s information neither party shall reverse engineer disassemble decompile confidential information party prototypes software tangible objects embody confidential information party provided party hereunder evaluation material includes software object code form receiving party shall shall permit party reverse engineer reverse compile disassemble object code take steps derive source code equivalent thereof4 recipient agrees reverseengineer third party reverseengineer proprietary information without first obtaining express written consent discloserrecipient shall reverse engineer disassemble decompile prototypes software tangible objects embody company’s confidential information provided recipient hereunder\""
      ]
    },
    {
      "cell_type": "code",
      "execution_count": null,
      "id": "JVT__MPAj0ZA",
      "metadata": {
        "colab": {
          "base_uri": "https://localhost:8080/"
        },
        "id": "JVT__MPAj0ZA",
        "outputId": "d2db6e0e-5c79-490a-cf8b-9ffc3858466d"
      },
      "outputs": [
        {
          "name": "stdout",
          "output_type": "stream",
          "text": [
            "[1]\n"
          ]
        }
      ],
      "source": [
        "print(model3.predict(vectorizer.transform([test_string])))"
      ]
    },
    {
      "cell_type": "code",
      "execution_count": null,
      "id": "AGQnyan7ljOK",
      "metadata": {
        "colab": {
          "base_uri": "https://localhost:8080/",
          "height": 280
        },
        "id": "AGQnyan7ljOK",
        "outputId": "f9fdfc6e-c249-49c7-936d-8730d4ae0b12"
      },
      "outputs": [
        {
          "data": {
            "image/png": "[encoded data removed]",
            "text/plain": [
              "<Figure size 432x288 with 1 Axes>"
            ]
          },
          "metadata": {
            "needs_background": "light"
          },
          "output_type": "display_data"
        }
      ],
      "source": [
        "from sklearn.model_selection import cross_val_score\n",
        "\n",
        "entries = []\n",
        "\n",
        "models = [clf, model3]\n",
        "mod_1 = [clf, model2, model3]\n",
        "\n",
        "for model in mod_1:\n",
        "  model_name = model.__class__.__name__\n",
        "  accuracies = cross_val_score(model, X_train_tfidf, y_train, scoring='accuracy', cv=5)\n",
        "  for fold_idx, accuracy in enumerate(accuracies):\n",
        "    entries.append((model_name, fold_idx, accuracy))\n",
        "cv_df = pd.DataFrame(entries, columns=['model_name', 'fold_idx', 'accuracy'])\n",
        "sns.boxplot(x='model_name', y='accuracy', data=cv_df)\n",
        "sns.stripplot(x='model_name', y='accuracy', data=cv_df, \n",
        "              size=8, jitter=True, edgecolor=\"gray\", linewidth=2)\n",
        "plt.show()"
      ]
    },
    {
      "cell_type": "code",
      "execution_count": null,
      "id": "oNBhSIXgt0gG",
      "metadata": {
        "colab": {
          "base_uri": "https://localhost:8080/"
        },
        "id": "oNBhSIXgt0gG",
        "outputId": "61f59571-19f0-43ca-c113-4e3dcf6f7609"
      },
      "outputs": [
        {
          "data": {
            "text/plain": [
              "[('MultinomialNB', 0, 0.9351604278074866),\n",
              " ('MultinomialNB', 1, 0.9351604278074866),\n",
              " ('MultinomialNB', 2, 0.9357859531772575),\n",
              " ('MultinomialNB', 3, 0.9357859531772575),\n",
              " ('MultinomialNB', 4, 0.9357859531772575),\n",
              " ('RandomForestClassifier', 0, 0.8669786096256684),\n",
              " ('RandomForestClassifier', 1, 0.8669786096256684),\n",
              " ('RandomForestClassifier', 2, 0.9150501672240803),\n",
              " ('RandomForestClassifier', 3, 0.8675585284280937),\n",
              " ('RandomForestClassifier', 4, 0.8675585284280937)]"
            ]
          },
          "execution_count": 122,
          "metadata": {},
          "output_type": "execute_result"
        }
      ],
      "source": [
        "entries"
      ]
    },
    {
      "cell_type": "code",
      "execution_count": null,
      "id": "0c5UqiROt07e",
      "metadata": {
        "colab": {
          "base_uri": "https://localhost:8080/",
          "height": 280
        },
        "id": "0c5UqiROt07e",
        "outputId": "ca1b299d-396e-4de2-fa39-d97412cc4d11"
      },
      "outputs": [
        {
          "data": {
            "image/png": "[encoded data removed]",
            "text/plain": [
              "<Figure size 432x288 with 1 Axes>"
            ]
          },
          "metadata": {
            "needs_background": "light"
          },
          "output_type": "display_data"
        }
      ],
      "source": [
        "from sklearn.model_selection import cross_val_score\n",
        "\n",
        "entries = []\n",
        "\n",
        "models = [clf, model3]\n",
        "mod_1 = [clf, model2, model3]\n",
        "\n",
        "for model in mod_1:\n",
        "  model_name = model.__class__.__name__\n",
        "  accuracies = cross_val_score(model, X_train_tfidf, y_train, scoring='accuracy', cv=5)\n",
        "  for fold_idx, accuracy in enumerate(accuracies):\n",
        "    entries.append((model_name, fold_idx, accuracy))\n",
        "cv_df = pd.DataFrame(entries, columns=['model_name', 'fold_idx', 'accuracy'])\n",
        "sns.boxplot(x='model_name', y='accuracy', data=cv_df)\n",
        "sns.stripplot(x='model_name', y='accuracy', data=cv_df, \n",
        "              size=8, jitter=True, edgecolor=\"gray\", linewidth=2)\n",
        "plt.show()"
      ]
    },
    {
      "cell_type": "code",
      "execution_count": null,
      "id": "_llsicI8xjmV",
      "metadata": {
        "colab": {
          "base_uri": "https://localhost:8080/"
        },
        "id": "_llsicI8xjmV",
        "outputId": "61123e52-5e1a-4aa2-c0bc-18793b692825"
      },
      "outputs": [
        {
          "data": {
            "text/plain": [
              "[('MultinomialNB', 0, 0.9351604278074866),\n",
              " ('MultinomialNB', 1, 0.9351604278074866),\n",
              " ('MultinomialNB', 2, 0.9357859531772575),\n",
              " ('MultinomialNB', 3, 0.9357859531772575),\n",
              " ('MultinomialNB', 4, 0.9357859531772575),\n",
              " ('LinearSVC', 0, 1.0),\n",
              " ('LinearSVC', 1, 1.0),\n",
              " ('LinearSVC', 2, 1.0),\n",
              " ('LinearSVC', 3, 1.0),\n",
              " ('LinearSVC', 4, 1.0),\n",
              " ('RandomForestClassifier', 0, 0.8669786096256684),\n",
              " ('RandomForestClassifier', 1, 0.8669786096256684),\n",
              " ('RandomForestClassifier', 2, 0.9150501672240803),\n",
              " ('RandomForestClassifier', 3, 0.8675585284280937),\n",
              " ('RandomForestClassifier', 4, 0.8675585284280937)]"
            ]
          },
          "execution_count": 127,
          "metadata": {},
          "output_type": "execute_result"
        }
      ],
      "source": [
        "entries"
      ]
    },
    {
      "cell_type": "code",
      "execution_count": 49,
      "id": "ITjLDpndxkS3",
      "metadata": {
        "id": "ITjLDpndxkS3"
      },
      "outputs": [],
      "source": [
        "def summarize(text, sentences_count):\n",
        "    LANGUAGE = \"english\"\n",
        "\n",
        "    print('Original String Length: ', len(test_string))\n",
        "\n",
        "    parser = PlaintextParser.from_string(test_string, Tokenizer(LANGUAGE))\n",
        "    stemmer = Stemmer(LANGUAGE)\n",
        "\n",
        "    summarizer = Summarizer(stemmer)\n",
        "\n",
        "    summarized_length = 0\n",
        "    for sentence in summarizer(parser.document, sentences_count):\n",
        "        summarized_length += len(str(sentence))\n",
        "        print(sentence)\n",
        "    print('Summarized Text Length: ', summarized_length)\n"
      ]
    },
    {
      "cell_type": "code",
      "execution_count": 53,
      "id": "3481a568",
      "metadata": {},
      "outputs": [
        {
          "data": {
            "text/plain": [
              "\"NON-DISCLOSURE AND CONFIDENTIALITY AGREEMENT\\nThis NON-DISCLOSURE AND CONFIDENTIALITY AGREEMENT (“Agreement”) is made by and between:\\n(i) the Office of the United Nations High Commissioner for Refugees, having its headquarters located at 94 rue de Montbrillant, 1202 Geneva, Switzerland (hereinafter “UNHCR” or the “Discloser”); and\\n(ii) ________________________ , a company established in accordance with the laws of ________________________ and having its principal offices located at ________________________________________________ (hereinafter the “Bidder” or the “Recipient”).\\nThe Discloser and Recipient are also referred to collectively as the “Parties” and individually as a “Party”.\\nRECITALS\\nWHEREAS in connection with RFP/2014/620, Request for Proposal for the provision Off-the-shelf Soft-skill, IT Online and HR specific E-learning Courses (the “RFP”), it is advantageous to share certain data and information with the Bidder participating in the RFP;\\nWHEREAS UNHCR agrees to provide such data and information to the Bidder for the sole purpose of preparing its Proposal under said RFP;\\nWHEREAS the Bidder is willing to ensure that UNHCR’s data and information will be held in strict confidence and only used for the permitted purpose;\\nNOW, THEREFORE, the Parties agree as follows:\\n1. “Confidential Information”, whenever used in this Agreement, shall mean any data, document, specification and other information or material, that is delivered or disclosed by UNHCR to the Recipient in any form whatsoever, whether orally, visually in writing or otherwise (including computerized form), and that, at the time of disclosure to the Recipient, is designated as confidential.\\n2. The Confidential Information that is delivered or otherwise disclosed by the Discloser to the Recipient shall be held in trust and confidence by the Recipient and shall be handled as follows:\\n2.1 The Recipient shall use the same care and discretion to avoid disclosure, publication or dissemination of the Confidential Information as it uses with its own similar information that it does not wish to disclose, publish or disseminate;\\n2.2 The Recipient shall use the Confidential Information solely for the purpose for which it was disclosed;\\n2.3 Provided that the Recipient has a written agreement with the following persons or entities requiring them to treat the Confidential Information in accordance with this Agreement, the Recipient may disclose the Confidential Information to:\\n2.3.1 Any other party with the Discloser’s prior written consent; and\\n2.3.2 the Recipient’s employees, officials, representatives and agents who have a strict need to know the contents of the Confidential Information, and employees, officials, representatives and agents of any legal entity that it controls, controls it, or with which it is under common control, who have a similar need to know the contents of the Confidential Information, provided that, for these purposes a controlled legal entity means:\\n2.3.2.1 a corporate entity in which the Party owns or otherwise controls, whether directly or indirectly, over fifty percent (50%) of voting shares thereof; or,\\n2.3.2.2 any entity over which the Party exercises effective managerial control; or,\\n2.3.2.3 for UNHCR, a principal or subsidiary organ of the United Nations established in accordance with the Charter of the United Nations.\\n2.4 The Recipient may disclose the Confidential Information to the extent required by law, provided that, subject to and without any waiver of the privileges and immunities of UNHCR, the Recipient will give UNHCR sufficient prior notice of a request for the disclosure of the Confidential Information in order to allow UNHCR to have a reasonable opportunity to take protective measures or such other action as may be appropriate before any such disclosure is made.\\n2.5 The Recipient shall not be precluded from disclosing the Confidential Information that is (i) obtained by the Recipient without restriction from a third party who is not in breach of any obligation as to confidentiality to the owner of such Confidential Information or any other person, or (ii) disclosed by the Discloser to a third party without any obligation of confidentiality, or (iii) previously known by the Recipient, or (iv) at any time is developed by the Recipient completely independently of any disclosures hereunder.\\n2.6 The Recipient will not copy or reproduce the Confidential Information except as reasonably required for the purposes contemplated in this Agreement, and will ensure that any confidentiality or other proprietary rights notices on the Confidential Information are reproduced on all copies.\\n3. The Recipient acknowledges that UNHCR hereto makes no any representation or warranty, express or implied, as to the accuracy or completeness of the Confidential Information.\\n4. Nothing in this Agreement is to be construed as granting the Recipient, by implication or otherwise, any right whatsoever with respect to the Confidential Information or part thereof.\\n5. All Confidential Information in any form and any medium, including all copies thereof, disclosed to the Recipient shall be returned to UNHCR or destroyed: (a) if a business relationship is not entered into with UNHCR on or before the date which is three (3) months after the date both Parties have signed the Agreement; or (b) promptly upon request by the UNHCR at any time.\\n6. The Recipient agrees to indemnify UNHCR in respect of any expenses, losses, damages, costs, claims or liability UNHCR may suffer or incur as a result of an act or omission by the Recipient or its employees, consultants and agents in connection with the Confidential Information and the Recipient’s obligations under this Agreement.\\n7. Nothing in this Agreement shall be construed as obligating any Party to continue any discussions or to enter into a business relationship.\\n8. This Agreement shall enter into force on the date it is signed by both Parties. Either Party may terminate the working relationship contemplated by this Agreement by providing written notice to the other, provided, however, that the obligations and restrictions hereunder regarding the Confidential Information shall remain effective following any such termination or any other termination or expiration of this Agreement.\\n9. Any dispute, controversy or claim between the Parties arising out of, this Agreement or the breach, termination or invalidity thereof, unless settled amicably within twenty (20) days after receipt by one Party of the other Party's request for such amicable settlement, shall be referred by either Party to arbitration in accordance with the UNCITRAL Arbitration Rules then obtaining, including provisions on applicable law. The arbitral tribunal shall have no authority to award punitive damages. In addition, unless otherwise expressly provided in this Agreement, the arbitral tribunal shall have no authority to award interest. The Parties shall be bound by any arbitration award rendered as a result of such arbitration as the final adjudication of any such controversy, claim or dispute.\\n10. Nothing in or relating to this Agreement shall be deemed a waiver, express or implied, of any of the privileges and immunities of the United Nations, including UNHCR as its subsidiary organ.\\n11. The Recipient shall not advertise or otherwise make public the fact that it has a confidential relationship with UNHCR, nor shall the Recipient, in any manner whatsoever use the name, emblem, or official seal of the United Nations or UNHCR, or any abbreviation of the name of the United Nations or UNHCR in connection with its business or otherwise.\\n12. If any provision of this Agreement shall be held to be invalid, illegal or unenforceable, the validity, legality and enforceability of the remaining provisions shall not in any way be affected or impaired.\\n13. This Agreement constitutes the entire agreement concerning the subject matter hereof above and supersedes all prior representations, agreements and understandings, whether written or oral, by and between the Parties on the subject hereof.\\n14. The Parties acknowledge and agree that their representatives who have signed this Agreement had full authority to do so and to fully bind the Party being represented by doing so.\\nIN WITNESS WHEREOF, the Parties, acting through their authorized representatives, have caused this Agreement to be signed on the dates set forth below:\\nFor and on behalf of UNHCR: For and on behalf of the Bidder:\\n________________________ ________________________\\n Name: Name:\\nTitle: Title:\\n Date: Date:\\n\""
            ]
          },
          "execution_count": 53,
          "metadata": {},
          "output_type": "execute_result"
        }
      ],
      "source": [
        "main_df['text'][0]"
      ]
    },
    {
      "cell_type": "code",
      "execution_count": 54,
      "id": "a5cd283c",
      "metadata": {},
      "outputs": [
        {
          "name": "stdout",
          "output_type": "stream",
          "text": [
            "8585\n",
            "“Confidential Information”, whenever used in this Agreement, shall mean any data, document, specification and other information or material, that is delivered or disclosed by UNHCR to the Recipient in any form whatsoever, whether orally, visually in writing or otherwise (including computerized form), and that, at the time of disclosure to the Recipient, is designated as confidential.\n",
            "Nothing in this Agreement is to be construed as granting the Recipient, by implication or otherwise, any right whatsoever with respect to the Confidential Information or part thereof.\n",
            "This Agreement shall enter into force on the date it is signed by both Parties.\n",
            "The Parties shall be bound by any arbitration award rendered as a result of such arbitration as the final adjudication of any such controversy, claim or dispute.\n",
            "The Parties acknowledge and agree that their representatives who have signed this Agreement had full authority to do so and to fully bind the Party being represented by doing so.\n",
            "Summarized_length:  987\n"
          ]
        }
      ],
      "source": [
        "summarize(main_df['text'][0], 5)"
      ]
    }
  ],
  "metadata": {
    "colab": {
      "collapsed_sections": [
        "15e7b348"
      ],
      "provenance": []
    },
    "kernelspec": {
      "display_name": "base",
      "language": "python",
      "name": "python3"
    },
    "language_info": {
      "codemirror_mode": {
        "name": "ipython",
        "version": 3
      },
      "file_extension": ".py",
      "mimetype": "text/x-python",
      "name": "python",
      "nbconvert_exporter": "python",
      "pygments_lexer": "ipython3",
      "version": "3.9.13"
    },
    "vscode": {
      "interpreter": {
        "hash": "eb9ad335c66227b9ea246eb2b1a069405ade6203a28933487ae2a9fe3e2bf479"
      }
    }
  },
  "nbformat": 4,
  "nbformat_minor": 5
}
